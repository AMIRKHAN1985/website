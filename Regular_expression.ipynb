{
  "nbformat": 4,
  "nbformat_minor": 0,
  "metadata": {
    "colab": {
      "name": "Regular expression.ipynb",
      "provenance": [],
      "collapsed_sections": []
    },
    "kernelspec": {
      "name": "python3",
      "display_name": "Python 3"
    }
  },
  "cells": [
    {
      "cell_type": "markdown",
      "metadata": {
        "id": "bm6LSmtRJ1XP"
      },
      "source": [
        "# **Regular Expression**"
      ]
    },
    {
      "cell_type": "markdown",
      "metadata": {
        "id": "Cacd-SgAJ5cE"
      },
      "source": [
        "<p align=\"justify\">A RegEx, or Regular Expression, is a sequence of characters that forms a search pattern.\n",
        "\n",
        "<p align=\"justify\">RegEx can be used to check if a string contains the specified search pattern.\n",
        "\n",
        "<p align=\"justify\">A regular expression in a programming language is a special text string used for describing a search pattern. It is extremely useful for extracting information from text such as code, files, log, spreadsheets or even documents."
      ]
    },
    {
      "cell_type": "markdown",
      "metadata": {
        "id": "cliPb2sFLCDf"
      },
      "source": [
        "# **re module**"
      ]
    },
    {
      "cell_type": "markdown",
      "metadata": {
        "id": "AbXcuHwwK17l"
      },
      "source": [
        "<p align=\"justify\">Regular expression is denoted as RE (REs, regexes or regex pattern) are imported through re module. Python supports regular expression through libraries. In Python regular expression supports various things like Modifiers, Identifiers, and White space characters.\n"
      ]
    },
    {
      "cell_type": "markdown",
      "metadata": {
        "id": "ottnGnigMMN4"
      },
      "source": [
        "![alt text](https://i.imgur.com/KmCtFLP.png)"
      ]
    },
    {
      "cell_type": "markdown",
      "metadata": {
        "id": "42B5auV0Ogd4"
      },
      "source": [
        "# **Regular expression methods:**"
      ]
    },
    {
      "cell_type": "markdown",
      "metadata": {
        "id": "zoAX0HMMOk5V"
      },
      "source": [
        "# **a).match()**"
      ]
    },
    {
      "cell_type": "markdown",
      "metadata": {
        "id": "GtUcGWA-OwiH"
      },
      "source": [
        "<p align=\"justify\">This method, is used to return match string if match string present at starting of given string other was it will return None.It will return match object so need to use group() to extract data i.e  actual match string and use span()  for indentation position of that match string other wise it will return error( AttributeError: 'NoneType' object has no attribute 'group/span' )."
      ]
    },
    {
      "cell_type": "markdown",
      "metadata": {
        "id": "vvxxwSt3f5aF"
      },
      "source": [
        "Syntax:\n",
        "\n",
        "re.match(pattern, string, flags=0)"
      ]
    },
    {
      "cell_type": "code",
      "metadata": {
        "id": "9smbYZ8fQF9X",
        "colab": {
          "base_uri": "https://localhost:8080/",
          "height": 35
        },
        "outputId": "1e8d4d1e-2f96-4e40-960c-fa1ecb7d122b"
      },
      "source": [
        "import re\n",
        "string=\"harry is good boy,harry work in infy\"\n",
        "pattern=\"harry\"\n",
        "print(re.match(pattern,string))"
      ],
      "execution_count": null,
      "outputs": [
        {
          "output_type": "stream",
          "text": [
            "<_sre.SRE_Match object; span=(0, 5), match='harry'>\n"
          ],
          "name": "stdout"
        }
      ]
    },
    {
      "cell_type": "code",
      "metadata": {
        "id": "m-bcc8aWJkd0",
        "colab": {
          "base_uri": "https://localhost:8080/",
          "height": 35
        },
        "outputId": "9f68d3ee-a01d-4a52-f215-8323c4f7d9c1"
      },
      "source": [
        "import re\n",
        "string=\"harry is good boy,harry work in infy\"\n",
        "pattern=\"harry\"\n",
        "print(re.match(pattern,string).group())\n"
      ],
      "execution_count": null,
      "outputs": [
        {
          "output_type": "stream",
          "text": [
            "harry\n"
          ],
          "name": "stdout"
        }
      ]
    },
    {
      "cell_type": "code",
      "metadata": {
        "id": "sdCmuIEJUKr-",
        "colab": {
          "base_uri": "https://localhost:8080/",
          "height": 35
        },
        "outputId": "0171bee0-2b98-4366-f6ce-29ec1a802335"
      },
      "source": [
        "import re\n",
        "string=\"harry is good boy,harry work in infy\"\n",
        "pattern=\"Harry\"\n",
        "print(re.match(pattern,string))\n"
      ],
      "execution_count": null,
      "outputs": [
        {
          "output_type": "stream",
          "text": [
            "None\n"
          ],
          "name": "stdout"
        }
      ]
    },
    {
      "cell_type": "code",
      "metadata": {
        "id": "PGU2m1rhPnJd",
        "colab": {
          "base_uri": "https://localhost:8080/",
          "height": 35
        },
        "outputId": "4506559e-14d7-4466-df91-3680808634a0"
      },
      "source": [
        "import re\n",
        "string=\"harry is good boy,harry work in infy\"\n",
        "pattern=\"harry\"\n",
        "print(re.match(pattern,string).span())\n"
      ],
      "execution_count": null,
      "outputs": [
        {
          "output_type": "stream",
          "text": [
            "(0, 5)\n"
          ],
          "name": "stdout"
        }
      ]
    },
    {
      "cell_type": "code",
      "metadata": {
        "id": "ZMbFHtRjga9O",
        "colab": {
          "base_uri": "https://localhost:8080/",
          "height": 35
        },
        "outputId": "47376c6a-f8ea-4e7c-811d-70f71c89c5bf"
      },
      "source": [
        "import re\n",
        "string=\"harry is good boy,harry work in infy\"\n",
        "pattern=\"Harry\"\n",
        "print(re.match(pattern,string,flags=re.IGNORECASE).group())\n"
      ],
      "execution_count": null,
      "outputs": [
        {
          "output_type": "stream",
          "text": [
            "harry\n"
          ],
          "name": "stdout"
        }
      ]
    },
    {
      "cell_type": "code",
      "metadata": {
        "id": "B6qfj-Z9P1lo",
        "colab": {
          "base_uri": "https://localhost:8080/",
          "height": 35
        },
        "outputId": "20bd7bea-6e58-4c6f-ffc9-6dddd46bac6d"
      },
      "source": [
        "import re\n",
        "txt=\"123harry is good boy,harry work in infy\"\n",
        "a=\"harry\"\n",
        "print(re.match(a,txt))\n"
      ],
      "execution_count": null,
      "outputs": [
        {
          "output_type": "stream",
          "text": [
            "None\n"
          ],
          "name": "stdout"
        }
      ]
    },
    {
      "cell_type": "markdown",
      "metadata": {
        "id": "oTjgr4rxQMxX"
      },
      "source": [
        "# **b).search()**"
      ]
    },
    {
      "cell_type": "markdown",
      "metadata": {
        "id": "yIi-x5qCQZME"
      },
      "source": [
        "<p align=\"justify\">This method, is used to return only one time match string if match string present anywhere in given string any no. of times, otherwise it will return None. It will return match object so need to use group () to extract data i.e actual match string and use span() for indentation position of that match string ,other was it will return error( AttributeError: 'NoneType' object has no attribute 'group/span' ).\n",
        "\n",
        "\n",
        "\n"
      ]
    },
    {
      "cell_type": "markdown",
      "metadata": {
        "id": "sz2YoNobfKc2"
      },
      "source": [
        "Syntax:\n",
        "\n",
        "re.search(pattern, string, flags=0)"
      ]
    },
    {
      "cell_type": "code",
      "metadata": {
        "id": "VbtxzVU7QVxd",
        "colab": {
          "base_uri": "https://localhost:8080/",
          "height": 35
        },
        "outputId": "b28f78ac-00fb-4a13-a980-e06ba192a420"
      },
      "source": [
        "import re\n",
        "string=\"123harry is good boy harry work in infy\"\n",
        "pattern=\"harry\"\n",
        "print(re.search(pattern,string).span())\n"
      ],
      "execution_count": null,
      "outputs": [
        {
          "output_type": "stream",
          "text": [
            "(3, 8)\n"
          ],
          "name": "stdout"
        }
      ]
    },
    {
      "cell_type": "code",
      "metadata": {
        "id": "Gi0ENW5kRFsp",
        "colab": {
          "base_uri": "https://localhost:8080/",
          "height": 35
        },
        "outputId": "38bcc406-afa1-4779-f57b-ea8f548bc288"
      },
      "source": [
        "import re\n",
        "string=\"123harry is good boy harry work in infy\"\n",
        "pattern=\"harry\"\n",
        "print(re.search(pattern,string).group())\n"
      ],
      "execution_count": null,
      "outputs": [
        {
          "output_type": "stream",
          "text": [
            "harry\n"
          ],
          "name": "stdout"
        }
      ]
    },
    {
      "cell_type": "markdown",
      "metadata": {
        "id": "6H9u452yZyZ8"
      },
      "source": [
        "# **c).findall()**"
      ]
    },
    {
      "cell_type": "markdown",
      "metadata": {
        "id": "re-qIQKAaGRP"
      },
      "source": [
        "<p align=\"justify\">This method, is used to return match string as a list with values, if match string present anywhere in given string any times (non-overlapping).\n",
        "\n",
        "<p align=\"justify\">group () and span() is not used because it return a list instead of object so data is already extracted."
      ]
    },
    {
      "cell_type": "markdown",
      "metadata": {
        "id": "q44qDYw8ect9"
      },
      "source": [
        "Syntax:\n",
        "\n",
        "re.findall(pattern, string, flags=0)"
      ]
    },
    {
      "cell_type": "code",
      "metadata": {
        "id": "iW03U02OaCJ8",
        "colab": {
          "base_uri": "https://localhost:8080/",
          "height": 35
        },
        "outputId": "bf4ae630-5c43-4e32-be9d-eeb1c013bb4f"
      },
      "source": [
        "import re\n",
        "string=\"123harry is good boy and harry play football\"\n",
        "pattern=\"harry\"\n",
        "print(re.findall(pattern,string))\n"
      ],
      "execution_count": null,
      "outputs": [
        {
          "output_type": "stream",
          "text": [
            "['harry', 'harry']\n"
          ],
          "name": "stdout"
        }
      ]
    },
    {
      "cell_type": "code",
      "metadata": {
        "id": "romxOz_vevik",
        "colab": {
          "base_uri": "https://localhost:8080/",
          "height": 35
        },
        "outputId": "1f2b6f99-f482-422a-9e30-219dd4c8dcd6"
      },
      "source": [
        "import re\n",
        "string=\"123harry is good boy and harry play football\"\n",
        "pattern=\"HARRY\"\n",
        "print(re.findall(pattern,string,flags=re.IGNORECASE))"
      ],
      "execution_count": null,
      "outputs": [
        {
          "output_type": "stream",
          "text": [
            "['harry', 'harry']\n"
          ],
          "name": "stdout"
        }
      ]
    },
    {
      "cell_type": "markdown",
      "metadata": {
        "id": "llVYO6TXbD5q"
      },
      "source": [
        "# **d).sub()**"
      ]
    },
    {
      "cell_type": "markdown",
      "metadata": {
        "id": "4J67FwyYbXbL"
      },
      "source": [
        "<p align=\"justify\">Return the string obtained by replacing the leftmost non-overlapping occurrences of pattern in string by the replacement repl. If the pattern isn’t found, string is returned unchanged. repl can be a string or a function; if it is a string, any backslash escapes in it are processed. "
      ]
    },
    {
      "cell_type": "markdown",
      "metadata": {
        "id": "SMx2P75hbJCo"
      },
      "source": [
        "Syntax:\n",
        "\n",
        "re.sub(pattern, repl, string, count=0, flags=0)"
      ]
    },
    {
      "cell_type": "code",
      "metadata": {
        "id": "PYTC-IJybIHl",
        "colab": {
          "base_uri": "https://localhost:8080/",
          "height": 35
        },
        "outputId": "61a12571-8ae5-4924-dba4-ec9dc13394b0"
      },
      "source": [
        "import re\n",
        "string=\"123harry is good boy and harry play football\"\n",
        "pattern=\"harry\"\n",
        "repl=\"rohan\"\n",
        "print(re.sub(pattern,repl,string,count=1))"
      ],
      "execution_count": null,
      "outputs": [
        {
          "output_type": "stream",
          "text": [
            "123rohan is good boy and harry play football\n"
          ],
          "name": "stdout"
        }
      ]
    },
    {
      "cell_type": "code",
      "metadata": {
        "id": "qoX-JShsdpDd",
        "colab": {
          "base_uri": "https://localhost:8080/",
          "height": 35
        },
        "outputId": "1d756f8d-a087-4b75-b11a-9f1a225f4154"
      },
      "source": [
        "import re\n",
        "string=\"123harry is good boy and harry play football\"\n",
        "pattern=\"Harry\"\n",
        "repl=\"rohan\"\n",
        "print(re.sub(pattern,repl,string,count=2,flags=re.IGNORECASE))"
      ],
      "execution_count": null,
      "outputs": [
        {
          "output_type": "stream",
          "text": [
            "123rohan is good boy and rohan play football\n"
          ],
          "name": "stdout"
        }
      ]
    },
    {
      "cell_type": "markdown",
      "metadata": {
        "id": "PBwUhJyajG5N"
      },
      "source": [
        "# **e).subn()**"
      ]
    },
    {
      "cell_type": "markdown",
      "metadata": {
        "id": "661bVIH_jQ1i"
      },
      "source": [
        "<p align=\"justify\">Perform the same operation as sub(), but return a tuple (new_string, number_of_subs_made)."
      ]
    },
    {
      "cell_type": "markdown",
      "metadata": {
        "id": "yqDwBKPmjSOu"
      },
      "source": [
        "Syntax:\n",
        "\n",
        "re.subn(pattern, repl, string, count=0, flags=0)"
      ]
    },
    {
      "cell_type": "code",
      "metadata": {
        "id": "2S9bFnPMjMm7",
        "colab": {
          "base_uri": "https://localhost:8080/",
          "height": 35
        },
        "outputId": "9c9ca67f-5675-4990-eaa4-45bfb4ffcda3"
      },
      "source": [
        "import re\n",
        "string=\"123harry is good boy and harry play football\"\n",
        "pattern=\"harry\"\n",
        "repl=\"rohan\"\n",
        "print(re.subn(pattern,repl,string,count=1))"
      ],
      "execution_count": null,
      "outputs": [
        {
          "output_type": "stream",
          "text": [
            "('123rohan is good boy and harry play football', 1)\n"
          ],
          "name": "stdout"
        }
      ]
    },
    {
      "cell_type": "markdown",
      "metadata": {
        "id": "CzQ4Toq2kTWB"
      },
      "source": [
        "# **f).split()**"
      ]
    },
    {
      "cell_type": "markdown",
      "metadata": {
        "id": "hFrDWa-FkWak"
      },
      "source": [
        "<p align=\"justify\">Split string by the occurrences of pattern. If capturing parentheses are used in pattern, then the text of all groups in the pattern are also returned as part of the resulting list. If maxsplit is nonzero, at most maxsplit splits occur, and the remainder of the string is returned as the final element of the list."
      ]
    },
    {
      "cell_type": "markdown",
      "metadata": {
        "id": "OT_I13tNkbMI"
      },
      "source": [
        "Syntax:\n",
        "\n",
        "re.split(pattern, string, maxsplit=0, flags=0)"
      ]
    },
    {
      "cell_type": "code",
      "metadata": {
        "id": "a-I4pZHskgtT",
        "colab": {
          "base_uri": "https://localhost:8080/",
          "height": 35
        },
        "outputId": "8e9b5ff3-e2e4-4eb1-f7fa-4f42e45b9ec9"
      },
      "source": [
        "import re\n",
        "string = \"cabcdabcde\"\n",
        "pattern=\"ab\"\n",
        "print(re.split(pattern,string))\n"
      ],
      "execution_count": null,
      "outputs": [
        {
          "output_type": "stream",
          "text": [
            "['cabcdabcde']\n"
          ],
          "name": "stdout"
        }
      ]
    },
    {
      "cell_type": "code",
      "metadata": {
        "id": "6TaEiqdak9gE",
        "colab": {
          "base_uri": "https://localhost:8080/",
          "height": 35
        },
        "outputId": "d6ae1fd4-99d4-4088-cb4f-86bcd5476fc6"
      },
      "source": [
        "import re\n",
        "string = \"cabcdabcde\"\n",
        "pattern=\"ab\"\n",
        "print(re.split(pattern,string,maxsplit=1))"
      ],
      "execution_count": null,
      "outputs": [
        {
          "output_type": "stream",
          "text": [
            "['c', 'cdabcde']\n"
          ],
          "name": "stdout"
        }
      ]
    },
    {
      "cell_type": "markdown",
      "metadata": {
        "id": "AZmH7DlTjjUK"
      },
      "source": [
        "# **g).escape()**"
      ]
    },
    {
      "cell_type": "markdown",
      "metadata": {
        "id": "BN-P0WEwjnGE"
      },
      "source": [
        "<p align=\"justify\">Return string with all non-alphanumerics backslashed, this is useful if you want to match an arbitrary literal string that may have regular expression metacharacters in it.\n",
        "\n",
        "<p align=\"justify\">escape() returns a string with BackSlash '\\', before every Non-Alphanumeric Character "
      ]
    },
    {
      "cell_type": "markdown",
      "metadata": {
        "id": "REFX1h68jw3M"
      },
      "source": [
        "Syntax:\n",
        "\n",
        "re.escape(pattern)"
      ]
    },
    {
      "cell_type": "code",
      "metadata": {
        "id": "P8gj5CxkjmNc",
        "colab": {
          "base_uri": "https://localhost:8080/",
          "height": 35
        },
        "outputId": "862d23b8-14c3-46da-e482-ae095d0031a1"
      },
      "source": [
        "import re\n",
        "print(re.escape('http://www.python.org'))\n"
      ],
      "execution_count": null,
      "outputs": [
        {
          "output_type": "stream",
          "text": [
            "http\\:\\/\\/www\\.python\\.org\n"
          ],
          "name": "stdout"
        }
      ]
    },
    {
      "cell_type": "markdown",
      "metadata": {
        "id": "-KghEXYpliEg"
      },
      "source": [
        "# **h).fullmatch()**"
      ]
    },
    {
      "cell_type": "markdown",
      "metadata": {
        "id": "8TJlNcBdlpgx"
      },
      "source": [
        "<p align=\"justify\">If the whole string matches the regular expression pattern, return a corresponding match object."
      ]
    },
    {
      "cell_type": "markdown",
      "metadata": {
        "id": "9nHbnwHHltVg"
      },
      "source": [
        "Syntax:\n",
        "\n",
        "re.fullmatch(pattern, string, flags=0)"
      ]
    },
    {
      "cell_type": "code",
      "metadata": {
        "id": "ecfzcjv6llUe",
        "colab": {
          "base_uri": "https://localhost:8080/",
          "height": 35
        },
        "outputId": "9e4b4b46-16cd-4ac6-c297-e3c601afc573"
      },
      "source": [
        "import re\n",
        "string = \"harry is good boy\"\n",
        "pattern=\"harry is good boy\"\n",
        "print(re.fullmatch(pattern,string).group())\n"
      ],
      "execution_count": null,
      "outputs": [
        {
          "output_type": "stream",
          "text": [
            "harry is good boy\n"
          ],
          "name": "stdout"
        }
      ]
    },
    {
      "cell_type": "code",
      "metadata": {
        "id": "qmCjYx5JqPvx",
        "colab": {
          "base_uri": "https://localhost:8080/",
          "height": 35
        },
        "outputId": "0b6d487e-5fa5-4201-9ffd-8147b6894b48"
      },
      "source": [
        "import re\n",
        "string = \"harry is good boy\"\n",
        "pattern=\"harry is good boy\"\n",
        "print(re.fullmatch(pattern,string).span())"
      ],
      "execution_count": null,
      "outputs": [
        {
          "output_type": "stream",
          "text": [
            "(0, 17)\n"
          ],
          "name": "stdout"
        }
      ]
    },
    {
      "cell_type": "markdown",
      "metadata": {
        "id": "xj54whgMnwvF"
      },
      "source": [
        "# **i).compile()**"
      ]
    },
    {
      "cell_type": "markdown",
      "metadata": {
        "id": "BzyGfrDCn1Xp"
      },
      "source": [
        "<p align=\"justify\">Regular expressions are compiled into pattern objects, which have methods for various operations such as searching for pattern matches or performing string substitutions."
      ]
    },
    {
      "cell_type": "markdown",
      "metadata": {
        "id": "BibLMO_jn6AS"
      },
      "source": [
        "Syntax:\n",
        "\n",
        "re.complile(character class)"
      ]
    },
    {
      "cell_type": "code",
      "metadata": {
        "id": "5QuJSRTgn0LA",
        "colab": {
          "base_uri": "https://localhost:8080/",
          "height": 35
        },
        "outputId": "cbc3aba8-eb1f-44f3-8ad5-eebd819fc77a"
      },
      "source": [
        "import re \n",
        " \n",
        "# class [abcde] will match with string with 'a', 'b', 'c', 'd', 'e'. \n",
        "p = re.compile('[a-e]') \n",
        "  \n",
        "# findall() searches for the Regular Expression and return a list upon finding \n",
        "print(p.findall(\"well, said Mr. Tony Stark\")) "
      ],
      "execution_count": null,
      "outputs": [
        {
          "output_type": "stream",
          "text": [
            "['e', 'a', 'd', 'a']\n"
          ],
          "name": "stdout"
        }
      ]
    },
    {
      "cell_type": "code",
      "metadata": {
        "id": "6vCKpnatrCAz",
        "colab": {
          "base_uri": "https://localhost:8080/",
          "height": 35
        },
        "outputId": "8591bcde-b9f7-4ba9-9eac-cf873f5caa9a"
      },
      "source": [
        "import re  \n",
        "p = re.compile('[1-9]') \n",
        "print(p.findall(\"1well, said Mr. Tony2 Stark3\")) "
      ],
      "execution_count": null,
      "outputs": [
        {
          "output_type": "stream",
          "text": [
            "['1', '2', '3']\n"
          ],
          "name": "stdout"
        }
      ]
    },
    {
      "cell_type": "markdown",
      "metadata": {
        "id": "SmMj9QvvDlgV"
      },
      "source": [
        "# **Regular expression modifier(meta character)**"
      ]
    },
    {
      "cell_type": "markdown",
      "metadata": {
        "id": "-7uldV-bgojQ"
      },
      "source": [
        "# **a). simple character**"
      ]
    },
    {
      "cell_type": "code",
      "metadata": {
        "id": "2z3ysAvAcqSi",
        "colab": {
          "base_uri": "https://localhost:8080/",
          "height": 72
        },
        "outputId": "ffff33d5-6c6e-4039-9cc8-cd5966975d6b"
      },
      "source": [
        "import re \n",
        "pattern = r\"s\" # it search for s \n",
        "text = \"sIt is a simple string: 10\" \n",
        "print(re.match(pattern, text).span()) \n",
        "print(re.search(pattern, text).group()) \n",
        "print(re.findall(pattern, text))\n"
      ],
      "execution_count": null,
      "outputs": [
        {
          "output_type": "stream",
          "text": [
            "(0, 1)\n",
            "s\n",
            "['s', 's', 's', 's']\n"
          ],
          "name": "stdout"
        }
      ]
    },
    {
      "cell_type": "markdown",
      "metadata": {
        "id": "GK2kxO5VgwUa"
      },
      "source": [
        "# **b). |  modifiers**"
      ]
    },
    {
      "cell_type": "markdown",
      "metadata": {
        "id": "8RRyHsanhiGw"
      },
      "source": [
        "| modifiers search for x|y = x or y "
      ]
    },
    {
      "cell_type": "code",
      "metadata": {
        "id": "yGSnOlJuglmR",
        "colab": {
          "base_uri": "https://localhost:8080/",
          "height": 72
        },
        "outputId": "87a79010-576c-485b-baae-714a7b536c4d"
      },
      "source": [
        "\n",
        "import re \n",
        "pattern = r\"s|p\"# it search for s or p \n",
        "text = \"sIt is a simple string: 10\" \n",
        "print(re.match(pattern, text).span()) \n",
        "print(re.search(pattern, text).group()) \n",
        "print(re.findall(pattern, text))\n"
      ],
      "execution_count": null,
      "outputs": [
        {
          "output_type": "stream",
          "text": [
            "(0, 1)\n",
            "s\n",
            "['s', 's', 's', 'p', 's']\n"
          ],
          "name": "stdout"
        }
      ]
    },
    {
      "cell_type": "markdown",
      "metadata": {
        "id": "Ze7Z09X4hUe3"
      },
      "source": [
        "# c). * modifiers "
      ]
    },
    {
      "cell_type": "markdown",
      "metadata": {
        "id": "eryttAKbhwVl"
      },
      "source": [
        "  \" * \"  modifiers search for any thing with (0 or more times )"
      ]
    },
    {
      "cell_type": "code",
      "metadata": {
        "id": "Bs33cP-qhZDo",
        "colab": {
          "base_uri": "https://localhost:8080/",
          "height": 72
        },
        "outputId": "db83b2c6-9ff9-44e6-878e-761b58b07404"
      },
      "source": [
        "import re \n",
        "pattern = r\"s*\" # it search for any thing  with (0 or more times “s”)\n",
        "text = \"sIt is a sssimple strings: 10\" \n",
        "print(re.match(pattern, text).span()) \n",
        "print(re.search(pattern, text).group()) \n",
        "print(re.findall(pattern, text))\n"
      ],
      "execution_count": null,
      "outputs": [
        {
          "output_type": "stream",
          "text": [
            "(0, 1)\n",
            "s\n",
            "['s', '', '', '', '', 's', '', '', '', 'sss', '', '', '', '', '', '', 's', '', '', '', '', '', 's', '', '', '', '', '']\n"
          ],
          "name": "stdout"
        }
      ]
    },
    {
      "cell_type": "code",
      "metadata": {
        "id": "RsWItnaDml24",
        "colab": {
          "base_uri": "https://localhost:8080/",
          "height": 72
        },
        "outputId": "f7839365-7710-466e-9978-b38a71349336"
      },
      "source": [
        "import re \n",
        "pattern = r\"s*p\" # it search for any thing  start with (0 or more times “s”) and end with \"p\"\n",
        "text = \"spIt is a ssspimple strings: 10\" \n",
        "print(re.match(pattern, text).span()) \n",
        "print(re.search(pattern, text).group()) \n",
        "print(re.findall(pattern, text))"
      ],
      "execution_count": null,
      "outputs": [
        {
          "output_type": "stream",
          "text": [
            "(0, 2)\n",
            "sp\n",
            "['sp', 'sssp', 'p']\n"
          ],
          "name": "stdout"
        }
      ]
    },
    {
      "cell_type": "code",
      "metadata": {
        "id": "vl_tDTevjD_J",
        "colab": {
          "base_uri": "https://localhost:8080/",
          "height": 72
        },
        "outputId": "0923fd88-1e72-47bc-fe7a-c682a7c58772"
      },
      "source": [
        "import re \n",
        "pattern = r\"bs*\" \n",
        "# it search for pattern which start with b and end with (0 or more times “s”)\n",
        "text = \"bsIt is a bsssimple bstrinbg: 10\" \n",
        "print(re.match(pattern, text).span()) \n",
        "print(re.search(pattern, text).group()) \n",
        "print(re.findall(pattern, text))\n"
      ],
      "execution_count": null,
      "outputs": [
        {
          "output_type": "stream",
          "text": [
            "(0, 2)\n",
            "bs\n",
            "['bs', 'bsss', 'bs', 'b']\n"
          ],
          "name": "stdout"
        }
      ]
    },
    {
      "cell_type": "markdown",
      "metadata": {
        "id": "s5XRV_Syjccj"
      },
      "source": [
        "# **d). + modifiers**"
      ]
    },
    {
      "cell_type": "markdown",
      "metadata": {
        "id": "ZN6lrWjUjleR"
      },
      "source": [
        "\"+\" modifiers search for any thing start with (1 or more times)"
      ]
    },
    {
      "cell_type": "code",
      "metadata": {
        "id": "iDsXOcsFjfF7",
        "colab": {
          "base_uri": "https://localhost:8080/",
          "height": 72
        },
        "outputId": "4c6d8d8e-6bad-4f80-ef54-5ac3141bc24e"
      },
      "source": [
        "import re \n",
        "pattern = r\"2+\" # it search for any thing start with (1 or more times “2”)\n",
        "text = \"2It is simpl3e string 222 number 2\" \n",
        "print(re.match(pattern, text).span()) \n",
        "print(re.search(pattern, text).group()) \n",
        "print(re.findall(pattern, text))\n"
      ],
      "execution_count": null,
      "outputs": [
        {
          "output_type": "stream",
          "text": [
            "(0, 1)\n",
            "2\n",
            "['2', '222', '2']\n"
          ],
          "name": "stdout"
        }
      ]
    },
    {
      "cell_type": "code",
      "metadata": {
        "id": "M4sSI8-fkKi-",
        "colab": {
          "base_uri": "https://localhost:8080/",
          "height": 72
        },
        "outputId": "a9b895af-f4aa-472d-fe3f-e45647173c9a"
      },
      "source": [
        "import re \n",
        "pattern = r\"s2+\" \n",
        "# it search for pattern which start with “s” and end with (1 or more times “2”)\n",
        "text = \"s2It is simple s2222tring number 2\" \n",
        "print(re.match(pattern, text).span()) \n",
        "print(re.search(pattern, text).group()) \n",
        "print(re.findall(pattern, text))\n"
      ],
      "execution_count": null,
      "outputs": [
        {
          "output_type": "stream",
          "text": [
            "(0, 2)\n",
            "s2\n",
            "['s2', 's2222']\n"
          ],
          "name": "stdout"
        }
      ]
    },
    {
      "cell_type": "markdown",
      "metadata": {
        "id": "A7Lyi-FzlRIn"
      },
      "source": [
        "# **e). ? modifiers**"
      ]
    },
    {
      "cell_type": "markdown",
      "metadata": {
        "id": "r0XUMsNgleqE"
      },
      "source": [
        "? modifiers search for any thing start with (0 or 1 times)"
      ]
    },
    {
      "cell_type": "code",
      "metadata": {
        "id": "8C7KXQxglVfZ",
        "colab": {
          "base_uri": "https://localhost:8080/",
          "height": 92
        },
        "outputId": "82b759f8-5825-439d-a1a1-617e219b540f"
      },
      "source": [
        "import re \n",
        "pattern = r\"2?\" # it search for pattern start with (0 or 1  times “2”)\n",
        "text = \"2It is simple 2222 string number 2\" \n",
        "print(re.match(pattern, text).group()) \n",
        "print(re.search(pattern, text).group()) \n",
        "print(re.findall(pattern, text))\n"
      ],
      "execution_count": null,
      "outputs": [
        {
          "output_type": "stream",
          "text": [
            "2\n",
            "2\n",
            "['2', '', '', '', '', '', '', '', '', '', '', '', '', '', '2', '2', '2', '2', '', '', '', '', '', '', '', '', '', '', '', '', '', '', '', '2', '']\n"
          ],
          "name": "stdout"
        }
      ]
    },
    {
      "cell_type": "code",
      "metadata": {
        "id": "BmorHPjtmSHD",
        "colab": {
          "base_uri": "https://localhost:8080/",
          "height": 72
        },
        "outputId": "787766cd-b086-42b0-ae56-eb357075bb04"
      },
      "source": [
        "import re \n",
        "pattern = r\"2?3\" \n",
        "# it search for pattern start with (0 or 1 times “2”) but end with “3”\n",
        "text = \"23It is2 simple string 3333 number 2\" \n",
        "print(re.match(pattern, text).group()) \n",
        "print(re.search(pattern, text).group()) \n",
        "print(re.findall(pattern, text))\n"
      ],
      "execution_count": null,
      "outputs": [
        {
          "output_type": "stream",
          "text": [
            "23\n",
            "23\n",
            "['23', '3', '3', '3', '3']\n"
          ],
          "name": "stdout"
        }
      ]
    },
    {
      "cell_type": "markdown",
      "metadata": {
        "id": "WClVCn-SnMDQ"
      },
      "source": [
        "# **f). ^ modifiers**"
      ]
    },
    {
      "cell_type": "markdown",
      "metadata": {
        "id": "I727bzb5nf4S"
      },
      "source": [
        "^ modifiers search for string which start with pattern  other wise for all case it return None"
      ]
    },
    {
      "cell_type": "code",
      "metadata": {
        "id": "dBzSaB_7o18l",
        "colab": {
          "base_uri": "https://localhost:8080/",
          "height": 35
        },
        "outputId": "b9040110-fbc9-4da6-e869-75d239d01e1a"
      },
      "source": [
        "#  In ^ ,pattern is used after ^ always otherwise it return None \n",
        "import re \n",
        "pattern = r\"2^\"  \n",
        "text = \"2It is simple string number \" \n",
        "print(re.match(pattern, text).span()) \n",
        "print(re.search(pattern, text).group()) \n",
        "print(re.findall(pattern, text))\n"
      ],
      "execution_count": null,
      "outputs": [
        {
          "output_type": "stream",
          "text": [
            "[]\n"
          ],
          "name": "stdout"
        }
      ]
    },
    {
      "cell_type": "code",
      "metadata": {
        "id": "E_7cuMqonPrx",
        "colab": {
          "base_uri": "https://localhost:8080/",
          "height": 72
        },
        "outputId": "68f0300c-ac48-4b14-fa57-a489c933df61"
      },
      "source": [
        "import re \n",
        "pattern = r\"^23\" \n",
        "#it search for string start with “2” other wise for all case it return None\n",
        "text = \"23It is 2simple string number 2\" \n",
        "print(re.match(pattern, text).span()) \n",
        "print(re.search(pattern, text).group()) \n",
        "print(re.findall(pattern, text))\n"
      ],
      "execution_count": null,
      "outputs": [
        {
          "output_type": "stream",
          "text": [
            "(0, 2)\n",
            "23\n",
            "['23']\n"
          ],
          "name": "stdout"
        }
      ]
    },
    {
      "cell_type": "code",
      "metadata": {
        "id": "VWFmpgO5oEzT"
      },
      "source": [
        "# this will give you None because given string not start with \"2\"\n",
        "import re \n",
        "pattern = r\"^2\" \n",
        "text = \"It is 2imple st2ring number2\" \n",
        "print(re.match(pattern, text).span()) \n",
        "print(re.search(pattern, text).span()) \n",
        "print(re.findall(pattern, text))\n"
      ],
      "execution_count": null,
      "outputs": []
    },
    {
      "cell_type": "markdown",
      "metadata": {
        "id": "XAaykiwqocpk"
      },
      "source": [
        "# **g). $ modifiers**"
      ]
    },
    {
      "cell_type": "markdown",
      "metadata": {
        "id": "TSX7XU5Trsq-"
      },
      "source": [
        "$ modifiers search for string which end with pattern  other wise for all case it return None"
      ]
    },
    {
      "cell_type": "code",
      "metadata": {
        "id": "F5MNP11wogp9",
        "colab": {
          "base_uri": "https://localhost:8080/",
          "height": 35
        },
        "outputId": "349d38e1-9577-4b6d-bb27-02c375df7ad5"
      },
      "source": [
        "#  In $, pattern is used before $ always otherwise it will return None\n",
        "import re \n",
        "pattern = r\"$2\" \n",
        "text = \"2It is 2imple st2ring number2\" \n",
        "#print(re.match(pattern, text).span()) \n",
        "#print(re.search(pattern, text).span()) \n",
        "print(re.findall(pattern, text))\n"
      ],
      "execution_count": null,
      "outputs": [
        {
          "output_type": "stream",
          "text": [
            "[]\n"
          ],
          "name": "stdout"
        }
      ]
    },
    {
      "cell_type": "code",
      "metadata": {
        "id": "TMwojTxcotiK",
        "colab": {
          "base_uri": "https://localhost:8080/",
          "height": 54
        },
        "outputId": "f6b13af6-7aec-42db-c995-095653de08a2"
      },
      "source": [
        "import re \n",
        "pattern = r\"2$\" \n",
        "#it search for string end with “2” other wise for all case it return None\n",
        "text = \"It is 2imple st2ring number2\" \n",
        "#print(re.match(pattern, text).span()) \n",
        "print(re.search(pattern, text).group()) \n",
        "print(re.findall(pattern, text))\n"
      ],
      "execution_count": null,
      "outputs": [
        {
          "output_type": "stream",
          "text": [
            "2\n",
            "['2']\n"
          ],
          "name": "stdout"
        }
      ]
    },
    {
      "cell_type": "code",
      "metadata": {
        "id": "53PJREF-rcxD"
      },
      "source": [
        "import re \n",
        "pattern = r\"2$\" \n",
        "# this will give you None because given string not end with \"2\"\n",
        "text = \"It is 2imple st2ring number\" \n",
        "#print(re.match(pattern, text).span()) \n",
        "#print(re.search(pattern, text).group()) \n",
        "print(re.findall(pattern, text))"
      ],
      "execution_count": null,
      "outputs": []
    },
    {
      "cell_type": "markdown",
      "metadata": {
        "id": "Cb1GnZqzx7AM"
      },
      "source": [
        "# **h). {} modifiers**"
      ]
    },
    {
      "cell_type": "markdown",
      "metadata": {
        "id": "kxtniyZQywmH"
      },
      "source": [
        "{} modifiers search amount of preceeding code / pattern / character "
      ]
    },
    {
      "cell_type": "code",
      "metadata": {
        "id": "tjRqSNSuyArP",
        "colab": {
          "base_uri": "https://localhost:8080/",
          "height": 72
        },
        "outputId": "38561b93-2a51-457a-a320-7caf575ea85d"
      },
      "source": [
        "import re \n",
        "pattern = r\"e{2}\" \n",
        "# it search for two continues “e”\n",
        "text = \"eeIt is simple stringee number 2\" \n",
        "print(re.match(pattern, text).group()) \n",
        "print(re.search(pattern, text).group()) \n",
        "print(re.findall(pattern, text))\n"
      ],
      "execution_count": null,
      "outputs": [
        {
          "output_type": "stream",
          "text": [
            "ee\n",
            "ee\n",
            "['ee', 'ee']\n"
          ],
          "name": "stdout"
        }
      ]
    },
    {
      "cell_type": "code",
      "metadata": {
        "id": "vIJVY-CnyVaz",
        "colab": {
          "base_uri": "https://localhost:8080/",
          "height": 72
        },
        "outputId": "2164b7b8-a2c9-48a0-9248-ae1cdaf8908d"
      },
      "source": [
        "import re \n",
        "pattern = r\"e{2}a\" \n",
        "# it search for pattern in string which start with two continues “e” and end with a\n",
        "text = \"eeaIt is simple stringee number 2\" \n",
        "print(re.match(pattern, text).group()) \n",
        "print(re.search(pattern, text).group()) \n",
        "print(re.findall(pattern, text))"
      ],
      "execution_count": null,
      "outputs": [
        {
          "output_type": "stream",
          "text": [
            "eea\n",
            "eea\n",
            "['eea']\n"
          ],
          "name": "stdout"
        }
      ]
    },
    {
      "cell_type": "code",
      "metadata": {
        "id": "bCxWw4xR0itF",
        "colab": {
          "base_uri": "https://localhost:8080/",
          "height": 72
        },
        "outputId": "23c4e976-0d12-4a8d-a13e-b5692f15ca94"
      },
      "source": [
        "import re \n",
        "pattern = r\"1e{2}a\" \n",
        "# it search for pattern in string which start with 1 and then two continues “e” and also end with a\n",
        "text = \"1eeaIt is simple string1ee number 2\" \n",
        "print(re.match(pattern, text).group()) \n",
        "print(re.search(pattern, text).group()) \n",
        "print(re.findall(pattern, text))"
      ],
      "execution_count": null,
      "outputs": [
        {
          "output_type": "stream",
          "text": [
            "1eea\n",
            "1eea\n",
            "['1eea']\n"
          ],
          "name": "stdout"
        }
      ]
    },
    {
      "cell_type": "code",
      "metadata": {
        "id": "lCzwdDIv0HKi",
        "colab": {
          "base_uri": "https://localhost:8080/",
          "height": 72
        },
        "outputId": "2ad7c70b-78fe-4358-9e7b-84f21cf3cfab"
      },
      "source": [
        "import re \n",
        "pattern = r\"(ee){2}\" \n",
        "# it search for group(ee) continues two times\n",
        "text = \"eeeeIt is simple stringeeee number 2\" \n",
        "print(re.match(pattern, text).group()) \n",
        "print(re.search(pattern, text).group()) \n",
        "print(re.findall(pattern, text))\n"
      ],
      "execution_count": null,
      "outputs": [
        {
          "output_type": "stream",
          "text": [
            "eeee\n",
            "eeee\n",
            "['ee', 'ee']\n"
          ],
          "name": "stdout"
        }
      ]
    },
    {
      "cell_type": "markdown",
      "metadata": {
        "id": "popiMgwz2F1P"
      },
      "source": [
        "# **i). [] modifiers**"
      ]
    },
    {
      "cell_type": "markdown",
      "metadata": {
        "id": "Mv_0-i6f6VTq"
      },
      "source": [
        "[] modifiers search for range or variance"
      ]
    },
    {
      "cell_type": "code",
      "metadata": {
        "id": "3OZvW55F2Ii0",
        "colab": {
          "base_uri": "https://localhost:8080/",
          "height": 72
        },
        "outputId": "a429e4bd-5d99-4edb-9678-bcab0e7253b6"
      },
      "source": [
        "import re \n",
        "pattern = r\"[1-9]\" \n",
        "# it search for number between 1 to 9 \n",
        "text = \"1It is simple2 string3 number 7\" \n",
        "print(re.match(pattern, text).group()) \n",
        "print(re.search(pattern, text).group()) \n",
        "print(re.findall(pattern, text))"
      ],
      "execution_count": null,
      "outputs": [
        {
          "output_type": "stream",
          "text": [
            "1\n",
            "1\n",
            "['1', '2', '3', '7']\n"
          ],
          "name": "stdout"
        }
      ]
    },
    {
      "cell_type": "code",
      "metadata": {
        "id": "Ej7Vvw6V6vQn",
        "colab": {
          "base_uri": "https://localhost:8080/",
          "height": 72
        },
        "outputId": "f34e0fd0-09d2-4dab-d262-4f064b002394"
      },
      "source": [
        "import re \n",
        "pattern = r\"[a-z]\" \n",
        "# it search for alphabet between a to z \n",
        "text = \"it is simple2 string3 number 7\" \n",
        "print(re.match(pattern, text).group()) \n",
        "print(re.search(pattern, text).group()) \n",
        "print(re.findall(pattern, text))"
      ],
      "execution_count": null,
      "outputs": [
        {
          "output_type": "stream",
          "text": [
            "i\n",
            "i\n",
            "['i', 't', 'i', 's', 's', 'i', 'm', 'p', 'l', 'e', 's', 't', 'r', 'i', 'n', 'g', 'n', 'u', 'm', 'b', 'e', 'r']\n"
          ],
          "name": "stdout"
        }
      ]
    },
    {
      "cell_type": "code",
      "metadata": {
        "id": "VMI55CRv63fY",
        "colab": {
          "base_uri": "https://localhost:8080/",
          "height": 72
        },
        "outputId": "2b8960fe-84dd-464e-a1d9-f159f8b4ea92"
      },
      "source": [
        "import re \n",
        "pattern = r\"[@.%]\" \n",
        "# it search for character either @ . % \n",
        "text = \"%it is si@mple2 string.3 number %\" \n",
        "print(re.match(pattern, text).group()) \n",
        "print(re.search(pattern, text).group()) \n",
        "print(re.findall(pattern, text))"
      ],
      "execution_count": null,
      "outputs": [
        {
          "output_type": "stream",
          "text": [
            "%\n",
            "%\n",
            "['%', '@', '.', '%']\n"
          ],
          "name": "stdout"
        }
      ]
    },
    {
      "cell_type": "markdown",
      "metadata": {
        "id": "d6pRPAK27pX3"
      },
      "source": [
        "# **Regular expression identifiers**"
      ]
    },
    {
      "cell_type": "markdown",
      "metadata": {
        "id": "i9-IqOyT75_5"
      },
      "source": [
        "# **a).\\d identifier**"
      ]
    },
    {
      "cell_type": "markdown",
      "metadata": {
        "id": "SR5eiMCo8jI2"
      },
      "source": [
        "Returns a match where the string contains digits (numbers from 0-9)"
      ]
    },
    {
      "cell_type": "code",
      "metadata": {
        "id": "nrFHETbC7tnV",
        "colab": {
          "base_uri": "https://localhost:8080/",
          "height": 72
        },
        "outputId": "27286028-839d-41b0-f074-68b7a5c51a1d"
      },
      "source": [
        "import re \n",
        "pattern = r\"\\d\" \n",
        "text = \"2it is si@mple2 string.3 number %\" \n",
        "print(re.match(pattern, text).group()) \n",
        "print(re.search(pattern, text).group()) \n",
        "print(re.findall(pattern, text))"
      ],
      "execution_count": null,
      "outputs": [
        {
          "output_type": "stream",
          "text": [
            "2\n",
            "2\n",
            "['2', '2', '3']\n"
          ],
          "name": "stdout"
        }
      ]
    },
    {
      "cell_type": "markdown",
      "metadata": {
        "id": "qGHZhoGv83vw"
      },
      "source": [
        "# **b).\\D identifier**"
      ]
    },
    {
      "cell_type": "markdown",
      "metadata": {
        "id": "-vyFxepI9A2o"
      },
      "source": [
        "Returns a match where the string DOES NOT contain digits"
      ]
    },
    {
      "cell_type": "code",
      "metadata": {
        "id": "W9AtVjTj89Pe",
        "colab": {
          "base_uri": "https://localhost:8080/",
          "height": 92
        },
        "outputId": "54634a3d-9696-424d-b768-7b6e8cd294fd"
      },
      "source": [
        "import re \n",
        "pattern = r\"\\D\" \n",
        "text = \"it is si@mple2 string.3 number %\" \n",
        "print(re.match(pattern, text).group()) \n",
        "print(re.search(pattern, text).group()) \n",
        "print(re.findall(pattern, text))"
      ],
      "execution_count": null,
      "outputs": [
        {
          "output_type": "stream",
          "text": [
            "i\n",
            "i\n",
            "['i', 't', ' ', 'i', 's', ' ', 's', 'i', '@', 'm', 'p', 'l', 'e', ' ', 's', 't', 'r', 'i', 'n', 'g', '.', ' ', 'n', 'u', 'm', 'b', 'e', 'r', ' ', '%']\n"
          ],
          "name": "stdout"
        }
      ]
    },
    {
      "cell_type": "markdown",
      "metadata": {
        "id": "kUyancf4-jOg"
      },
      "source": [
        "# **c).\\s identifier**"
      ]
    },
    {
      "cell_type": "markdown",
      "metadata": {
        "id": "7LjWENGz-nX0"
      },
      "source": [
        "Returns a match where the string contains a white space character"
      ]
    },
    {
      "cell_type": "code",
      "metadata": {
        "id": "iodE0MJq-k6W",
        "colab": {
          "base_uri": "https://localhost:8080/",
          "height": 72
        },
        "outputId": "0c94c461-33ad-45a5-daea-62849066ebf7"
      },
      "source": [
        "import re \n",
        "pattern = r\"\\s\" \n",
        "text = \" it is si@mple2 string.3 number %\" \n",
        "print(re.match(pattern, text).group()) \n",
        "print(re.search(pattern, text).group()) \n",
        "print(re.findall(pattern, text))"
      ],
      "execution_count": null,
      "outputs": [
        {
          "output_type": "stream",
          "text": [
            " \n",
            " \n",
            "[' ', ' ', ' ', ' ', ' ', ' ']\n"
          ],
          "name": "stdout"
        }
      ]
    },
    {
      "cell_type": "markdown",
      "metadata": {
        "id": "kcdP2-r0-4hE"
      },
      "source": [
        "# **d).\\S identifier**"
      ]
    },
    {
      "cell_type": "markdown",
      "metadata": {
        "id": "8k9b08U__CHq"
      },
      "source": [
        "Returns a match where the string DOES NOT contain a white space character"
      ]
    },
    {
      "cell_type": "code",
      "metadata": {
        "id": "WgfOA9en-603",
        "colab": {
          "base_uri": "https://localhost:8080/",
          "height": 72
        },
        "outputId": "6ef0e2fb-58a0-4f5c-e80d-f290539627e5"
      },
      "source": [
        "import re \n",
        "pattern = r\"\\S\" \n",
        "text = \"it is si@mple2 string.3 number %\" \n",
        "print(re.match(pattern, text).group()) \n",
        "print(re.search(pattern, text).group()) \n",
        "print(re.findall(pattern, text))"
      ],
      "execution_count": null,
      "outputs": [
        {
          "output_type": "stream",
          "text": [
            "i\n",
            "i\n",
            "['i', 't', 'i', 's', 's', 'i', '@', 'm', 'p', 'l', 'e', '2', 's', 't', 'r', 'i', 'n', 'g', '.', '3', 'n', 'u', 'm', 'b', 'e', 'r', '%']\n"
          ],
          "name": "stdout"
        }
      ]
    },
    {
      "cell_type": "markdown",
      "metadata": {
        "id": "3co0LvMK_Yh7"
      },
      "source": [
        "# **e).\\w identifier**"
      ]
    },
    {
      "cell_type": "markdown",
      "metadata": {
        "id": "cPYyAvhT_bWc"
      },
      "source": [
        "Returns a match where the string contains any word characters (characters from a to Z, digits from 0-9, and the underscore _ character)"
      ]
    },
    {
      "cell_type": "code",
      "metadata": {
        "id": "l1jLHr7T_azS",
        "colab": {
          "base_uri": "https://localhost:8080/",
          "height": 72
        },
        "outputId": "a200e7f5-caf5-4c8a-a4fe-ca2736ad0ac8"
      },
      "source": [
        "import re \n",
        "pattern = r\"\\w\" \n",
        "text = \"it is si@mple2 string.3 numb_er %\" \n",
        "print(re.match(pattern, text).group()) \n",
        "print(re.search(pattern, text).group()) \n",
        "print(re.findall(pattern, text))"
      ],
      "execution_count": null,
      "outputs": [
        {
          "output_type": "stream",
          "text": [
            "i\n",
            "i\n",
            "['i', 't', 'i', 's', 's', 'i', 'm', 'p', 'l', 'e', '2', 's', 't', 'r', 'i', 'n', 'g', '3', 'n', 'u', 'm', 'b', '_', 'e', 'r']\n"
          ],
          "name": "stdout"
        }
      ]
    },
    {
      "cell_type": "markdown",
      "metadata": {
        "id": "9tGYd1Ev_xvz"
      },
      "source": [
        "# **f).\\W identifier**"
      ]
    },
    {
      "cell_type": "markdown",
      "metadata": {
        "id": "ao5dH4cx_00W"
      },
      "source": [
        "Returns a match where the string DOES NOT contain any word characters"
      ]
    },
    {
      "cell_type": "code",
      "metadata": {
        "id": "whwEcDEc_zvK",
        "colab": {
          "base_uri": "https://localhost:8080/",
          "height": 72
        },
        "outputId": "7207eb46-0825-41dd-dfa1-180653cdb2df"
      },
      "source": [
        "import re \n",
        "pattern = r\"\\W\" \n",
        "text = \"@it is si@mple2 string.3 numb_er %\" \n",
        "print(re.match(pattern, text).group()) \n",
        "print(re.search(pattern, text).group()) \n",
        "print(re.findall(pattern, text))"
      ],
      "execution_count": null,
      "outputs": [
        {
          "output_type": "stream",
          "text": [
            "@\n",
            "@\n",
            "['@', ' ', ' ', '@', ' ', '.', ' ', ' ', '%']\n"
          ],
          "name": "stdout"
        }
      ]
    },
    {
      "cell_type": "markdown",
      "metadata": {
        "id": "hkUwm_fZAX-w"
      },
      "source": [
        "# **g).\\A identifier**"
      ]
    },
    {
      "cell_type": "markdown",
      "metadata": {
        "id": "FwnKkh_iAcBH"
      },
      "source": [
        "Returns a match if the specified characters are at the beginning of the string"
      ]
    },
    {
      "cell_type": "code",
      "metadata": {
        "id": "0t7AUj8gAbPF",
        "colab": {
          "base_uri": "https://localhost:8080/",
          "height": 72
        },
        "outputId": "7994b5e8-c120-4012-bbcb-057bc87c2e1a"
      },
      "source": [
        "import re \n",
        "pattern = r\"\\Apd\" \n",
        "text = \"pdit is si@mple2 string.3 pdumb_er %\" \n",
        "print(re.match(pattern, text).group()) \n",
        "print(re.search(pattern, text).group()) \n",
        "print(re.findall(pattern, text))"
      ],
      "execution_count": null,
      "outputs": [
        {
          "output_type": "stream",
          "text": [
            "pd\n",
            "pd\n",
            "['pd']\n"
          ],
          "name": "stdout"
        }
      ]
    },
    {
      "cell_type": "markdown",
      "metadata": {
        "id": "mwKn9yIoBNT0"
      },
      "source": [
        "# **h).\\b identifier**"
      ]
    },
    {
      "cell_type": "markdown",
      "metadata": {
        "id": "CbEThgj_BUmO"
      },
      "source": [
        "Returns a match where the specified characters are at the beginning or at the end of a word r\"ain\\b\""
      ]
    },
    {
      "cell_type": "code",
      "metadata": {
        "id": "z1hMrxFRBRT_",
        "colab": {
          "base_uri": "https://localhost:8080/",
          "height": 72
        },
        "outputId": "0d523c80-2daa-426a-c2a4-95d578e057dd"
      },
      "source": [
        "import re \n",
        "pattern = r\"\\bpd\" \n",
        "text = \"pdit is si@mple2 string.3 numb_erpd %\" \n",
        "print(re.match(pattern, text).group()) \n",
        "print(re.search(pattern, text).group()) \n",
        "print(re.findall(pattern, text))"
      ],
      "execution_count": null,
      "outputs": [
        {
          "output_type": "stream",
          "text": [
            "pd\n",
            "pd\n",
            "['pd']\n"
          ],
          "name": "stdout"
        }
      ]
    },
    {
      "cell_type": "markdown",
      "metadata": {
        "id": "NSfUwN92CPaj"
      },
      "source": [
        "# **i).\\B identifier**"
      ]
    },
    {
      "cell_type": "markdown",
      "metadata": {
        "id": "mE5qhZLhCVo2"
      },
      "source": [
        "Returns a match where the specified characters are present, but NOT at the beginning (or at the end) of a word"
      ]
    },
    {
      "cell_type": "code",
      "metadata": {
        "id": "equJkSRYCRia",
        "colab": {
          "base_uri": "https://localhost:8080/",
          "height": 72
        },
        "outputId": "6920a1c3-809b-40d6-b086-fb884b6144be"
      },
      "source": [
        "import re \n",
        "pattern = r\"\\Bpd\" \n",
        "text = \"pdit is sipdmple2 string.3 numb_erpd %\" \n",
        "#print(re.match(pattern, text).group()) \n",
        "print(re.search(pattern, text).group()) \n",
        "print(re.search(pattern, text).span())\n",
        "print(re.findall(pattern, text))"
      ],
      "execution_count": null,
      "outputs": [
        {
          "output_type": "stream",
          "text": [
            "pd\n",
            "(10, 12)\n",
            "['pd', 'pd']\n"
          ],
          "name": "stdout"
        }
      ]
    },
    {
      "cell_type": "code",
      "metadata": {
        "id": "f2lOaCYaOfwl"
      },
      "source": [
        "import re \n",
        "pattern = r\"\\1*\" \n",
        "text = \"pdit is sipdmple1 string.2 numb_erpd %\" \n",
        "#print(re.match(pattern, text).group()) \n",
        "print(re.search(pattern, text).group()) \n",
        "print(re.search(pattern, text).span())\n",
        "print(re.findall(pattern, text))"
      ],
      "execution_count": null,
      "outputs": []
    }
  ]
}