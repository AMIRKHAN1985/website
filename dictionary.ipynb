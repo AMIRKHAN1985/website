{
  "nbformat": 4,
  "nbformat_minor": 0,
  "metadata": {
    "colab": {
      "name": "dictionary.ipynb",
      "provenance": [],
      "collapsed_sections": []
    },
    "kernelspec": {
      "name": "python3",
      "display_name": "Python 3"
    }
  },
  "cells": [
    {
      "cell_type": "markdown",
      "metadata": {
        "id": "l6MYk4-z6FuK"
      },
      "source": [
        "# **Dictionary**"
      ]
    },
    {
      "cell_type": "markdown",
      "metadata": {
        "id": "WKuY4ou06IQ4"
      },
      "source": [
        "<p align=\"justify\">A dictionary is a collection which is unordered and changeable. In Python dictionaries are written with curly brackets, and they have keys and values.\n",
        "\n",
        "<p align=\"justify\">The values can be of any data type and can repeat, keys must be of immutable type (string, number or tuple with immutable elements) and must be unique."
      ]
    },
    {
      "cell_type": "code",
      "metadata": {
        "id": "EeskMEfv5kuz",
        "colab": {
          "base_uri": "https://localhost:8080/"
        },
        "outputId": "26897174-af12-45b6-dfd2-13b2625ab069"
      },
      "source": [
        "my_dict1 = {1: 'apple', 2: 'ball'}\n",
        "my_dict2 = {'name': 'John', 1: [2, 4, 3]}\n",
        "my_dict3 = dict([(1,'apple'), (2.0,'ball')])\n",
        "my_dict4 = dict({1:'apple', 2:'ball'})\n",
        "my_dict5 = dict(((1,'apple'), (2,'ball')))\n",
        "my_dict6 = dict(brand=\"Ford\", model=\"Mustang\", year=1964)\n",
        "\n",
        "print(my_dict1)\n",
        "print(my_dict2)\n",
        "print(my_dict3)\n",
        "print(my_dict4)\n",
        "print(my_dict5)\n",
        "print(my_dict6)\n"
      ],
      "execution_count": null,
      "outputs": [
        {
          "output_type": "stream",
          "name": "stdout",
          "text": [
            "{1: 'apple', 2: 'ball'}\n",
            "{'name': 'John', 1: [2, 4, 3]}\n",
            "{1: 'apple', 2.0: 'ball'}\n",
            "{1: 'apple', 2: 'ball'}\n",
            "{1: 'apple', 2: 'ball'}\n",
            "{'brand': 'Ford', 'model': 'Mustang', 'year': 1964}\n"
          ]
        }
      ]
    },
    {
      "cell_type": "markdown",
      "metadata": {
        "id": "KfnMlWVo87kf"
      },
      "source": [
        "**Blank dictionary**"
      ]
    },
    {
      "cell_type": "code",
      "metadata": {
        "id": "Yh_KVRRf62N_",
        "colab": {
          "base_uri": "https://localhost:8080/"
        },
        "outputId": "74a0e051-b4a9-4557-e499-c43dd0c31e18"
      },
      "source": [
        "# empty dictionary\n",
        "my_dict = {}\n",
        "print(my_dict)"
      ],
      "execution_count": null,
      "outputs": [
        {
          "output_type": "stream",
          "name": "stdout",
          "text": [
            "{}\n"
          ]
        }
      ]
    },
    {
      "cell_type": "markdown",
      "metadata": {
        "id": "2D3PIDjB9RN4"
      },
      "source": [
        "# **Accessing Elements from Dictionary**"
      ]
    },
    {
      "cell_type": "code",
      "metadata": {
        "id": "nPi7VfT09TUz",
        "colab": {
          "base_uri": "https://localhost:8080/"
        },
        "outputId": "0f39d234-a370-41b1-891d-2d64319807a5"
      },
      "source": [
        "my_dict = {'name': 'Jack', 'age': 26}\n",
        "print(my_dict['name'])\n",
        "print(my_dict.get('age1'))\n",
        "print(my_dict.get(\"school\",\"xyz\"))"
      ],
      "execution_count": null,
      "outputs": [
        {
          "output_type": "stream",
          "name": "stdout",
          "text": [
            "Jack\n",
            "None\n",
            "xyz\n"
          ]
        }
      ]
    },
    {
      "cell_type": "code",
      "metadata": {
        "id": "lOpwZwee9rcK",
        "colab": {
          "base_uri": "https://localhost:8080/"
        },
        "outputId": "50d78645-3f29-404c-e37d-12a563bb4be7"
      },
      "source": [
        "my_dict = {'name': 'Jack', 'age': 26}\n",
        "print(my_dict.get('address')) # this will give you None\n",
        "#print(my_dict['address'])# this will give you key error\n",
        "#print(my_dict['Jack'])# this will give you key error"
      ],
      "execution_count": null,
      "outputs": [
        {
          "output_type": "stream",
          "name": "stdout",
          "text": [
            "None\n"
          ]
        }
      ]
    },
    {
      "cell_type": "markdown",
      "metadata": {
        "id": "VbCoVIC2FczU"
      },
      "source": [
        "## **Nested Dictionary**"
      ]
    },
    {
      "cell_type": "code",
      "metadata": {
        "id": "ze9g8_8LFpb1",
        "colab": {
          "base_uri": "https://localhost:8080/"
        },
        "outputId": "e26ef9f6-8c26-4331-d36f-f2191851fa35"
      },
      "source": [
        "my_dict = {'Dict1': {1: 'jack',2:'jon'},'Dict2': {'age': 27}} \n",
        "print(my_dict)\n",
        "  "
      ],
      "execution_count": null,
      "outputs": [
        {
          "output_type": "stream",
          "name": "stdout",
          "text": [
            "{'Dict1': {1: 'jack', 2: 'jon'}, 'Dict2': {'age': 27}}\n"
          ]
        }
      ]
    },
    {
      "cell_type": "markdown",
      "metadata": {
        "id": "TfNqQy7DGXbD"
      },
      "source": [
        "# **Accessing Elements from Nested Dictionary**"
      ]
    },
    {
      "cell_type": "code",
      "metadata": {
        "id": "sJmtFszTH8AZ",
        "colab": {
          "base_uri": "https://localhost:8080/"
        },
        "outputId": "d71afa8f-bb35-4aff-a9ed-ffb6b72ba828"
      },
      "source": [
        "my_dict = {'Dict1': {1: 'jack',2:'jon'},'Dict2': {'age': 27}}\n",
        "print(my_dict['Dict1']) \n",
        "print(my_dict['Dict1'][2]) \n",
        "print(my_dict['Dict2']['age']) "
      ],
      "execution_count": null,
      "outputs": [
        {
          "output_type": "stream",
          "name": "stdout",
          "text": [
            "{1: 'jack', 2: 'jon'}\n",
            "jon\n",
            "27\n"
          ]
        }
      ]
    },
    {
      "cell_type": "markdown",
      "metadata": {
        "id": "oTzzoK8y-Zph"
      },
      "source": [
        "# **Changing and Adding Dictionary elements (Updating Dictionary)**"
      ]
    },
    {
      "cell_type": "code",
      "metadata": {
        "id": "tdkLHxLp-ba_",
        "colab": {
          "base_uri": "https://localhost:8080/"
        },
        "outputId": "8b62bc13-65d4-48e9-e47d-82ccbde429cd"
      },
      "source": [
        "my_dict = {'name': 'Jack', 'age': 26}\n",
        "my_dict['age'] = 27\n",
        "print(my_dict)"
      ],
      "execution_count": null,
      "outputs": [
        {
          "output_type": "stream",
          "name": "stdout",
          "text": [
            "{'name': 'Jack', 'age': 27}\n"
          ]
        }
      ]
    },
    {
      "cell_type": "code",
      "metadata": {
        "id": "fEqWuk1G-43E",
        "colab": {
          "base_uri": "https://localhost:8080/"
        },
        "outputId": "c5063d5f-e898-426c-a0cd-a5bb45534ac8"
      },
      "source": [
        "my_dict = {'name': 'Jack', 'age': 26}\n",
        "my_dict['address'] = 'Downtown'\n",
        "print(my_dict)"
      ],
      "execution_count": null,
      "outputs": [
        {
          "output_type": "stream",
          "name": "stdout",
          "text": [
            "{'name': 'Jack', 'age': 26, 'address': 'Downtown'}\n"
          ]
        }
      ]
    },
    {
      "cell_type": "markdown",
      "metadata": {
        "id": "IvqLbSah_sAE"
      },
      "source": [
        "# **Removing elements from Dictionary**"
      ]
    },
    {
      "cell_type": "code",
      "metadata": {
        "id": "RhciLj8J_zXl",
        "colab": {
          "base_uri": "https://localhost:8080/"
        },
        "outputId": "ca99383a-0031-4552-9cb1-64db5e49ab6d"
      },
      "source": [
        "my_dict = { \"brand\": \"Ford\",\"model\": \"Mustang\", \"year\": 1964}\n",
        "my_dict.pop(\"model\")\n",
        "print(my_dict)"
      ],
      "execution_count": null,
      "outputs": [
        {
          "output_type": "stream",
          "name": "stdout",
          "text": [
            "{'brand': 'Ford', 'year': 1964}\n"
          ]
        }
      ]
    },
    {
      "cell_type": "code",
      "metadata": {
        "id": "_68xjgXPAI_0",
        "colab": {
          "base_uri": "https://localhost:8080/"
        },
        "outputId": "878450a6-238c-4dd0-ff88-4aba03ebb68a"
      },
      "source": [
        "my_dict = {\"brand\": \"Ford\",\"model\": \"Mustang\",\"year\": 1964}\n",
        "my_dict.popitem()\n",
        "print(my_dict)"
      ],
      "execution_count": null,
      "outputs": [
        {
          "output_type": "stream",
          "name": "stdout",
          "text": [
            "{'brand': 'Ford', 'model': 'Mustang'}\n"
          ]
        }
      ]
    },
    {
      "cell_type": "code",
      "metadata": {
        "id": "Tyb0ibtUDTes",
        "colab": {
          "base_uri": "https://localhost:8080/"
        },
        "outputId": "331f473a-3edd-4a01-b761-5e1750ff6f75"
      },
      "source": [
        "my_dict = {'name': 'Jack', 'age': 26}\n",
        "del my_dict[\"age\"]\n",
        "print(my_dict)"
      ],
      "execution_count": null,
      "outputs": [
        {
          "output_type": "stream",
          "name": "stdout",
          "text": [
            "{'name': 'Jack'}\n"
          ]
        }
      ]
    },
    {
      "cell_type": "code",
      "metadata": {
        "id": "RgfoQcGnDW0z"
      },
      "source": [
        "my_dict = {'name': 'Jack', 'age': 26}\n",
        "del my_dict\n",
        "#print(my_dict)# this will give you error my_dict is not defined"
      ],
      "execution_count": null,
      "outputs": []
    },
    {
      "cell_type": "markdown",
      "metadata": {
        "id": "V1CruhehBfmR"
      },
      "source": [
        "# **Loop Through a Dictionary**"
      ]
    },
    {
      "cell_type": "code",
      "metadata": {
        "id": "jHregkhABe9g",
        "colab": {
          "base_uri": "https://localhost:8080/"
        },
        "outputId": "ed462954-2659-4aaa-cdff-759e1bad163b"
      },
      "source": [
        "my_dict = {'name': 'Jack', 'age': 26}\n",
        "# Print all key names in the dictionary, one by one:\n",
        "for x in my_dict:\n",
        "  print(x)"
      ],
      "execution_count": null,
      "outputs": [
        {
          "output_type": "stream",
          "name": "stdout",
          "text": [
            "name\n",
            "age\n"
          ]
        }
      ]
    },
    {
      "cell_type": "code",
      "metadata": {
        "id": "g7D0vG0rCB7o",
        "colab": {
          "base_uri": "https://localhost:8080/"
        },
        "outputId": "4bb5b735-ea8e-4569-899a-1579c1cccb59"
      },
      "source": [
        "my_dict = {'name': 'Jack', 'age': 26}\n",
        "# Print all values in the dictionary, one by one:\n",
        "for x in my_dict:\n",
        "  print(my_dict[x])"
      ],
      "execution_count": null,
      "outputs": [
        {
          "output_type": "stream",
          "name": "stdout",
          "text": [
            "Jack\n",
            "26\n"
          ]
        }
      ]
    },
    {
      "cell_type": "code",
      "metadata": {
        "id": "vmMn7eEYK4Qn",
        "colab": {
          "base_uri": "https://localhost:8080/"
        },
        "outputId": "693257f7-ec04-474c-fd1d-555d687c7ee1"
      },
      "source": [
        "my_dict = {'name': 'Jack', 'age': 26}\n",
        "# Print all values in the dictionary, one by one:\n",
        "#  print(type(my_dict.keys()))      # my_dict.keys() return dict_keys object\n",
        "for x in my_dict.keys():\n",
        "  print(x)"
      ],
      "execution_count": null,
      "outputs": [
        {
          "output_type": "stream",
          "name": "stdout",
          "text": [
            "name\n",
            "age\n"
          ]
        }
      ]
    },
    {
      "cell_type": "code",
      "metadata": {
        "colab": {
          "base_uri": "https://localhost:8080/"
        },
        "id": "8HF0Aj2dZoQO",
        "outputId": "d130a01e-af16-45c1-90bf-6531971e236c"
      },
      "source": [
        "my_dict = {'name': 'Jack', 'age': 26}\n",
        "# Print all values in the dictionary, one by one:\n",
        "# print(type(my_dict.values()))      # my_dict.values() return dict_values object\n",
        "for x in my_dict.values():\n",
        "  print(x)"
      ],
      "execution_count": null,
      "outputs": [
        {
          "output_type": "stream",
          "name": "stdout",
          "text": [
            "Jack\n",
            "26\n"
          ]
        }
      ]
    },
    {
      "cell_type": "code",
      "metadata": {
        "id": "bCsmrJm1CkEM",
        "colab": {
          "base_uri": "https://localhost:8080/"
        },
        "outputId": "ab38d64a-1652-4492-efd6-33c3550d56ad"
      },
      "source": [
        "my_dict = {'name': 'Jack', 'age': 26}\n",
        "# we can use the items() method to return all key and values pairs of a dictionary:\n",
        "# print(type(my_dict.items()))      # my_dict.items() return dict_items object contained two values\n",
        "for x, y in my_dict.items():\n",
        "  print(x, y)"
      ],
      "execution_count": null,
      "outputs": [
        {
          "output_type": "stream",
          "name": "stdout",
          "text": [
            "name Jack\n",
            "age 26\n"
          ]
        }
      ]
    },
    {
      "cell_type": "markdown",
      "metadata": {
        "id": "pdzEGKeMIc1F"
      },
      "source": [
        "# **Dictionary Methods():**"
      ]
    },
    {
      "cell_type": "markdown",
      "metadata": {
        "id": "us8CbneNIqHb"
      },
      "source": [
        "# **a).clear()**"
      ]
    },
    {
      "cell_type": "code",
      "metadata": {
        "id": "R8BbhB03If2m",
        "colab": {
          "base_uri": "https://localhost:8080/"
        },
        "outputId": "18771d7e-a865-4651-e2cb-76a1c05bb4d8"
      },
      "source": [
        "my_dict = {'name': 'Jack', 'age': 26}\n",
        "my_dict.clear()\n",
        "\n",
        "print(my_dict)"
      ],
      "execution_count": null,
      "outputs": [
        {
          "output_type": "stream",
          "name": "stdout",
          "text": [
            "{}\n"
          ]
        }
      ]
    },
    {
      "cell_type": "markdown",
      "metadata": {
        "id": "3vGGWX1BJK47"
      },
      "source": [
        "## **b).copy()**"
      ]
    },
    {
      "cell_type": "code",
      "metadata": {
        "id": "TxFAiSczJKHC",
        "colab": {
          "base_uri": "https://localhost:8080/"
        },
        "outputId": "05f702f6-fa78-4589-b1fd-d14b1e511a1f"
      },
      "source": [
        "my_dict = {'name': 'Jack', 'age': 26}\n",
        "x=my_dict.copy()\n",
        "print(x)\n",
        "print(id(my_dict))\n",
        "print(id(x))"
      ],
      "execution_count": null,
      "outputs": [
        {
          "output_type": "stream",
          "name": "stdout",
          "text": [
            "{'name': 'Jack', 'age': 26}\n",
            "140508354628816\n",
            "140508390583504\n"
          ]
        }
      ]
    },
    {
      "cell_type": "markdown",
      "metadata": {
        "id": "bVox9zusJ2a1"
      },
      "source": [
        "# **c).fromkeys()**"
      ]
    },
    {
      "cell_type": "code",
      "metadata": {
        "id": "w_K4HX6rJ5m_",
        "colab": {
          "base_uri": "https://localhost:8080/"
        },
        "outputId": "581ff3bc-52b5-465c-dad1-740dcf4f9d3c"
      },
      "source": [
        "x = ('key1', 'key2', 'key3')\n",
        "y = \"hello\"\n",
        "\n",
        "my_dict = dict.fromkeys(x,y)\n",
        "\n",
        "print(my_dict)"
      ],
      "execution_count": null,
      "outputs": [
        {
          "output_type": "stream",
          "name": "stdout",
          "text": [
            "{'key1': 'hello', 'key2': 'hello', 'key3': 'hello'}\n"
          ]
        }
      ]
    },
    {
      "cell_type": "code",
      "metadata": {
        "colab": {
          "base_uri": "https://localhost:8080/"
        },
        "id": "Ow5LgB8Ta9bq",
        "outputId": "e7026871-2319-4108-f7a8-776be6b03804"
      },
      "source": [
        "x = ('key1', 'key2', 'key3')\n",
        "y = [1,2,3]\n",
        "\n",
        "my_dict = dict.fromkeys(x,y)\n",
        "\n",
        "print(my_dict)"
      ],
      "execution_count": null,
      "outputs": [
        {
          "output_type": "stream",
          "name": "stdout",
          "text": [
            "{'key1': [1, 2, 3], 'key2': [1, 2, 3], 'key3': [1, 2, 3]}\n"
          ]
        }
      ]
    },
    {
      "cell_type": "markdown",
      "metadata": {
        "id": "9DIhEFkNLLXc"
      },
      "source": [
        "# **d).update()**"
      ]
    },
    {
      "cell_type": "code",
      "metadata": {
        "id": "sjP0Sn2LLKnG",
        "colab": {
          "base_uri": "https://localhost:8080/"
        },
        "outputId": "8cebd463-8b52-4331-c007-46ab0072f585"
      },
      "source": [
        "my_dict = {'name': 'Jack', 'age': 26}\n",
        "\n",
        "my_dict.update({\"color\": \"White\",\"school\":\"xyz\"})\n",
        "\n",
        "print(my_dict)"
      ],
      "execution_count": null,
      "outputs": [
        {
          "output_type": "stream",
          "name": "stdout",
          "text": [
            "{'name': 'Jack', 'age': 26, 'color': 'White', 'school': 'xyz'}\n"
          ]
        }
      ]
    }
  ]
}