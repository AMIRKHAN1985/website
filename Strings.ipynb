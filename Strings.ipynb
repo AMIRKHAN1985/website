{
  "nbformat": 4,
  "nbformat_minor": 0,
  "metadata": {
    "colab": {
      "name": "Strings.ipynb",
      "provenance": [],
      "collapsed_sections": []
    },
    "kernelspec": {
      "name": "python3",
      "display_name": "Python 3",
      "language": "python"
    }
  },
  "cells": [
    {
      "cell_type": "markdown",
      "metadata": {
        "id": "UK9FhcLGREnK"
      },
      "source": [
        "# **Strings:**"
      ]
    },
    {
      "cell_type": "markdown",
      "metadata": {
        "id": "WEGXlwG-RHAa"
      },
      "source": [
        "<p align=\"justify\">A string is a sequence of characters that may be a combination of letters,numbers, and special symbols. To define a string in Python, you can enclose the string in matching single or double quotes:"
      ]
    },
    {
      "cell_type": "markdown",
      "metadata": {
        "id": "G-IRut9bRNHj"
      },
      "source": [
        "<p align=\"justify\">string1 = ‘I am enclosed in single quotes.’\n",
        "\n",
        "<p align=\"justify\">string2 = “I am enclosed in double quotes.”\n"
      ]
    },
    {
      "cell_type": "markdown",
      "metadata": {
        "id": "g6AnrLx4SjDT"
      },
      "source": [
        "# **String Indexing:**"
      ]
    },
    {
      "cell_type": "markdown",
      "metadata": {
        "id": "sHaBijDnS5ve"
      },
      "source": [
        "![alt text](https://www.learnbyexample.org/wp-content/uploads/python/String-Indexing.png)"
      ]
    },
    {
      "cell_type": "code",
      "metadata": {
        "id": "cmJKwz8dRDFv",
        "colab": {
          "base_uri": "https://localhost:8080/"
        },
        "outputId": "35847e81-489f-4926-db8f-36ed5f7ec9da"
      },
      "source": [
        "S=\"Hello Python\"\n",
        "print(S[0])\n",
        "print(S[-1])\n"
      ],
      "execution_count": null,
      "outputs": [
        {
          "output_type": "stream",
          "name": "stdout",
          "text": [
            "H\n",
            "n\n"
          ]
        }
      ]
    },
    {
      "cell_type": "markdown",
      "metadata": {
        "id": "FKPx7SO5TfUY"
      },
      "source": [
        "# **Length of String:**"
      ]
    },
    {
      "cell_type": "code",
      "metadata": {
        "id": "3nBOBaYBTSAG",
        "colab": {
          "base_uri": "https://localhost:8080/"
        },
        "outputId": "cf93c34f-b972-4240-fd65-28eb0a2d03b9"
      },
      "source": [
        "S=\"Hello Python\"\n",
        "print(len(S))"
      ],
      "execution_count": null,
      "outputs": [
        {
          "output_type": "stream",
          "name": "stdout",
          "text": [
            "12\n"
          ]
        }
      ]
    },
    {
      "cell_type": "markdown",
      "metadata": {
        "id": "ZF_jRpumT6Zi"
      },
      "source": [
        "# **Concatenating Strings:**"
      ]
    },
    {
      "cell_type": "code",
      "metadata": {
        "id": "1fHoj1p-To6p",
        "colab": {
          "base_uri": "https://localhost:8080/"
        },
        "outputId": "1b2b54dc-a44b-4504-9030-c8d12d4bf31d"
      },
      "source": [
        "H=\"Hello \"\n",
        "P=\"Python\"\n",
        "print(H+P)\n"
      ],
      "execution_count": null,
      "outputs": [
        {
          "output_type": "stream",
          "name": "stdout",
          "text": [
            "Hello Python\n"
          ]
        }
      ]
    },
    {
      "cell_type": "markdown",
      "metadata": {
        "id": "YapsIEj9UGIS"
      },
      "source": [
        "# **Repeating Strings:** "
      ]
    },
    {
      "cell_type": "code",
      "metadata": {
        "id": "HOgeg0t1UBbg",
        "colab": {
          "base_uri": "https://localhost:8080/"
        },
        "outputId": "0b0d3f0f-93a0-4052-bf52-8fd1cb87da0a"
      },
      "source": [
        "H=\"Hello\"\n",
        "print(H*5)\n"
      ],
      "execution_count": null,
      "outputs": [
        {
          "output_type": "stream",
          "name": "stdout",
          "text": [
            "HelloHelloHelloHelloHello\n"
          ]
        }
      ]
    },
    {
      "cell_type": "markdown",
      "metadata": {
        "id": "HP4IiWYOUQJV"
      },
      "source": [
        "# **Slicing Strings:**"
      ]
    },
    {
      "cell_type": "code",
      "metadata": {
        "id": "mdV-cu2XULE2",
        "colab": {
          "base_uri": "https://localhost:8080/"
        },
        "outputId": "332b52b2-4d11-4df3-8e11-76e62ea71660"
      },
      "source": [
        "S=\"Hello Python\"\n",
        "print(S[2:4])\n",
        "print(S[:])\n",
        "print(S[:-6])\n",
        "print(S[-6:-1] )\n",
        "print(S[8:2:-1] )\n",
        "print(S[::-1] )\n"
      ],
      "execution_count": null,
      "outputs": [
        {
          "output_type": "stream",
          "name": "stdout",
          "text": [
            "ll\n",
            "Hello Python\n",
            "Hello \n",
            "Pytho\n",
            "tyP ol\n",
            "nohtyP olleH\n"
          ]
        }
      ]
    },
    {
      "cell_type": "markdown",
      "metadata": {
        "id": "zLGWMHDoVX7s"
      },
      "source": [
        "# **.format():**"
      ]
    },
    {
      "cell_type": "code",
      "metadata": {
        "id": "ulw0qnnxUgez",
        "colab": {
          "base_uri": "https://localhost:8080/"
        },
        "outputId": "b9d10d48-5f78-4949-e95c-311028e1a8eb"
      },
      "source": [
        "a='rohan'\n",
        "b=\"singh\"\n",
        "string=\"my name is {} and title is {}\".format(a,b)\n",
        "print(string)\n"
      ],
      "execution_count": null,
      "outputs": [
        {
          "output_type": "stream",
          "name": "stdout",
          "text": [
            "my name is rohan and title is singh\n"
          ]
        }
      ]
    },
    {
      "cell_type": "code",
      "metadata": {
        "id": "g3cu6QYBVlfY",
        "colab": {
          "base_uri": "https://localhost:8080/"
        },
        "outputId": "bd47027b-c20a-4ee0-cbf6-619b8da69a69"
      },
      "source": [
        "a='rohan'\n",
        "b=\"singh\"\n",
        "string=\"my name is {0} and title is {1}\".format(a,b)\n",
        "print(string)"
      ],
      "execution_count": null,
      "outputs": [
        {
          "output_type": "stream",
          "name": "stdout",
          "text": [
            "my name is rohan and title is singh\n"
          ]
        }
      ]
    },
    {
      "cell_type": "code",
      "metadata": {
        "id": "9JumKEorVxUs",
        "colab": {
          "base_uri": "https://localhost:8080/"
        },
        "outputId": "cc7b33ad-d814-4427-acc0-2de5206d5832"
      },
      "source": [
        "a='rohan'\n",
        "b=\"singh\"\n",
        "string=\"my name is {1} and title is {0}\".format(a,b)\n",
        "print(string)"
      ],
      "execution_count": null,
      "outputs": [
        {
          "output_type": "stream",
          "name": "stdout",
          "text": [
            "my name is singh and title is rohan\n"
          ]
        }
      ]
    },
    {
      "cell_type": "code",
      "metadata": {
        "id": "8PnJP4-lVqj_",
        "colab": {
          "base_uri": "https://localhost:8080/"
        },
        "outputId": "cfd805c4-5762-455b-f4f7-1ab9b4183c89"
      },
      "source": [
        "a='rohan'\n",
        "b=\"singh\"\n",
        "c=\"hello\"\n",
        "string=\"my name is {1} and title is {0} {2}\".format(a,b,c)\n",
        "print(string)"
      ],
      "execution_count": null,
      "outputs": [
        {
          "output_type": "stream",
          "name": "stdout",
          "text": [
            "my name is singh and title is rohan hello\n"
          ]
        }
      ]
    },
    {
      "cell_type": "markdown",
      "metadata": {
        "id": "TXIRPpOWWbZU"
      },
      "source": [
        "# **f string:**"
      ]
    },
    {
      "cell_type": "code",
      "metadata": {
        "id": "3RtE-1MnWcvd",
        "colab": {
          "base_uri": "https://localhost:8080/"
        },
        "outputId": "08e5f4d1-4ee9-4ac7-bd8b-9665f4052226"
      },
      "source": [
        "a='rohan'\n",
        "b=\"singh\"\n",
        "string=f\"my name is {a} and title is {b}\"\n",
        "print(string)\n"
      ],
      "execution_count": null,
      "outputs": [
        {
          "output_type": "stream",
          "name": "stdout",
          "text": [
            "my name is rohan and title is singh\n"
          ]
        }
      ]
    },
    {
      "cell_type": "markdown",
      "metadata": {
        "id": "diM-d140W1u7"
      },
      "source": [
        "# **String methods:**"
      ]
    },
    {
      "cell_type": "markdown",
      "metadata": {
        "id": "_T0i6S8IXkk5"
      },
      "source": [
        "# **a).split()**\n",
        "\n",
        "<p align=\"justify\">split method splits a string into a list.You can specify the separator, default separator is any whitespace.\n",
        "\n",
        "**Syntax:**\n",
        "\n",
        "string.split(separator, maxsplit)"
      ]
    },
    {
      "cell_type": "code",
      "metadata": {
        "id": "yvSVx_mlW0Im",
        "colab": {
          "base_uri": "https://localhost:8080/"
        },
        "outputId": "2fb479cb-2cb3-4d27-ff31-87f06476154c"
      },
      "source": [
        "txt = \"welcome to     theIndia\"\n",
        "\n",
        "x = txt.split()\n",
        "print(type(x))\n",
        "print(x)"
      ],
      "execution_count": null,
      "outputs": [
        {
          "output_type": "stream",
          "name": "stdout",
          "text": [
            "<class 'list'>\n",
            "['welcome', 'to', 'theIndia']\n"
          ]
        }
      ]
    },
    {
      "cell_type": "code",
      "metadata": {
        "id": "Pg1gWZd9hAno",
        "colab": {
          "base_uri": "https://localhost:8080/"
        },
        "outputId": "a826f559-be71-4ffa-bcb9-565de88471ab"
      },
      "source": [
        "print(\"welcome to India\".split())"
      ],
      "execution_count": null,
      "outputs": [
        {
          "output_type": "stream",
          "name": "stdout",
          "text": [
            "['welcome', 'to', 'India']\n"
          ]
        }
      ]
    },
    {
      "cell_type": "code",
      "metadata": {
        "colab": {
          "base_uri": "https://localhost:8080/"
        },
        "id": "tfE3hR8dFvrf",
        "outputId": "68b66e60-2241-45fc-f5f7-1cc7c7d3068e"
      },
      "source": [
        "print(\"welcome,to,India\".split(','))"
      ],
      "execution_count": null,
      "outputs": [
        {
          "output_type": "stream",
          "name": "stdout",
          "text": [
            "['welcome', 'to', 'India']\n"
          ]
        }
      ]
    },
    {
      "cell_type": "code",
      "metadata": {
        "colab": {
          "base_uri": "https://localhost:8080/"
        },
        "id": "VdlhSjRuF0x0",
        "outputId": "bcf50492-9910-405a-a640-23fefe998d7d"
      },
      "source": [
        "print(\"welcome,to,India\".split(',',1))"
      ],
      "execution_count": null,
      "outputs": [
        {
          "output_type": "stream",
          "name": "stdout",
          "text": [
            "['welcome', 'to,India']\n"
          ]
        }
      ]
    },
    {
      "cell_type": "markdown",
      "metadata": {
        "id": "VGjPA_cqYCb4"
      },
      "source": [
        "# **b).splitlines()**\n",
        "\n",
        "<p align=\"justify\">The splitlines() method splits a string into a list. The splitting is done at line breaks.\n",
        "\n",
        "**Synatx:**\n",
        "\n",
        "string.splitlines()"
      ]
    },
    {
      "cell_type": "code",
      "metadata": {
        "id": "zp0ZMuDXXzOx",
        "colab": {
          "base_uri": "https://localhost:8080/"
        },
        "outputId": "a0a92df5-5c74-4f74-bc27-7a873da95c6f"
      },
      "source": [
        "txt = \"Thank you for the music\\nWelcome to the India\"\n",
        "\n",
        "x = txt.splitlines()\n",
        "\n",
        "print(x)"
      ],
      "execution_count": null,
      "outputs": [
        {
          "output_type": "stream",
          "name": "stdout",
          "text": [
            "['Thank you for the music', 'Welcome to the India']\n"
          ]
        }
      ]
    },
    {
      "cell_type": "code",
      "metadata": {
        "id": "GTlWyGtWYQF5",
        "colab": {
          "base_uri": "https://localhost:8080/"
        },
        "outputId": "22630ca0-2965-4bbc-f9c6-83cc4fa001c5"
      },
      "source": [
        "txt = \"Thank you for the music\\n\\nWelcome to the \\nIndia\"\n",
        "\n",
        "x = txt.splitlines()\n",
        "\n",
        "print(x)"
      ],
      "execution_count": null,
      "outputs": [
        {
          "output_type": "stream",
          "name": "stdout",
          "text": [
            "['Thank you for the music', '', 'Welcome to the ', 'India']\n"
          ]
        }
      ]
    },
    {
      "cell_type": "markdown",
      "metadata": {
        "id": "94lIpg_CY0Oy"
      },
      "source": [
        "# **c).replace()**\n",
        "\n",
        "<p align=\"justify\">The replace() method replaces a specified phrase with another specified phrase.\n",
        "\n",
        "**Syntax:**\n",
        "\n",
        "string.replace(oldvalue, newvalue, count)"
      ]
    },
    {
      "cell_type": "code",
      "metadata": {
        "id": "EQ8U2JcGY66s",
        "colab": {
          "base_uri": "https://localhost:8080/"
        },
        "outputId": "a54369b5-dd8f-4d98-c257-83f2de91d724"
      },
      "source": [
        "txt = \"I like bananas\"\n",
        "\n",
        "x = txt.replace(\"bananas\", \"apples\")\n",
        "\n",
        "print(x)"
      ],
      "execution_count": null,
      "outputs": [
        {
          "output_type": "stream",
          "name": "stdout",
          "text": [
            "I like apples\n"
          ]
        }
      ]
    },
    {
      "cell_type": "code",
      "metadata": {
        "colab": {
          "base_uri": "https://localhost:8080/"
        },
        "id": "r0kL1lXJGu_g",
        "outputId": "391a50d9-0c37-4290-ce17-10a4ef38a035"
      },
      "source": [
        "txt = \"one one was a race horse, two two was one too.\"\n",
        "\n",
        "x = txt.replace(\"one\", \"three\", 2)\n",
        "\n",
        "print(x)"
      ],
      "execution_count": null,
      "outputs": [
        {
          "output_type": "stream",
          "name": "stdout",
          "text": [
            "three three was a race horse, two two was one too.\n"
          ]
        }
      ]
    },
    {
      "cell_type": "markdown",
      "metadata": {
        "id": "RkLS_0-gZHQF"
      },
      "source": [
        "# **d).lower()**\n",
        "\n",
        "<p align=\"justify\">The lower() method returns a string where all characters are lower case.Symbols and Numbers are ignored.\n",
        "\n",
        "**Syntax:**\n",
        "\n",
        "string.lower()"
      ]
    },
    {
      "cell_type": "code",
      "metadata": {
        "id": "MRbej0MtY9ku",
        "colab": {
          "base_uri": "https://localhost:8080/"
        },
        "outputId": "5c416f67-b3f7-48c9-d345-e3e3074d6751"
      },
      "source": [
        "txt = \"Hello my 12FRIENDS\"\n",
        "\n",
        "x = txt.lower()\n",
        "\n",
        "print(x)"
      ],
      "execution_count": null,
      "outputs": [
        {
          "output_type": "stream",
          "name": "stdout",
          "text": [
            "hello my 12friends\n"
          ]
        }
      ]
    },
    {
      "cell_type": "markdown",
      "metadata": {
        "id": "UdqE8ViYZP-p"
      },
      "source": [
        "# **e).upper()**\n",
        "\n",
        "<p align=\"justify\">The upper() method returns a string where all characters are upper case.Symbols and Numbers are ignored.\n",
        "\n",
        "**Syntax:**\n",
        "\n",
        "string.upper()"
      ]
    },
    {
      "cell_type": "code",
      "metadata": {
        "id": "StzPflKfZOhO",
        "colab": {
          "base_uri": "https://localhost:8080/"
        },
        "outputId": "7cfa17aa-9263-4733-89b6-731ce48e53f6"
      },
      "source": [
        "txt = \"Hello my 23FRIENDS\"\n",
        "\n",
        "x = txt.upper()\n",
        "\n",
        "print(x)"
      ],
      "execution_count": null,
      "outputs": [
        {
          "output_type": "stream",
          "name": "stdout",
          "text": [
            "HELLO MY 23FRIENDS\n"
          ]
        }
      ]
    },
    {
      "cell_type": "markdown",
      "metadata": {
        "id": "m1ja2_78ZgiX"
      },
      "source": [
        "# **f).startswith()**\n",
        "\n",
        "<p align=\"justify\">The startswith() method returns True if the string starts with the specified value, otherwise False.\n",
        "\n",
        "**Syntax:**\n",
        "\n",
        "string.startswith(value, start, end)"
      ]
    },
    {
      "cell_type": "code",
      "metadata": {
        "id": "9uLfE3abZYi3",
        "colab": {
          "base_uri": "https://localhost:8080/"
        },
        "outputId": "5ca55fe0-d667-4487-c0c7-1cedd49d40c0"
      },
      "source": [
        "txt = \"Hello, welcome to my world.\"\n",
        "\n",
        "x = txt.startswith(\"hello\")\n",
        "\n",
        "print(x)"
      ],
      "execution_count": null,
      "outputs": [
        {
          "output_type": "stream",
          "name": "stdout",
          "text": [
            "False\n"
          ]
        }
      ]
    },
    {
      "cell_type": "code",
      "metadata": {
        "colab": {
          "base_uri": "https://localhost:8080/"
        },
        "id": "MXuTFv3RIAzP",
        "outputId": "8bf9dc7d-2ccf-4493-9e70-0d1c06320cf4"
      },
      "source": [
        "txt = \"Hello, welcome to my world.\"\n",
        "\n",
        "x = txt.startswith(\"wel\", 7, 9)\n",
        "\n",
        "print(x)"
      ],
      "execution_count": null,
      "outputs": [
        {
          "output_type": "stream",
          "name": "stdout",
          "text": [
            "False\n"
          ]
        }
      ]
    },
    {
      "cell_type": "markdown",
      "metadata": {
        "id": "ZIL9dQqxZrBf"
      },
      "source": [
        "# **g).endswith()**\n",
        "\n",
        "<p align=\"justify\">The endswith() method returns True if the string ends with the specified value, otherwise False.\n",
        "\n",
        "**Syntax:**\n",
        "\n",
        "string.endswith(value, start, end)"
      ]
    },
    {
      "cell_type": "code",
      "metadata": {
        "id": "dgS3u6llZnqC",
        "colab": {
          "base_uri": "https://localhost:8080/"
        },
        "outputId": "dd4c1b77-f03e-48ae-8aca-447e1c52aa37"
      },
      "source": [
        "txt = \"Hello, welcome to my world.\"\n",
        "\n",
        "x = txt.endswith(\"world.\")\n",
        "\n",
        "print(x)"
      ],
      "execution_count": null,
      "outputs": [
        {
          "output_type": "stream",
          "name": "stdout",
          "text": [
            "True\n"
          ]
        }
      ]
    },
    {
      "cell_type": "code",
      "metadata": {
        "colab": {
          "base_uri": "https://localhost:8080/"
        },
        "id": "zaSQnB3zIXWt",
        "outputId": "9e70b2ec-9c3e-4d36-92fa-8c35b859e9e7"
      },
      "source": [
        "txt = \"Hello, welcome to my world.\"\n",
        "\n",
        "x = txt.endswith(\"my world.\", 5, 11)\n",
        "\n",
        "print(x)"
      ],
      "execution_count": null,
      "outputs": [
        {
          "output_type": "stream",
          "name": "stdout",
          "text": [
            "False\n"
          ]
        }
      ]
    },
    {
      "cell_type": "markdown",
      "metadata": {
        "id": "9O8YINzkaNYy"
      },
      "source": [
        "# **h).title()**\n",
        "\n",
        "<p align=\"justify\">The title() method returns a string where the first character in every word is upper case. Like a header, or a title.If the word contains a number or a symbol, the first letter after that will be converted to upper case.\n",
        "\n",
        "**Syntax:**\n",
        "\n",
        "string.title()"
      ]
    },
    {
      "cell_type": "code",
      "metadata": {
        "id": "QUs889dVaR42",
        "colab": {
          "base_uri": "https://localhost:8080/"
        },
        "outputId": "b08e3f2e-0564-46b7-a35f-50254866d818"
      },
      "source": [
        "txt = \"Welcome to my world\"\n",
        "\n",
        "x = txt.title()\n",
        "\n",
        "print(x)"
      ],
      "execution_count": null,
      "outputs": [
        {
          "output_type": "stream",
          "name": "stdout",
          "text": [
            "Welcome To My World\n"
          ]
        }
      ]
    },
    {
      "cell_type": "markdown",
      "metadata": {
        "id": "T-iXP9KEa4zM"
      },
      "source": [
        "# **i).index()**\n",
        "\n",
        "<p align=\"justify\">The index() method finds the first occurrence of the specified value.The index() method raises an exception if the value is not found.\n",
        "\n",
        "**Syntax:**\n",
        "\n",
        "string.index(value, start, end)"
      ]
    },
    {
      "cell_type": "code",
      "metadata": {
        "id": "SstKGZt8aU_x",
        "colab": {
          "base_uri": "https://localhost:8080/"
        },
        "outputId": "799811ce-44ff-48cf-c90d-0676c67c9159"
      },
      "source": [
        "txt = \"Hello, welcome to my world.\"\n",
        "\n",
        "x = txt.index(\"welcome\")\n",
        "\n",
        "print(x)"
      ],
      "execution_count": null,
      "outputs": [
        {
          "output_type": "stream",
          "name": "stdout",
          "text": [
            "7\n"
          ]
        }
      ]
    },
    {
      "cell_type": "code",
      "metadata": {
        "colab": {
          "base_uri": "https://localhost:8080/"
        },
        "id": "PsUSITRAJXDu",
        "outputId": "e5b469cd-1690-4388-f729-61ac6e4681aa"
      },
      "source": [
        "txt = \"Hello, welcome to my world.\"\n",
        "\n",
        "x = txt.index(\"e\", 5, 10)\n",
        "\n",
        "print(x)"
      ],
      "execution_count": null,
      "outputs": [
        {
          "output_type": "stream",
          "name": "stdout",
          "text": [
            "8\n"
          ]
        }
      ]
    },
    {
      "cell_type": "markdown",
      "metadata": {
        "id": "fzA8b8UgbUfh"
      },
      "source": [
        "# **j).count()**\n",
        "\n",
        "<p align=\"justify\">The count() method returns the number of times a specified value appears in the string.\n",
        "\n",
        "**Syntax:**\n",
        "\n",
        "string.count(value, start, end)\n"
      ]
    },
    {
      "cell_type": "code",
      "metadata": {
        "id": "4lyuqGrqbAXY",
        "colab": {
          "base_uri": "https://localhost:8080/"
        },
        "outputId": "05c62f04-dfe6-405d-8b12-fb48d8dd7b2c"
      },
      "source": [
        "txt = \"I love sapples, apple are my favorite fruit\"\n",
        "\n",
        "x = txt.count(\"apple\")\n",
        "\n",
        "print(x)"
      ],
      "execution_count": null,
      "outputs": [
        {
          "output_type": "stream",
          "name": "stdout",
          "text": [
            "2\n"
          ]
        }
      ]
    },
    {
      "cell_type": "code",
      "metadata": {
        "colab": {
          "base_uri": "https://localhost:8080/"
        },
        "id": "9mY_8CciJ1zy",
        "outputId": "e23223ce-4f1f-40d4-f338-5de10ca00ba6"
      },
      "source": [
        "txt = \"I love apple, apple are my favorite fruit\"\n",
        "\n",
        "x = txt.count(\"apple\", 10, 24)\n",
        "\n",
        "print(x)"
      ],
      "execution_count": null,
      "outputs": [
        {
          "output_type": "stream",
          "name": "stdout",
          "text": [
            "1\n"
          ]
        }
      ]
    },
    {
      "cell_type": "markdown",
      "metadata": {
        "id": "e9-SHJkqbrgt"
      },
      "source": [
        "# **k).islower()**\n",
        "\n",
        "<p align=\"justify\">The islower() method returns True if all the characters are in lower case, otherwise False.Numbers, symbols and spaces are not checked, only alphabet characters.\n",
        "\n",
        "**Syntax:**\n",
        "\n",
        "string.islower()"
      ]
    },
    {
      "cell_type": "code",
      "metadata": {
        "id": "aySLZ20PbbRw",
        "colab": {
          "base_uri": "https://localhost:8080/"
        },
        "outputId": "8907a2af-3826-4fd0-f3e2-dba53dd62528"
      },
      "source": [
        "txt = \"hello world!\"\n",
        "\n",
        "x = txt.islower()\n",
        "\n",
        "print(x)"
      ],
      "execution_count": null,
      "outputs": [
        {
          "output_type": "stream",
          "name": "stdout",
          "text": [
            "True\n"
          ]
        }
      ]
    },
    {
      "cell_type": "markdown",
      "metadata": {
        "id": "qR3ik_5qb4MC"
      },
      "source": [
        "# **l). isupper()**\n",
        "\n",
        "<p align=\"justify\">The isupper() method returns True if all the characters are in upper case, otherwise False.Numbers, symbols and spaces are not checked, only alphabet characters.\n",
        "\n",
        "**Syntax:**\n",
        "\n",
        "string.isupper()"
      ]
    },
    {
      "cell_type": "code",
      "metadata": {
        "id": "QQRNXEQ_bz0Z",
        "colab": {
          "base_uri": "https://localhost:8080/"
        },
        "outputId": "ac05cc3c-3b06-444a-c280-9463f6da9f05"
      },
      "source": [
        "txt = \"HELLO WORLD!\"\n",
        "\n",
        "x = txt.isupper()\n",
        "\n",
        "print(x)"
      ],
      "execution_count": null,
      "outputs": [
        {
          "output_type": "stream",
          "name": "stdout",
          "text": [
            "True\n"
          ]
        }
      ]
    },
    {
      "cell_type": "markdown",
      "metadata": {
        "id": "jn8mtVujcWbb"
      },
      "source": [
        "## **m).isalnum()**\n",
        "\n",
        "<p align=\"justify\">The isalnum() method returns True if all the characters are alphanumeric, meaning alphabet letter (a-z) and numbers (0-9),else return False.\n",
        "\n",
        "**Syntax:**\n",
        "\n",
        "string.isalnum()"
      ]
    },
    {
      "cell_type": "code",
      "metadata": {
        "id": "d0jCjW-Ib_p0",
        "colab": {
          "base_uri": "https://localhost:8080/"
        },
        "outputId": "fdeff83a-00f4-4712-e19e-295555fdaf62"
      },
      "source": [
        "txt = \"Company234\"\n",
        "\n",
        "x = txt.isalnum()\n",
        "\n",
        "print(x)"
      ],
      "execution_count": null,
      "outputs": [
        {
          "output_type": "stream",
          "name": "stdout",
          "text": [
            "True\n"
          ]
        }
      ]
    },
    {
      "cell_type": "markdown",
      "metadata": {
        "id": "Dl6dtzRbcjZh"
      },
      "source": [
        "# **n).isdigit()**\n",
        "\n",
        "\n",
        "<p align=\"justify\">The isdigit() method returns True if all the characters are a numbers (0-9),else return False.\n",
        "\n",
        "**Syntax:**\n",
        "\n",
        "string.isdigit()"
      ]
    },
    {
      "cell_type": "code",
      "metadata": {
        "id": "LyxY_8CocmIG",
        "colab": {
          "base_uri": "https://localhost:8080/"
        },
        "outputId": "c6115fa6-6a74-4da3-af88-6284ec31f1e4"
      },
      "source": [
        "txt = \"50800\"\n",
        "\n",
        "x = txt.isdigit()\n",
        "\n",
        "print(x)"
      ],
      "execution_count": null,
      "outputs": [
        {
          "output_type": "stream",
          "name": "stdout",
          "text": [
            "True\n"
          ]
        }
      ]
    },
    {
      "cell_type": "markdown",
      "metadata": {
        "id": "nLoogGNMc653"
      },
      "source": [
        "**Similarly : isalpha(),isidentifier(),isdecimal(),isnumeric(),isspace(),isprintable(),istitle()**"
      ]
    },
    {
      "cell_type": "markdown",
      "metadata": {
        "id": "cJ4qhDlFdq0A"
      },
      "source": [
        "# **o).strip()**\n",
        "\n",
        "<p align=\"justify\">The strip() method removes any leading (spaces at the beginning) and trailing (spaces at the end) characters (space is the default leading character to remove)\n",
        "\n",
        "**Syntax:**\n",
        "\n",
        "string.strip(characters)"
      ]
    },
    {
      "cell_type": "code",
      "metadata": {
        "id": "OWqTYtj6cq9p",
        "colab": {
          "base_uri": "https://localhost:8080/"
        },
        "outputId": "5868b84f-bdd3-4691-d3a6-7e804833a451"
      },
      "source": [
        "txt = \"     banana     \"\n",
        "\n",
        "x = txt.strip()\n",
        "\n",
        "print(x)"
      ],
      "execution_count": null,
      "outputs": [
        {
          "output_type": "stream",
          "name": "stdout",
          "text": [
            "banana\n"
          ]
        }
      ]
    },
    {
      "cell_type": "code",
      "metadata": {
        "colab": {
          "base_uri": "https://localhost:8080/"
        },
        "id": "AspvRzzTJul1",
        "outputId": "2dff6003-76fe-4378-d9c6-c2c23ba2dd3a"
      },
      "source": [
        "txt = \"banana\"\n",
        "\n",
        "x = txt.strip('a')\n",
        "\n",
        "print(x)"
      ],
      "execution_count": null,
      "outputs": [
        {
          "output_type": "stream",
          "name": "stdout",
          "text": [
            "banan\n"
          ]
        }
      ]
    },
    {
      "cell_type": "markdown",
      "metadata": {
        "id": "44sYGIgpeMNW"
      },
      "source": [
        "# **p).rstrip()**"
      ]
    },
    {
      "cell_type": "markdown",
      "metadata": {
        "id": "uCSSEA2wekT8"
      },
      "source": [
        "<p align=\"justify\">The rstrip() method removes any trailing characters (characters at the end a string), space is the default trailing character to remove."
      ]
    },
    {
      "cell_type": "code",
      "metadata": {
        "id": "dJZg_cXiePt3",
        "colab": {
          "base_uri": "https://localhost:8080/"
        },
        "outputId": "73b35939-2b66-41ce-8bc0-cbf6096f954a"
      },
      "source": [
        "txt = \"     banana     \"\n",
        "\n",
        "x = txt.rstrip()\n",
        "\n",
        "print(\"of all fruits\", x, \"is my favorite\")"
      ],
      "execution_count": null,
      "outputs": [
        {
          "output_type": "stream",
          "name": "stdout",
          "text": [
            "of all fruits      banana is my favorite\n"
          ]
        }
      ]
    },
    {
      "cell_type": "code",
      "metadata": {
        "id": "WwfZw-xIeQUT",
        "colab": {
          "base_uri": "https://localhost:8080/"
        },
        "outputId": "1f0d7eae-1285-4507-a460-bce9e4e312f5"
      },
      "source": [
        "txt = \"banana,,,,,ssaaww.....\"\n",
        "\n",
        "x = txt.rstrip(\",a.sw\")\n",
        "\n",
        "print(x)"
      ],
      "execution_count": null,
      "outputs": [
        {
          "output_type": "stream",
          "name": "stdout",
          "text": [
            "banan\n"
          ]
        }
      ]
    },
    {
      "cell_type": "code",
      "metadata": {
        "colab": {
          "base_uri": "https://localhost:8080/"
        },
        "id": "451ROSqXp90r",
        "outputId": "e83ed534-0609-42b8-b6f4-3b47701295db"
      },
      "source": [
        "txt = \"banana,,,,,ssaaww.....b\"\n",
        "\n",
        "x = txt.lstrip(\"b\")\n",
        "y=txt.strip(\"b\")\n",
        "\n",
        "print(x)\n",
        "print(y)"
      ],
      "execution_count": null,
      "outputs": [
        {
          "output_type": "stream",
          "name": "stdout",
          "text": [
            "anana,,,,,ssaaww.....b\n",
            "anana,,,,,ssaaww.....\n"
          ]
        }
      ]
    },
    {
      "cell_type": "markdown",
      "metadata": {
        "id": "W4gmcMT3e1WA"
      },
      "source": [
        "# **q).rsplit()**"
      ]
    },
    {
      "cell_type": "markdown",
      "metadata": {
        "id": "LbRYE7UmfFAX"
      },
      "source": [
        "**Difference between split and rsplit:**"
      ]
    },
    {
      "cell_type": "code",
      "metadata": {
        "id": "w1hPgxUNeW-L",
        "colab": {
          "base_uri": "https://localhost:8080/"
        },
        "outputId": "035c652b-bcf9-4bba-ffc6-9bb6a1e0205c"
      },
      "source": [
        "txt = \"apple,banana,cherry\"\n",
        "\n",
        "x = txt.rsplit(\",\",1)\n",
        "y= txt.split(\",\",1)\n",
        "print(x)\n",
        "print(y)"
      ],
      "execution_count": null,
      "outputs": [
        {
          "output_type": "stream",
          "name": "stdout",
          "text": [
            "['apple,banana', 'cherry']\n",
            "['apple', 'banana,cherry']\n"
          ]
        }
      ]
    },
    {
      "cell_type": "markdown",
      "metadata": {
        "id": "y2w1Z2--gU2l"
      },
      "source": [
        "# **r).join()**"
      ]
    },
    {
      "cell_type": "code",
      "metadata": {
        "id": "42UxmDY-gycB",
        "colab": {
          "base_uri": "https://localhost:8080/"
        },
        "outputId": "5062946f-43bf-4a54-e634-30292f134eee"
      },
      "source": [
        "txt=[\"1\",\"2\",\"3\",\"4\"]\n",
        "\n",
        "x = \"#\".join(txt)\n",
        "\n",
        "print(x)"
      ],
      "execution_count": null,
      "outputs": [
        {
          "output_type": "stream",
          "name": "stdout",
          "text": [
            "1#2#3#4\n"
          ]
        }
      ]
    },
    {
      "cell_type": "code",
      "metadata": {
        "id": "SiWnfhQCfK2M",
        "colab": {
          "base_uri": "https://localhost:8080/"
        },
        "outputId": "a32bf45f-5e45-4e9f-c6b9-90f5cb86120e"
      },
      "source": [
        "print(\":\".join(\"Python\"))\t"
      ],
      "execution_count": null,
      "outputs": [
        {
          "output_type": "stream",
          "name": "stdout",
          "text": [
            "P:y:t:h:o:n\n"
          ]
        }
      ]
    },
    {
      "cell_type": "code",
      "metadata": {
        "colab": {
          "base_uri": "https://localhost:8080/"
        },
        "id": "cgn_dj7rczF8",
        "outputId": "905e1e99-6d4a-42a5-e0d0-d4bdca133f0b"
      },
      "source": [
        "txt=\"hello\"\n",
        "list1=list(txt)\n",
        "list1.insert(2,\"r\")\n",
        "\n",
        "x = \"\".join(list1)\n",
        "\n",
        "print(x)"
      ],
      "execution_count": null,
      "outputs": [
        {
          "output_type": "stream",
          "name": "stdout",
          "text": [
            "herllo\n"
          ]
        }
      ]
    },
    {
      "cell_type": "markdown",
      "metadata": {
        "id": "KEowQMuA9bgg"
      },
      "source": [
        "# **S) .find()**\n",
        "\n",
        "<p align=\"justify\">- The find() method finds the first occurrence of the specified value.\n",
        "\n",
        "<p align=\"justify\">- It returns -1 if the value is not found.\n",
        "\n",
        "<p align=\"justify\">- The find() method is almost the same as the index() method, the only difference is that the index() method raises an exception if the value is not found."
      ]
    },
    {
      "cell_type": "markdown",
      "metadata": {
        "id": "tF8dIklx9ofB"
      },
      "source": [
        "**Syntax:**\n",
        "\n",
        "string.find(value, start, end)\n",
        "\n",
        "- value\tRequired. The value to search for\n",
        "start\tOptional. \n",
        "\n",
        "- Where to start the search. Default is 0\n",
        "end\tOptional. \n",
        "\n",
        "- Where to end the search. Default is to the end of the string"
      ]
    },
    {
      "cell_type": "code",
      "metadata": {
        "colab": {
          "base_uri": "https://localhost:8080/"
        },
        "id": "UQfEmju-9kax",
        "outputId": "13698b9a-cfa3-4d87-c005-e1072c51b029"
      },
      "source": [
        "txt = \"Hello, welcome to my world.\"\n",
        "\n",
        "x = txt.find(\"e\")\n",
        "\n",
        "print(x)"
      ],
      "execution_count": null,
      "outputs": [
        {
          "output_type": "stream",
          "name": "stdout",
          "text": [
            "1\n"
          ]
        }
      ]
    },
    {
      "cell_type": "code",
      "metadata": {
        "colab": {
          "base_uri": "https://localhost:8080/"
        },
        "id": "-ffHEtYh-I9K",
        "outputId": "5e353af1-2a9d-4aab-cf1e-41e8fe4558af"
      },
      "source": [
        "txt = \"Hello, welcome to my world.\"\n",
        "\n",
        "x = txt.find(\"Z\", 5, 10)\n",
        "\n",
        "print(x)"
      ],
      "execution_count": null,
      "outputs": [
        {
          "output_type": "stream",
          "name": "stdout",
          "text": [
            "-1\n"
          ]
        }
      ]
    }
  ]
}