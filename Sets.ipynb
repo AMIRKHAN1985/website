{
  "nbformat": 4,
  "nbformat_minor": 0,
  "metadata": {
    "colab": {
      "name": "Sets.ipynb",
      "provenance": [],
      "collapsed_sections": []
    },
    "kernelspec": {
      "name": "python3",
      "display_name": "Python 3"
    }
  },
  "cells": [
    {
      "cell_type": "markdown",
      "metadata": {
        "id": "7oUbcQxMCJGh"
      },
      "source": [
        "# **Sets**"
      ]
    },
    {
      "cell_type": "markdown",
      "metadata": {
        "id": "fufmtSqlCNlB"
      },
      "source": [
        "<p align=\"justify\">A set is a collection which is unordered and unindexed. In Python sets are written with curly brackets.\n",
        "\n",
        "<p align=\"justify\">Every set element is unique (no duplicates) and must be immutable (cannot be changed). However, a set itself is mutable. We can add or remove items from it."
      ]
    },
    {
      "cell_type": "markdown",
      "metadata": {
        "id": "59YZmvJECULj"
      },
      "source": [
        "# **Create a Set:**"
      ]
    },
    {
      "cell_type": "code",
      "metadata": {
        "id": "Us7t7PM6Avuw",
        "colab": {
          "base_uri": "https://localhost:8080/"
        },
        "outputId": "6382817b-3116-4195-dc20-3064e135e995"
      },
      "source": [
        "set1 = {\"apple\", \"banana\", \"cherry\"}\n",
        "print(set1)"
      ],
      "execution_count": null,
      "outputs": [
        {
          "output_type": "stream",
          "name": "stdout",
          "text": [
            "{'apple', 'cherry', 'banana'}\n"
          ]
        }
      ]
    },
    {
      "cell_type": "code",
      "metadata": {
        "id": "Ypjk5PYBGqYm"
      },
      "source": [
        "set1 = {\"apple\",[1,2,3], \"cherry\"} # this will give you error , set elements are always immutable\n",
        "print(set1)"
      ],
      "execution_count": null,
      "outputs": []
    },
    {
      "cell_type": "code",
      "metadata": {
        "id": "iIoEMUKudmmS",
        "colab": {
          "base_uri": "https://localhost:8080/"
        },
        "outputId": "fdec3256-2ba9-426e-f475-7008530c2a51"
      },
      "source": [
        "set1 = {\"apple\",(1,2,3), \"cherry\"} # this will give work\n",
        "print(set1)"
      ],
      "execution_count": null,
      "outputs": [
        {
          "output_type": "stream",
          "name": "stdout",
          "text": [
            "{'apple', 'cherry', (1, 2, 3)}\n"
          ]
        }
      ]
    },
    {
      "cell_type": "markdown",
      "metadata": {
        "id": "FXpKo3_tDCfc"
      },
      "source": [
        "# **set() Constructor**"
      ]
    },
    {
      "cell_type": "code",
      "metadata": {
        "id": "kw49kkkfDFS9",
        "colab": {
          "base_uri": "https://localhost:8080/"
        },
        "outputId": "df7cc7f1-a482-4bdb-a4f9-80d018fd080a"
      },
      "source": [
        "set2 = set([\"apple\", \"banana\", \"cherry\"]) \n",
        "print(set2)"
      ],
      "execution_count": null,
      "outputs": [
        {
          "output_type": "stream",
          "name": "stdout",
          "text": [
            "{'apple', 'cherry', 'banana'}\n"
          ]
        }
      ]
    },
    {
      "cell_type": "code",
      "metadata": {
        "id": "91iBkg8UcSWY",
        "colab": {
          "base_uri": "https://localhost:8080/"
        },
        "outputId": "27542949-621e-4b41-8ab3-130fa9a067aa"
      },
      "source": [
        "set2=set(\"hello\")\n",
        "print(set2)"
      ],
      "execution_count": null,
      "outputs": [
        {
          "output_type": "stream",
          "name": "stdout",
          "text": [
            "{'e', 'h', 'o', 'l'}\n"
          ]
        }
      ]
    },
    {
      "cell_type": "markdown",
      "metadata": {
        "id": "6q39KiXkDWO3"
      },
      "source": [
        "# **blank Set:**"
      ]
    },
    {
      "cell_type": "code",
      "metadata": {
        "id": "gTihQgtIDZvf",
        "colab": {
          "base_uri": "https://localhost:8080/"
        },
        "outputId": "d85a925b-d14c-4740-c22f-6fd8e096fac9"
      },
      "source": [
        "set3={} # this will create dictionary instead of set\n",
        "print(type(set3)) "
      ],
      "execution_count": null,
      "outputs": [
        {
          "output_type": "stream",
          "name": "stdout",
          "text": [
            "<class 'dict'>\n"
          ]
        }
      ]
    },
    {
      "cell_type": "code",
      "metadata": {
        "id": "ADA2Xqa3Db8b",
        "colab": {
          "base_uri": "https://localhost:8080/"
        },
        "outputId": "7f91772e-a1d8-4393-fa09-063031a49fce"
      },
      "source": [
        "set4=set() # this will create blank set\n",
        "print(set4)\n",
        "print(type(set4))"
      ],
      "execution_count": null,
      "outputs": [
        {
          "output_type": "stream",
          "name": "stdout",
          "text": [
            "set()\n",
            "<class 'set'>\n"
          ]
        }
      ]
    },
    {
      "cell_type": "markdown",
      "metadata": {
        "id": "caC6thQXEEVV"
      },
      "source": [
        "# **Length of a Set:**"
      ]
    },
    {
      "cell_type": "code",
      "metadata": {
        "id": "o0LX9pI9EHgU",
        "colab": {
          "base_uri": "https://localhost:8080/"
        },
        "outputId": "a4d0217f-372d-495d-c642-9d5d7cff36e0"
      },
      "source": [
        "set5 = {\"apple\", \"banana\", \"cherry\"}\n",
        "\n",
        "print(len(set5))"
      ],
      "execution_count": null,
      "outputs": [
        {
          "output_type": "stream",
          "name": "stdout",
          "text": [
            "3\n"
          ]
        }
      ]
    },
    {
      "cell_type": "markdown",
      "metadata": {
        "id": "tX-5sb2UEU4m"
      },
      "source": [
        "# **Accessing Items of sets:**"
      ]
    },
    {
      "cell_type": "markdown",
      "metadata": {
        "id": "_n6yOmJHEa5_"
      },
      "source": [
        "<p align=\"justify\">You cannot access items in a set by referring to an index, since sets are unordered the items has no index.\n",
        "\n",
        "<p align=\"justify\">But you can loop through the set items using a for loop, or ask if a specified value is present in a set, by using the in keyword."
      ]
    },
    {
      "cell_type": "markdown",
      "metadata": {
        "id": "LWwnW38RFHHj"
      },
      "source": [
        "**Through for loops:**"
      ]
    },
    {
      "cell_type": "code",
      "metadata": {
        "id": "D9BY0wicEaFV",
        "colab": {
          "base_uri": "https://localhost:8080/"
        },
        "outputId": "440352d8-a3b4-46eb-f36c-d02a425da585"
      },
      "source": [
        "set6 = {\"apple\", \"banana\", \"cherry\"}\n",
        "\n",
        "for x in set6:\n",
        "  print(x)"
      ],
      "execution_count": null,
      "outputs": [
        {
          "output_type": "stream",
          "name": "stdout",
          "text": [
            "apple\n",
            "cherry\n",
            "banana\n"
          ]
        }
      ]
    },
    {
      "cell_type": "markdown",
      "metadata": {
        "id": "_ryW9LJ4FSPC"
      },
      "source": [
        "**Through membership test:**"
      ]
    },
    {
      "cell_type": "code",
      "metadata": {
        "id": "M8m9KeCtE7gZ",
        "colab": {
          "base_uri": "https://localhost:8080/"
        },
        "outputId": "d61905e6-d3a7-429f-c714-528bb9447e4b"
      },
      "source": [
        "set7 = {\"apple\", \"banana\", \"cherry\"}\n",
        "\n",
        "print(\"banana\" in set7)"
      ],
      "execution_count": null,
      "outputs": [
        {
          "output_type": "stream",
          "name": "stdout",
          "text": [
            "True\n"
          ]
        }
      ]
    },
    {
      "cell_type": "markdown",
      "metadata": {
        "id": "nmSssmwkFhBZ"
      },
      "source": [
        "# **Sets methods:**"
      ]
    },
    {
      "cell_type": "markdown",
      "metadata": {
        "id": "Xse6ayuPFmTM"
      },
      "source": [
        "# **a).add()**\n",
        "\n",
        "<p align=\"justify\">add is used to add element in set"
      ]
    },
    {
      "cell_type": "code",
      "metadata": {
        "id": "ypPrUK-nFjah",
        "colab": {
          "base_uri": "https://localhost:8080/"
        },
        "outputId": "018a0fcc-70a6-4422-999b-bc9243b57ec3"
      },
      "source": [
        "set8 = {\"apple\", \"banana\", \"cherry\"}\n",
        "\n",
        "set8.add(\"kiwi\")\n",
        "\n",
        "print(set8)"
      ],
      "execution_count": null,
      "outputs": [
        {
          "output_type": "stream",
          "name": "stdout",
          "text": [
            "{'cherry', 'apple', 'kiwi', 'banana'}\n"
          ]
        }
      ]
    },
    {
      "cell_type": "markdown",
      "metadata": {
        "id": "KsjLFFFfHdLK"
      },
      "source": [
        "## **b).update()**\n",
        "\n",
        "<p align=\"justify\">update is used to add multiple element in set."
      ]
    },
    {
      "cell_type": "code",
      "metadata": {
        "id": "bacUOHs9Hf1u",
        "colab": {
          "base_uri": "https://localhost:8080/"
        },
        "outputId": "21da23bc-7567-4f25-8486-6e919949a164"
      },
      "source": [
        "set9 = {\"apple\", \"banana\", \"cherry\"}\n",
        "\n",
        "set9.update([\"orange\", \"mango\", \"grapes\"])\n",
        "\n",
        "print(set9)"
      ],
      "execution_count": null,
      "outputs": [
        {
          "output_type": "stream",
          "name": "stdout",
          "text": [
            "{'orange', 'mango', 'banana', 'grapes', 'apple', 'cherry'}\n"
          ]
        }
      ]
    },
    {
      "cell_type": "markdown",
      "metadata": {
        "id": "XeFaRHYaInR3"
      },
      "source": [
        "# **c).remove()**\n",
        "\n",
        "<p align=\"justify\">remove is used to remove perticular element from set.It through error when element is not present inside set."
      ]
    },
    {
      "cell_type": "code",
      "metadata": {
        "id": "h7TWINj3IqEs",
        "colab": {
          "base_uri": "https://localhost:8080/"
        },
        "outputId": "5d2f52da-6c3f-4a37-cdfa-8cb0ccc9a74c"
      },
      "source": [
        "set10 = {\"apple\", \"banana\", \"cherry\"}\n",
        "\n",
        "set10.remove(\"banana\")\n",
        "#set10.remove(\"orange\") # this will give you error\n",
        "\n",
        "print(set10)"
      ],
      "execution_count": null,
      "outputs": [
        {
          "output_type": "stream",
          "name": "stdout",
          "text": [
            "{'cherry', 'apple'}\n"
          ]
        }
      ]
    },
    {
      "cell_type": "markdown",
      "metadata": {
        "id": "c3PgV8XfI2FN"
      },
      "source": [
        "# **d).discard()**\n",
        "\n",
        "<p align=\"justify\">discard work very similar to remove only difference is is not through error when element is not present inside set."
      ]
    },
    {
      "cell_type": "code",
      "metadata": {
        "id": "Pf_qSwNEIwos",
        "colab": {
          "base_uri": "https://localhost:8080/"
        },
        "outputId": "0146044a-27bd-4053-f852-d18706f7b4ba"
      },
      "source": [
        "set11 = {\"apple\", \"banana\", \"cherry\"}\n",
        "\n",
        "set11.discard(\"banana\")\n",
        "set11.discard(\"orange\") # this will not give you error\n",
        "\n",
        "print(set11)"
      ],
      "execution_count": null,
      "outputs": [
        {
          "output_type": "stream",
          "name": "stdout",
          "text": [
            "{'cherry', 'apple'}\n"
          ]
        }
      ]
    },
    {
      "cell_type": "markdown",
      "metadata": {
        "id": "KkwEuRkMJhE0"
      },
      "source": [
        "# **e).pop()**\n",
        "\n",
        "<p align=\"justify\">pop is used to remove very first element from set."
      ]
    },
    {
      "cell_type": "code",
      "metadata": {
        "id": "FYidB6pwJj49",
        "colab": {
          "base_uri": "https://localhost:8080/"
        },
        "outputId": "a544f8db-4cc5-4820-fdfd-bb7d824fbc0b"
      },
      "source": [
        "set12 = {\"apple\", \"banana\", \"cherry\"}\n",
        "print(set12)\n",
        "x = set12.pop()\n",
        "print(x)\n",
        "print(set12)"
      ],
      "execution_count": null,
      "outputs": [
        {
          "output_type": "stream",
          "name": "stdout",
          "text": [
            "{'apple', 'cherry', 'banana'}\n",
            "apple\n",
            "{'cherry', 'banana'}\n"
          ]
        }
      ]
    },
    {
      "cell_type": "markdown",
      "metadata": {
        "id": "slSD7KOtJ6Rb"
      },
      "source": [
        "# **f).clear()**\n",
        "\n",
        "<p align=\"justify\">clear is used to remove all element from set and make set blank."
      ]
    },
    {
      "cell_type": "code",
      "metadata": {
        "id": "nd4iZhUUJ5Em",
        "colab": {
          "base_uri": "https://localhost:8080/"
        },
        "outputId": "bca483fd-defa-491e-d3e2-462cb6c2abe7"
      },
      "source": [
        "set13 = {\"apple\", \"banana\", \"cherry\"}\n",
        "\n",
        "set13.clear()\n",
        "\n",
        "print(set13)"
      ],
      "execution_count": null,
      "outputs": [
        {
          "output_type": "stream",
          "name": "stdout",
          "text": [
            "set()\n"
          ]
        }
      ]
    },
    {
      "cell_type": "markdown",
      "metadata": {
        "id": "mCwMMWDNKKeR"
      },
      "source": [
        "# **g).del**\n",
        "\n",
        "<p align=\"justify\">del is a keyword used to delete set."
      ]
    },
    {
      "cell_type": "code",
      "metadata": {
        "id": "3H6LEIAnKNiD"
      },
      "source": [
        "set14 = {\"apple\", \"banana\", \"cherry\"}\n",
        "\n",
        "del set14\n",
        "\n",
        "print(set14) # this will give you error set is not defined"
      ],
      "execution_count": null,
      "outputs": []
    },
    {
      "cell_type": "markdown",
      "metadata": {
        "id": "8JA2qjFkK21Y"
      },
      "source": [
        "# **Set Operations:**"
      ]
    },
    {
      "cell_type": "markdown",
      "metadata": {
        "id": "gmk2iVhcK-Li"
      },
      "source": [
        "# **a) union:**"
      ]
    },
    {
      "cell_type": "markdown",
      "metadata": {
        "id": "Gi1n6yiBNscx"
      },
      "source": [
        "<p align=\"justify\"> Union of A and B is a set of all elements from both sets without repeatition."
      ]
    },
    {
      "cell_type": "markdown",
      "metadata": {
        "id": "elyQekPHLEXb"
      },
      "source": [
        "![alt text](https://cdn.programiz.com/sites/tutorial2program/files/set-union.jpg)"
      ]
    },
    {
      "cell_type": "code",
      "metadata": {
        "id": "iS96PFA1K5Rd",
        "colab": {
          "base_uri": "https://localhost:8080/"
        },
        "outputId": "f295109d-149f-4cea-f188-0a26a35afabb"
      },
      "source": [
        "A = {1, 2, 3, 4, 5}\n",
        "B = {4, 5, 6, 7, 8}\n",
        "print(A | B)\n",
        "print(A.union(B))"
      ],
      "execution_count": null,
      "outputs": [
        {
          "output_type": "stream",
          "name": "stdout",
          "text": [
            "{1, 2, 3, 4, 5, 6, 7, 8}\n",
            "{1, 2, 3, 4, 5, 6, 7, 8}\n"
          ]
        }
      ]
    },
    {
      "cell_type": "markdown",
      "metadata": {
        "id": "FvHw2xabLc5M"
      },
      "source": [
        "# **b). intersection:**"
      ]
    },
    {
      "cell_type": "markdown",
      "metadata": {
        "id": "RxkOR6WCNfby"
      },
      "source": [
        "<p align=\"justify\">The intersection of two or more sets is the set of elements which are common to all sets."
      ]
    },
    {
      "cell_type": "markdown",
      "metadata": {
        "id": "NZbZ-tmBLks1"
      },
      "source": [
        "![alt text](https://cdn.programiz.com/sites/tutorial2program/files/set-intersection.jpg)"
      ]
    },
    {
      "cell_type": "code",
      "metadata": {
        "id": "OltzIQb1LgNO",
        "colab": {
          "base_uri": "https://localhost:8080/"
        },
        "outputId": "c1c0347b-6717-44d7-fac2-702c5907baf1"
      },
      "source": [
        "A = {1, 2, 3, 4, 5}\n",
        "B = {4, 5, 6, 7, 8}\n",
        "\n",
        "print(A & B)\n",
        "print(A.intersection(B))"
      ],
      "execution_count": null,
      "outputs": [
        {
          "output_type": "stream",
          "name": "stdout",
          "text": [
            "{4, 5}\n",
            "{4, 5}\n"
          ]
        }
      ]
    },
    {
      "cell_type": "code",
      "metadata": {
        "id": "z_j7k_mySTcX",
        "colab": {
          "base_uri": "https://localhost:8080/"
        },
        "outputId": "a91886d6-0d9e-4662-adb1-f98a6b68837e"
      },
      "source": [
        "A = {1, 2, 3,4}\n",
        "B = {2, 3, 4, 5, 6}\n",
        "C = {4, 5, 6, 9, 10}\n",
        "print(A & B & C)\n",
        "print(A.intersection(B,C))"
      ],
      "execution_count": null,
      "outputs": [
        {
          "output_type": "stream",
          "name": "stdout",
          "text": [
            "{4}\n",
            "{4}\n"
          ]
        }
      ]
    },
    {
      "cell_type": "markdown",
      "metadata": {
        "id": "Q_dQuxlyLy73"
      },
      "source": [
        "# **c).Difference:**"
      ]
    },
    {
      "cell_type": "markdown",
      "metadata": {
        "id": "gVWNbn_INZVw"
      },
      "source": [
        "<p align=\"justify\">The set difference of A and B is a set of elements that exists only in set A but not in B."
      ]
    },
    {
      "cell_type": "markdown",
      "metadata": {
        "id": "oay4geXHL8KH"
      },
      "source": [
        "![alt text](https://cdn.programiz.com/sites/tutorial2program/files/set-difference.jpg)"
      ]
    },
    {
      "cell_type": "code",
      "metadata": {
        "id": "5WUFuUeDL4tf",
        "colab": {
          "base_uri": "https://localhost:8080/"
        },
        "outputId": "b9df7788-37fe-424e-94f3-d44459c8f3da"
      },
      "source": [
        "A = {1, 2, 3, 4, 5}\n",
        "B = {4, 5, 6, 7, 8}\n",
        "print(A - B)\n",
        "print(A.difference(B))"
      ],
      "execution_count": null,
      "outputs": [
        {
          "output_type": "stream",
          "name": "stdout",
          "text": [
            "{1, 2, 3}\n",
            "{1, 2, 3}\n"
          ]
        }
      ]
    },
    {
      "cell_type": "markdown",
      "metadata": {
        "id": "EbQ0TDGCMSce"
      },
      "source": [
        "# **d).Symmetric Difference:**"
      ]
    },
    {
      "cell_type": "markdown",
      "metadata": {
        "id": "mfKeo8TaNTpu"
      },
      "source": [
        "<p align=\"justify\">The symmetric difference of two sets A and B is the set of elements that are in either A or B, but not in their intersection."
      ]
    },
    {
      "cell_type": "markdown",
      "metadata": {
        "id": "Ns9a26y3MW8L"
      },
      "source": [
        "![alt text](https://cdn.programiz.com/sites/tutorial2program/files/set-symmetric-difference.jpg)"
      ]
    },
    {
      "cell_type": "code",
      "metadata": {
        "id": "w-Xii7wHMWAN",
        "colab": {
          "base_uri": "https://localhost:8080/"
        },
        "outputId": "ddd14fa5-9b14-4d3e-bfab-250e768ca934"
      },
      "source": [
        "A = {1, 2, 3, 4, 5}\n",
        "B = {4, 5, 6, 7, 8}\n",
        "print(A ^ B)\n",
        "print(A.symmetric_difference(B))"
      ],
      "execution_count": null,
      "outputs": [
        {
          "output_type": "stream",
          "name": "stdout",
          "text": [
            "{1, 2, 3, 6, 7, 8}\n",
            "{1, 2, 3, 6, 7, 8}\n"
          ]
        }
      ]
    },
    {
      "cell_type": "markdown",
      "metadata": {
        "id": "PtU5rebMN0fa"
      },
      "source": [
        "# **e).difference_update**"
      ]
    },
    {
      "cell_type": "markdown",
      "metadata": {
        "id": "H1Bd2Q6vPHvE"
      },
      "source": [
        "<p align=\"justify\">Here, A and B are two sets. The difference_update() updates set A with the set difference of A-B"
      ]
    },
    {
      "cell_type": "code",
      "metadata": {
        "id": "7aJJisCNOKJq",
        "colab": {
          "base_uri": "https://localhost:8080/"
        },
        "outputId": "156b653e-09cf-44ce-e511-8d3cbb259fb3"
      },
      "source": [
        "A = {'a', 'c', 'g', 'd'}\n",
        "B = {'c', 'f', 'g'}\n",
        "\n",
        "A.difference_update(B)\n",
        "print('A = ', A)\n",
        "print('B = ', B)\n"
      ],
      "execution_count": null,
      "outputs": [
        {
          "output_type": "stream",
          "name": "stdout",
          "text": [
            "A =  {'a', 'd'}\n",
            "B =  {'f', 'c', 'g'}\n"
          ]
        }
      ]
    },
    {
      "cell_type": "markdown",
      "metadata": {
        "id": "BC_UpSGjPsi6"
      },
      "source": [
        "## **f).intersection_update()**\n",
        "\n",
        "1.   List item\n",
        "2.   List item\n",
        "\n"
      ]
    },
    {
      "cell_type": "code",
      "metadata": {
        "id": "D2V2bWeJPvUl",
        "colab": {
          "base_uri": "https://localhost:8080/"
        },
        "outputId": "3b792f8f-327c-445d-dcd2-11a71436c801"
      },
      "source": [
        "A = {1, 2, 3, 4}\n",
        "B = {2, 3, 4, 5}\n",
        "\n",
        "A.intersection_update(B)\n",
        "print('A =', A)\n",
        "print('B =', B)"
      ],
      "execution_count": null,
      "outputs": [
        {
          "output_type": "stream",
          "name": "stdout",
          "text": [
            "A = {2, 3, 4}\n",
            "B = {2, 3, 4, 5}\n"
          ]
        }
      ]
    },
    {
      "cell_type": "markdown",
      "metadata": {
        "id": "CXk5KiLYQ9Ml"
      },
      "source": [
        "# **g).symmetric_difference_update()**"
      ]
    },
    {
      "cell_type": "code",
      "metadata": {
        "id": "UHH2DrbsRBGt",
        "colab": {
          "base_uri": "https://localhost:8080/"
        },
        "outputId": "f5f5e055-cb07-4edb-9063-72a41c3b52f2"
      },
      "source": [
        "A = {'a', 'c', 'd'}\n",
        "B = {'c', 'd', 'e' }\n",
        "\n",
        "A.symmetric_difference_update(B)\n",
        "print('A =', A)\n",
        "print('B =', B)\n"
      ],
      "execution_count": null,
      "outputs": [
        {
          "output_type": "stream",
          "name": "stdout",
          "text": [
            "A = {'e', 'a'}\n",
            "B = {'e', 'c', 'd'}\n"
          ]
        }
      ]
    },
    {
      "cell_type": "markdown",
      "metadata": {
        "id": "Eck4_qmHS31M"
      },
      "source": [
        "# **Frozenset**"
      ]
    },
    {
      "cell_type": "markdown",
      "metadata": {
        "id": "gb8-5kdATYnj"
      },
      "source": [
        "<p align=\"justify\">frozensets are immutable sets."
      ]
    },
    {
      "cell_type": "code",
      "metadata": {
        "id": "ZqTlYnzOS48L",
        "colab": {
          "base_uri": "https://localhost:8080/"
        },
        "outputId": "cc3f785f-f329-4d77-ee1e-78c9bd01a82f"
      },
      "source": [
        "A = frozenset([1, 2, 3, 4])\n",
        "B = frozenset([3, 4, 5, 6])\n",
        "print(A)\n",
        "print(B)"
      ],
      "execution_count": null,
      "outputs": [
        {
          "output_type": "stream",
          "name": "stdout",
          "text": [
            "frozenset({1, 2, 3, 4})\n",
            "frozenset({3, 4, 5, 6})\n"
          ]
        }
      ]
    },
    {
      "cell_type": "code",
      "metadata": {
        "id": "HDtsz798TACS"
      },
      "source": [
        "print(A.add(5)) # this will not work in case of frozen sets\n",
        "print(A.update(5,6)) # this will not work in case of frozen sets"
      ],
      "execution_count": null,
      "outputs": []
    }
  ]
}