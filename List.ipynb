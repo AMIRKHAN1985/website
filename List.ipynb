{
  "nbformat": 4,
  "nbformat_minor": 0,
  "metadata": {
    "colab": {
      "name": "List.ipynb",
      "provenance": [],
      "collapsed_sections": []
    },
    "kernelspec": {
      "name": "python3",
      "display_name": "Python 3"
    }
  },
  "cells": [
    {
      "cell_type": "markdown",
      "metadata": {
        "id": "WWy2CCMGO3w-"
      },
      "source": [
        "# **List:**"
      ]
    },
    {
      "cell_type": "markdown",
      "metadata": {
        "id": "GdSvpDxAO7jF"
      },
      "source": [
        "<p align=\"justify\">A list is a data type that can be used to store any type and number of variables and information.The list is one of the most widely used data types in Python. A Python List can be easily identified by square brackets [ ]. Lists are used to store the data items where each data item is separated by a comma (,). "
      ]
    },
    {
      "cell_type": "markdown",
      "metadata": {
        "id": "H0n7z6HYPwKm"
      },
      "source": [
        "**Syntax:**\n",
        "\n",
        "my_list = [item_1, item_2, item_3]"
      ]
    },
    {
      "cell_type": "code",
      "metadata": {
        "id": "OgnBIsOPNPTy",
        "colab": {
          "base_uri": "https://localhost:8080/"
        },
        "outputId": "19c645d6-be7b-4911-e72d-ecb45d76ee21"
      },
      "source": [
        "mylist=[2,3,\"hello\",2.0]\n",
        "print(mylist)\n"
      ],
      "execution_count": null,
      "outputs": [
        {
          "output_type": "stream",
          "name": "stdout",
          "text": [
            "[2, 3, 'hello', 2.0]\n"
          ]
        }
      ]
    },
    {
      "cell_type": "code",
      "metadata": {
        "id": "TMVdRdetQCy3",
        "colab": {
          "base_uri": "https://localhost:8080/"
        },
        "outputId": "c8008ef0-ee2e-458d-d2a1-97c70d30f477"
      },
      "source": [
        "#Blank list\n",
        "list1=[]\n",
        "print(list1)\n"
      ],
      "execution_count": null,
      "outputs": [
        {
          "output_type": "stream",
          "name": "stdout",
          "text": [
            "[]\n"
          ]
        }
      ]
    },
    {
      "cell_type": "code",
      "metadata": {
        "id": "SW2gIHsVQMt8",
        "colab": {
          "base_uri": "https://localhost:8080/"
        },
        "outputId": "b7e1572e-0170-4a59-c350-ddb65749b1fa"
      },
      "source": [
        "# Empty list having 5 None elements \n",
        "list1=[None]*5\n",
        "print(list1)"
      ],
      "execution_count": null,
      "outputs": [
        {
          "output_type": "stream",
          "name": "stdout",
          "text": [
            "[None, None, None, None, None]\n"
          ]
        }
      ]
    },
    {
      "cell_type": "code",
      "metadata": {
        "id": "KlWApLhiQfnP",
        "colab": {
          "base_uri": "https://localhost:8080/"
        },
        "outputId": "b77631bc-fa4b-4fbd-aa7e-c24ed79701ed"
      },
      "source": [
        "#Multi dimension list (Nested list)\n",
        "List1 = [['abc', 'def'] , ['ijk']] \n",
        "print(\"\\nMulti-Dimensional List: \") \n",
        "print(List1) \n"
      ],
      "execution_count": null,
      "outputs": [
        {
          "output_type": "stream",
          "name": "stdout",
          "text": [
            "\n",
            "Multi-Dimensional List: \n",
            "[['abc', 'def'], ['ijk']]\n"
          ]
        }
      ]
    },
    {
      "cell_type": "markdown",
      "metadata": {
        "id": "eHIi2PbrQ5T6"
      },
      "source": [
        "# **Slicing of a List**"
      ]
    },
    {
      "cell_type": "code",
      "metadata": {
        "id": "Ww6K6wjVQ7V5",
        "colab": {
          "base_uri": "https://localhost:8080/"
        },
        "outputId": "d9ed6915-ef61-490a-8cd9-15dcce7b4081"
      },
      "source": [
        "List = ['a','b','c','d','e','f','g','h','i'] \n",
        "# Print elements of a range using Slice operation \n",
        "Sliced_List = List[3:8] \n",
        "print(\"\\nSlicing elements in a range 3-8: \") \n",
        "print(Sliced_List) \n"
      ],
      "execution_count": null,
      "outputs": [
        {
          "output_type": "stream",
          "name": "stdout",
          "text": [
            "\n",
            "Slicing elements in a range 3-8: \n",
            "['d', 'e', 'f', 'g', 'h']\n"
          ]
        }
      ]
    },
    {
      "cell_type": "code",
      "metadata": {
        "id": "SXcIUfQPRbIR",
        "colab": {
          "base_uri": "https://localhost:8080/"
        },
        "outputId": "13b663e7-968d-4c5c-f2ec-9cf2f6d5baab"
      },
      "source": [
        "List = ['a','b','c','d','e','f','g','h','i'] \n",
        "# Print elements from a  pre-defined point to end \n",
        "print(List[5:])\n",
        "print(List[:])\n",
        "print(List[:-6])\n",
        "print(List[-6:-1] )\n",
        "print(List[8:2:-1] )\n",
        "print(List[2:8:-1] )\n",
        "print(List[::-1] )\n",
        "print(List[::] )\n"
      ],
      "execution_count": null,
      "outputs": [
        {
          "output_type": "stream",
          "name": "stdout",
          "text": [
            "['f', 'g', 'h', 'i']\n",
            "['a', 'b', 'c', 'd', 'e', 'f', 'g', 'h', 'i']\n",
            "['a', 'b', 'c']\n",
            "['d', 'e', 'f', 'g', 'h']\n",
            "['i', 'h', 'g', 'f', 'e', 'd']\n",
            "[]\n",
            "['i', 'h', 'g', 'f', 'e', 'd', 'c', 'b', 'a']\n",
            "['a', 'b', 'c', 'd', 'e', 'f', 'g', 'h', 'i']\n"
          ]
        }
      ]
    },
    {
      "cell_type": "markdown",
      "metadata": {
        "id": "V5CfNbIDTO9p"
      },
      "source": [
        "# **Accessing elements from the List**"
      ]
    },
    {
      "cell_type": "code",
      "metadata": {
        "id": "HQubYRSDTTwk",
        "colab": {
          "base_uri": "https://localhost:8080/"
        },
        "outputId": "b611fe35-49d8-414c-e35e-1aed796b9752"
      },
      "source": [
        "List = [\"hello\", \"hi\", \"Good morning\"] \n",
        "# accessing a element from the list using index number \n",
        "print(\"Accessing a element from the list\") \n",
        "print(List[0])  \n",
        "print(List[-1]) \n"
      ],
      "execution_count": null,
      "outputs": [
        {
          "output_type": "stream",
          "name": "stdout",
          "text": [
            "Accessing a element from the list\n",
            "hello\n",
            "Good morning\n"
          ]
        }
      ]
    },
    {
      "cell_type": "code",
      "metadata": {
        "id": "ElwTNl14TcH9",
        "colab": {
          "base_uri": "https://localhost:8080/"
        },
        "outputId": "c5de3566-8122-4272-f473-a5911c4dda61"
      },
      "source": [
        "List = [['hello', 'hi'] , ['Good moring']] \n",
        "# accessing a element from the Multi-Dimensional List using index number \n",
        "print(\"Acessing a element from a Multi-Dimensional list\") \n",
        "print(List[0][1]) \n",
        "print(List[1][0]) \n"
      ],
      "execution_count": null,
      "outputs": [
        {
          "output_type": "stream",
          "name": "stdout",
          "text": [
            "Acessing a element from a Multi-Dimensional list\n",
            "hi\n",
            "Good moring\n"
          ]
        }
      ]
    },
    {
      "cell_type": "markdown",
      "metadata": {
        "id": "XCGqdYwkSL2y"
      },
      "source": [
        "# **List Methods:**"
      ]
    },
    {
      "cell_type": "markdown",
      "metadata": {
        "id": "pGwwuS1eSTcB"
      },
      "source": [
        "# **1). append()**\n",
        "\n",
        "<p align=\"justify\">append is used to add elements at the end of list.It is used to add single element at a time."
      ]
    },
    {
      "cell_type": "code",
      "metadata": {
        "id": "44GmllSBSPd7",
        "colab": {
          "base_uri": "https://localhost:8080/"
        },
        "outputId": "58528ebf-dd98-4c40-c1c7-fd3f0c1c2759"
      },
      "source": [
        "List = [0] \n",
        "# Addition of Elements in the List at last\n",
        "List.append(1) \n",
        "List.append(2) \n",
        "List.append([1,2,3]) \n",
        "print(List) \n",
        "List[3][2]=6\n",
        "print(List) \n"
      ],
      "execution_count": null,
      "outputs": [
        {
          "output_type": "stream",
          "name": "stdout",
          "text": [
            "[0, 1, 2, [1, 2, 3]]\n",
            "[0, 1, 2, [1, 2, 6]]\n"
          ]
        }
      ]
    },
    {
      "cell_type": "code",
      "metadata": {
        "id": "cI7QschGSsI5",
        "colab": {
          "base_uri": "https://localhost:8080/"
        },
        "outputId": "cb07696c-0b61-471d-994b-2276c1049152"
      },
      "source": [
        "# Adding elements to the List using Iterator (for loop)\n",
        "List=[]\n",
        "for i in range(1, 4): \n",
        "    List.append(i) \n",
        "print(\"\\nList after Addition of elements from 1-3: \") \n",
        "print(List) \n"
      ],
      "execution_count": null,
      "outputs": [
        {
          "output_type": "stream",
          "name": "stdout",
          "text": [
            "\n",
            "List after Addition of elements from 1-3: \n",
            "[1, 2, 3]\n"
          ]
        }
      ]
    },
    {
      "cell_type": "code",
      "metadata": {
        "id": "sSawzUbXS4Yi",
        "colab": {
          "base_uri": "https://localhost:8080/"
        },
        "outputId": "bede288c-b000-4a5c-e7d3-12532a6c9e42"
      },
      "source": [
        "# Addition of List to a List(Nested list) \n",
        "List1=[\"hello\"]\n",
        "List2 = ['hi', 'good morning'] \n",
        "List1.append(List2) \n",
        "print(\"\\nList after Addition of a List: \") \n",
        "print(List1) \n"
      ],
      "execution_count": null,
      "outputs": [
        {
          "output_type": "stream",
          "name": "stdout",
          "text": [
            "\n",
            "List after Addition of a List: \n",
            "['hello', ['hi', 'good morning']]\n"
          ]
        }
      ]
    },
    {
      "cell_type": "markdown",
      "metadata": {
        "id": "N8-0T23pTtid"
      },
      "source": [
        "# **2). remove()**\n",
        "\n",
        "<p align=\"justify\">remove is used to remove perticular elements from list.remove through error if element is not present inside list."
      ]
    },
    {
      "cell_type": "code",
      "metadata": {
        "id": "RMMAvrJ-Sssk",
        "colab": {
          "base_uri": "https://localhost:8080/"
        },
        "outputId": "9c2cd918-faaa-4779-c93a-81379ad39c61"
      },
      "source": [
        "List = [1, 2, 3, 4, 5, 6,  \n",
        "        7, 8, 9, 10, 11, 12] \n",
        "# Removing elements from List using Remove() method \n",
        "List.remove(5) \n",
        "List.remove(6) \n",
        "print(\"\\nList after Removal of two elements: \")\n",
        "print(List)   \n",
        " \n"
      ],
      "execution_count": null,
      "outputs": [
        {
          "output_type": "stream",
          "name": "stdout",
          "text": [
            "\n",
            "List after Removal of two elements: \n",
            "[1, 2, 3, 4, 7, 8, 9, 10, 11, 12]\n"
          ]
        }
      ]
    },
    {
      "cell_type": "code",
      "metadata": {
        "id": "vcaHjhX5no_P"
      },
      "source": [
        "List = [1, 2, 3, 4, 5, 6,  \n",
        "        7, 8, 9, 10, 11, 12]     \n",
        "List.remove(13) # this through error\n",
        "print(List)  "
      ],
      "execution_count": null,
      "outputs": []
    },
    {
      "cell_type": "markdown",
      "metadata": {
        "id": "bNQ9lPmyUJtB"
      },
      "source": [
        "# **3).pop()**\n",
        "\n",
        "<p align=\"justify\">pop is used to remove last element from list.If you remove perticular element then indexing of that element is pass as argument in pop method."
      ]
    },
    {
      "cell_type": "code",
      "metadata": {
        "id": "E07pOw6vUM6x",
        "colab": {
          "base_uri": "https://localhost:8080/"
        },
        "outputId": "b28e30c6-8c0c-4e87-fb99-bff14d221143"
      },
      "source": [
        "List = [1,2,3,4,5] \n",
        "# Removing  last element from the list using the pop() method \n",
        "List.pop() \n",
        "print(\"\\nList after popping an element: \") \n",
        "print(List) \n"
      ],
      "execution_count": null,
      "outputs": [
        {
          "output_type": "stream",
          "name": "stdout",
          "text": [
            "\n",
            "List after popping an element: \n",
            "[1, 2, 3, 4]\n"
          ]
        }
      ]
    },
    {
      "cell_type": "code",
      "metadata": {
        "id": "bUBsDD_DUYZX",
        "colab": {
          "base_uri": "https://localhost:8080/"
        },
        "outputId": "99571a15-d855-4827-8937-438247f6eb03"
      },
      "source": [
        "List = [1,2,3,4,5] \n",
        "# Removing element at a specific location (indexing)from the list using the pop() method \n",
        "List.pop(2) \n",
        "print(\"\\nList after popping a specific element: \") \n",
        "print(List) \n"
      ],
      "execution_count": null,
      "outputs": [
        {
          "output_type": "stream",
          "name": "stdout",
          "text": [
            "\n",
            "List after popping a specific element: \n",
            "[1, 2, 4, 5]\n"
          ]
        }
      ]
    },
    {
      "cell_type": "markdown",
      "metadata": {
        "id": "OXB3cxqpU6Ew"
      },
      "source": [
        "# **4).insert()**\n",
        "\n",
        "<p align=\"justify\">insert is used to add element at perticular index.\n",
        "\n",
        "**Syntax:**\n",
        "\n",
        "     list.insert(index,value)"
      ]
    },
    {
      "cell_type": "code",
      "metadata": {
        "id": "oukEvo38U_sf",
        "colab": {
          "base_uri": "https://localhost:8080/"
        },
        "outputId": "6f03da50-32c3-4a39-dbbb-a85f5097dd33"
      },
      "source": [
        "List = [1,2,3,4] \n",
        "# Addition of Element at specific Position (indexing position) using Insert Method) \n",
        "List.insert(3, 12) \n",
        "List.insert(2, 'hello') \n",
        "print(\"\\nList after performing Insert Operation: \") \n",
        "print(List) \n"
      ],
      "execution_count": null,
      "outputs": [
        {
          "output_type": "stream",
          "name": "stdout",
          "text": [
            "\n",
            "List after performing Insert Operation: \n",
            "[1, 2, 'hello', 3, 12, 4]\n"
          ]
        }
      ]
    },
    {
      "cell_type": "markdown",
      "metadata": {
        "id": "m9UjDee1VUxS"
      },
      "source": [
        "# **5).extend()**\n",
        "\n",
        "<p align=\"justify\">extend is used to add multiple element at a time."
      ]
    },
    {
      "cell_type": "code",
      "metadata": {
        "id": "ZczvdVm6VYho",
        "colab": {
          "base_uri": "https://localhost:8080/"
        },
        "outputId": "e1785c57-0ea5-440e-f544-4b48bf7e9f7e"
      },
      "source": [
        "List = [1,2,3,4] \n",
        "# Addition of multiple elements to the List at the end using Extend Method) \n",
        "List.extend([8, 'hi', 'Good morning']) \n",
        "print(\"\\nList after performing Extend Operation: \") \n",
        "print(List) \n"
      ],
      "execution_count": null,
      "outputs": [
        {
          "output_type": "stream",
          "name": "stdout",
          "text": [
            "\n",
            "List after performing Extend Operation: \n",
            "[1, 2, 3, 4, 8, 'hi', 'Good morning']\n"
          ]
        }
      ]
    },
    {
      "cell_type": "markdown",
      "metadata": {
        "id": "LqcPhlzjV0NQ"
      },
      "source": [
        "# **6).Clear()**\n",
        "\n",
        "<p align=\"justify\">clear is used to remove all element in list and make list as blank list."
      ]
    },
    {
      "cell_type": "code",
      "metadata": {
        "id": "x5hs_173V3_u",
        "colab": {
          "base_uri": "https://localhost:8080/"
        },
        "outputId": "41023961-4015-46c7-bd8e-4c5afdfe4dd8"
      },
      "source": [
        "List = [1,2,3,4] \n",
        "List.clear()\n",
        "print(List)"
      ],
      "execution_count": null,
      "outputs": [
        {
          "output_type": "stream",
          "name": "stdout",
          "text": [
            "[]\n"
          ]
        }
      ]
    },
    {
      "cell_type": "markdown",
      "metadata": {
        "id": "o9ocG4cUWFG9"
      },
      "source": [
        "# **7).index()**\n",
        "\n",
        "<p align=\"justify\">index is used to know indexing of any element in list."
      ]
    },
    {
      "cell_type": "code",
      "metadata": {
        "id": "gnu6qiv-WJz_",
        "colab": {
          "base_uri": "https://localhost:8080/"
        },
        "outputId": "0dbc22e8-6856-481c-86cb-e9069de21056"
      },
      "source": [
        "List = [1,2,3,\"hello\"] \n",
        "print(List.index(\"hello\"))\n"
      ],
      "execution_count": null,
      "outputs": [
        {
          "output_type": "stream",
          "name": "stdout",
          "text": [
            "3\n"
          ]
        }
      ]
    },
    {
      "cell_type": "markdown",
      "metadata": {
        "id": "13uYtHrnWZDp"
      },
      "source": [
        "# **8). sort()**\n",
        "\n",
        "<p align=\"justify\">sort is used to sort list into a perticular order, by default is sort in assending order."
      ]
    },
    {
      "cell_type": "markdown",
      "metadata": {
        "id": "zFnDf5x_YUbk"
      },
      "source": [
        "**Syntax:**\n",
        "\n",
        "      list.sort(reverse=True|False, key=myFunc)"
      ]
    },
    {
      "cell_type": "code",
      "metadata": {
        "id": "B1w4vGmdWcR0",
        "colab": {
          "base_uri": "https://localhost:8080/",
          "height": 34
        },
        "outputId": "b45f8bf1-8eb8-4d4d-eb0f-71c73e15e823"
      },
      "source": [
        "List = [1,5,3,4] \n",
        "List.sort()\n",
        "print(List)"
      ],
      "execution_count": null,
      "outputs": [
        {
          "output_type": "stream",
          "text": [
            "[1, 3, 4, 5]\n"
          ],
          "name": "stdout"
        }
      ]
    },
    {
      "cell_type": "code",
      "metadata": {
        "id": "zNvAn0cRXXpn",
        "colab": {
          "base_uri": "https://localhost:8080/",
          "height": 34
        },
        "outputId": "ee2eedef-35ae-4d75-ea89-669750fdf37c"
      },
      "source": [
        "cars = ['Ford', 'BMW', 'Volvo']\n",
        "# sort by assending order by default\n",
        "cars.sort()\n",
        "print(cars)"
      ],
      "execution_count": null,
      "outputs": [
        {
          "output_type": "stream",
          "text": [
            "['BMW', 'Ford', 'Volvo']\n"
          ],
          "name": "stdout"
        }
      ]
    },
    {
      "cell_type": "code",
      "metadata": {
        "id": "BveKlyfWX_ui",
        "colab": {
          "base_uri": "https://localhost:8080/"
        },
        "outputId": "a35cf51d-87b1-43ba-e241-3cc44c801442"
      },
      "source": [
        "cars = ['Ford', 'BMW', 'Volvo']\n",
        "# sort by dessending order when reverse=True\n",
        "cars.sort(reverse=True)\n",
        "print(cars)"
      ],
      "execution_count": null,
      "outputs": [
        {
          "output_type": "stream",
          "name": "stdout",
          "text": [
            "['Volvo', 'Ford', 'BMW']\n"
          ]
        }
      ]
    },
    {
      "cell_type": "code",
      "metadata": {
        "id": "a2OYex8qYeVR",
        "colab": {
          "base_uri": "https://localhost:8080/"
        },
        "outputId": "855b5e54-14f0-49a0-ced3-5a50e73b71d5"
      },
      "source": [
        "def myFunc(e):\n",
        "  return len(e)\n",
        "# sort by function definition\n",
        "cars = ['Ford', 'Mitsubishi', 'BMW', 'VW']\n",
        "\n",
        "cars.sort(key=myFunc)\n",
        "print(cars)"
      ],
      "execution_count": null,
      "outputs": [
        {
          "output_type": "stream",
          "name": "stdout",
          "text": [
            "['VW', 'BMW', 'Ford', 'Mitsubishi']\n"
          ]
        }
      ]
    }
  ]
}