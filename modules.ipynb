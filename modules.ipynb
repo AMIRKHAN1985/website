{
  "nbformat": 4,
  "nbformat_minor": 0,
  "metadata": {
    "colab": {
      "name": "modules.ipynb",
      "provenance": [],
      "collapsed_sections": []
    },
    "kernelspec": {
      "name": "python3",
      "display_name": "Python 3"
    }
  },
  "cells": [
    {
      "cell_type": "markdown",
      "metadata": {
        "id": "6s0HW4kFoPxP"
      },
      "source": [
        "# **Namespaces**"
      ]
    },
    {
      "cell_type": "markdown",
      "metadata": {
        "id": "KGNsAYMWoSn8"
      },
      "source": [
        "<p align=\"justify\">A namespace is a system that has a unique name for each and every object in Python. An object might be a variable or a method."
      ]
    },
    {
      "cell_type": "markdown",
      "source": [
        "# **Types of namespaces:**"
      ],
      "metadata": {
        "id": "VVVXziryvvIx"
      }
    },
    {
      "cell_type": "markdown",
      "metadata": {
        "id": "UsEJ_38Doelz"
      },
      "source": [
        "<p align=\"justify\">\n",
        "When Python interpreter runs solely without any user-defined modules, methods, classes, etc. Some functions like print(), id() are always present, these are built-in namespaces. When a user creates a module, a global namespace gets created, later the creation of local functions creates the local namespace. The built-in namespace encompasses the global namespace and the global namespace encompasses the local namespace."
      ]
    },
    {
      "cell_type": "markdown",
      "source": [
        "# **a) locals() :**"
      ],
      "metadata": {
        "id": "D7YmYkv8vq7A"
      }
    },
    {
      "cell_type": "markdown",
      "metadata": {
        "id": "k43LLmrP5tIQ"
      },
      "source": [
        "<p align=\"jstify\">This function used to check no. of locals namespaces in file."
      ]
    },
    {
      "cell_type": "code",
      "metadata": {
        "colab": {
          "base_uri": "https://localhost:8080/"
        },
        "id": "6OTtG4HR58K1",
        "outputId": "80f4547f-8f82-490b-a477-eacb262ade44"
      },
      "source": [
        "a=10\n",
        "def Myfun2():\n",
        "    b=20  \n",
        "    print(\"Here one local variable  is present : \", locals()) \n",
        "Myfun2()"
      ],
      "execution_count": null,
      "outputs": [
        {
          "output_type": "stream",
          "name": "stdout",
          "text": [
            "Here one local variable  is present :  {'b': 20}\n"
          ]
        }
      ]
    },
    {
      "cell_type": "markdown",
      "source": [
        "# **b) globals() :**"
      ],
      "metadata": {
        "id": "AeL-nSOHv86r"
      }
    },
    {
      "cell_type": "markdown",
      "metadata": {
        "id": "oYgEZK256DXR"
      },
      "source": [
        "<p align=\"justify\">This function used to check no. of golbals namespaces in file."
      ]
    },
    {
      "cell_type": "code",
      "metadata": {
        "id": "WXZf9qEZ6KXr"
      },
      "source": [
        "a=10\n",
        "def Myclass2():\n",
        "    b=20 \n",
        "    print(\"Here number of globals variable  is present : \", globals()) \n",
        "Myclass2()"
      ],
      "execution_count": null,
      "outputs": []
    },
    {
      "cell_type": "markdown",
      "metadata": {
        "id": "ro_hgrAX0Kh4"
      },
      "source": [
        "# **Modules**"
      ]
    },
    {
      "cell_type": "markdown",
      "metadata": {
        "id": "oesKc1q40ROp"
      },
      "source": [
        "<p align=\"justify\">A file containing a set of functions/variables you want to include in your application."
      ]
    },
    {
      "cell_type": "markdown",
      "metadata": {
        "id": "jt7Pqcrv9Tal"
      },
      "source": [
        "<p align=\"justify\">Note: Below all file should kept in same folder/package."
      ]
    },
    {
      "cell_type": "markdown",
      "metadata": {
        "id": "CV5C8Ouj0XQZ"
      },
      "source": [
        "# **Create a Module:**"
      ]
    },
    {
      "cell_type": "markdown",
      "metadata": {
        "id": "BDbi02790dcV"
      },
      "source": [
        "<p align=\"justify\">To create a module just save the code you want in a file with the file extension .py:"
      ]
    },
    {
      "cell_type": "code",
      "metadata": {
        "id": "tOCNCwUMI2U-"
      },
      "source": [
        "#save this code or file as module1.py in your ID's:\n",
        "def myfun(name):\n",
        "  print(\"Hello, \" + name)"
      ],
      "execution_count": null,
      "outputs": []
    },
    {
      "cell_type": "markdown",
      "metadata": {
        "id": "D7h64nXY1ZLg"
      },
      "source": [
        "# **Use a Module:**"
      ]
    },
    {
      "cell_type": "markdown",
      "metadata": {
        "id": "TCQ5cuXC1zBD"
      },
      "source": [
        "<p align=\"justify\">open new file and save it with name testmodule1 and then Import the module named module1, and call the myfun() function:"
      ]
    },
    {
      "cell_type": "code",
      "metadata": {
        "id": "zEr3Hygu1cGl"
      },
      "source": [
        "#this code you will write in new python file and save as testmodule1\n",
        "import module1\n",
        "\n",
        "module1.myfun(\"rohan\")"
      ],
      "execution_count": null,
      "outputs": []
    },
    {
      "cell_type": "markdown",
      "metadata": {
        "id": "0IGxzCYB3uNQ"
      },
      "source": [
        "# **Variables in Module**"
      ]
    },
    {
      "cell_type": "code",
      "metadata": {
        "id": "uLGf2Gzg3v8_"
      },
      "source": [
        "#save this code/file as module2 in your ID's:\n",
        "\n",
        "person1 = {\n",
        "  \"name\": \"John\",\n",
        "  \"age\": 36,\n",
        "  \"country\": \"Norway\"\n",
        "}\n",
        "\n",
        "str1=\"hello\"\n",
        "list1=[1,2,3,4]"
      ],
      "execution_count": null,
      "outputs": []
    },
    {
      "cell_type": "code",
      "metadata": {
        "id": "_6Oh_sCX9KSi"
      },
      "source": [
        "#this code you will write in new python file and save as testmodule2\n",
        "import module2\n",
        "\n",
        "a = module2.person1[\"age\"]\n",
        "b=module2.str1\n",
        "c=module2.list1[0]\n",
        "print(a)\n",
        "print(b)\n",
        "print(c)"
      ],
      "execution_count": null,
      "outputs": []
    },
    {
      "cell_type": "markdown",
      "metadata": {
        "id": "vybN0JQYTKdS"
      },
      "source": [
        "# **from import statement**"
      ]
    },
    {
      "cell_type": "markdown",
      "metadata": {
        "id": "f-Gd4ZYFTTD_"
      },
      "source": [
        "<p align=\"justify\">We can import specific names(functions or variables etc) from a module without importing the module as a whole. "
      ]
    },
    {
      "cell_type": "code",
      "metadata": {
        "id": "h2q07gGXhDQ2"
      },
      "source": [
        "# import str1 variable from previous module2 file\n",
        "from module2 import str1\n",
        "print(str1)"
      ],
      "execution_count": null,
      "outputs": []
    },
    {
      "cell_type": "code",
      "metadata": {
        "id": "JrzZSIACTliq",
        "colab": {
          "base_uri": "https://localhost:8080/",
          "height": 35
        },
        "outputId": "f4ac13bc-f1d7-4aff-a8f2-7443ba23bc89"
      },
      "source": [
        "# import only pi from math module\n",
        "\n",
        "from math import pi\n",
        "print(\"The value of pi is\", pi)"
      ],
      "execution_count": null,
      "outputs": [
        {
          "output_type": "stream",
          "text": [
            "The value of pi is 3.141592653589793\n"
          ],
          "name": "stdout"
        }
      ]
    },
    {
      "cell_type": "markdown",
      "metadata": {
        "id": "96DXkuC2ULsq"
      },
      "source": [
        "# **Import all names**"
      ]
    },
    {
      "cell_type": "code",
      "metadata": {
        "id": "5gSktlEfUV7k",
        "colab": {
          "base_uri": "https://localhost:8080/",
          "height": 72
        },
        "outputId": "391d5d16-858a-4646-af1a-5728162d2049"
      },
      "source": [
        "# import all names from the standard module math (functions or variables etc)\n",
        "\n",
        "from math import *\n",
        "print(\"The value of pi is\", pi)\n",
        "print(\"The value of e is \",e)\n",
        "print(\"factorial of a number \",factorial(9))"
      ],
      "execution_count": null,
      "outputs": [
        {
          "output_type": "stream",
          "text": [
            "The value of pi is 3.141592653589793\n",
            "The value of e is  2.718281828459045\n",
            "factorial of a number  362880\n"
          ],
          "name": "stdout"
        }
      ]
    },
    {
      "cell_type": "markdown",
      "metadata": {
        "id": "SM1ulKKCh1fa"
      },
      "source": [
        "# **Modules as script**"
      ]
    },
    {
      "cell_type": "markdown",
      "metadata": {
        "id": "Ix9RnryFl5VZ"
      },
      "source": [
        "<p align=\"justify\">If you want to use a Python module as script then you just have to use the conditional for __ name __.\n",
        "\n",
        "<p align=\"justify\">The value of built-in __ name __ variable is set to __ main __ if the Python code is executed directly through the interpreter. If you use the module in a script using import then in that case the value of __ name __ is the filename of module."
      ]
    },
    {
      "cell_type": "code",
      "metadata": {
        "id": "2wUl6rdLlBWu"
      },
      "source": [
        "# this is known as simple module and let save as script\n",
        "def add(a,b):\n",
        "    print(a+b)\n",
        "\n",
        "def str1(string):\n",
        "    print(f\"this is string {string}\")\n",
        "\n",
        "str1(\"hello\")\n",
        "print(\"your are in script\")\n",
        "\n"
      ],
      "execution_count": null,
      "outputs": []
    },
    {
      "cell_type": "code",
      "metadata": {
        "id": "_DrJipoCrMPI"
      },
      "source": [
        "##this code you will write in new python file and save as testscript and import  module script\n",
        "import script\n",
        "script.add(4,5)\n"
      ],
      "execution_count": null,
      "outputs": []
    },
    {
      "cell_type": "code",
      "metadata": {
        "id": "G4NSdUxwlGAB"
      },
      "source": [
        "# this is known as script\n",
        "def add(a,b):\n",
        "    print(a+b)\n",
        "\n",
        "def str1(string):\n",
        "    print(f\"this is string {string}\")\n",
        "\n",
        "print(\"name of file is \",__name__)\n",
        "if __name__ == \"__main__\":\n",
        "    str1(\"hello\")\n",
        "    print(\"your are in script\")"
      ],
      "execution_count": null,
      "outputs": []
    },
    {
      "cell_type": "markdown",
      "metadata": {
        "id": "Vh3XNvP-p0Bf"
      },
      "source": [
        "# **locating modules**"
      ]
    },
    {
      "cell_type": "markdown",
      "metadata": {
        "id": "sVkln-oNp4na"
      },
      "source": [
        "<p align=\"justify\">When you import a module, the Python interpreter searches for the module in the following sequences −\n",
        "\n",
        "The current directory.\n",
        "\n",
        "<p align=\"justify\">If the module isn't found, Python then searches each directory in the shell variable PYTHONPATH.\n",
        "\n",
        "<p align=\"justify\">If all else fails, Python checks the default path. On UNIX, this default path is normally /usr/local/lib/python/."
      ]
    },
    {
      "cell_type": "markdown",
      "metadata": {
        "id": "q_EnQK2L_eLa"
      },
      "source": [
        "# **Packages – Naming conflicts**\n",
        "\n",
        "<p align=\"justify\">Sometime it will happen when you import two fun with same name in module. "
      ]
    },
    {
      "cell_type": "markdown",
      "metadata": {
        "id": "WDBhJk5bJYa1"
      },
      "source": [
        "<p align=\"justify\">Lets create two packages Flights and Employees in which common file/module name  Manage is present and in Manange modules their is also common function i.e add()"
      ]
    },
    {
      "cell_type": "code",
      "metadata": {
        "id": "FJ4mOkC2NYCf"
      },
      "source": [
        "# this will create conflict in modules when it import from packages\n",
        "from Flights import Manage\n",
        "from Employees import Manage\n",
        "# this will create conflist in functions when you call add() functions\n",
        "Manage.add()\n",
        "Manage.add()\n"
      ],
      "execution_count": null,
      "outputs": []
    },
    {
      "cell_type": "markdown",
      "metadata": {
        "id": "1VZE0chrOEN8"
      },
      "source": [
        "<p align=\"justify\">In order to resolve above issue Re-naming will used."
      ]
    },
    {
      "cell_type": "markdown",
      "metadata": {
        "id": "pd0_PZ5v9nxi"
      },
      "source": [
        "# **Re-naming a Module**"
      ]
    },
    {
      "cell_type": "markdown",
      "metadata": {
        "id": "Pxxg_E2G9y99"
      },
      "source": [
        "<p align=\"justify\">You can name the module file whatever you like,but it must have the file extension .py\n",
        "\n",
        "<p align=\"justify\">You can create an alias when you import a module, by using the as keyword:\n",
        "\n"
      ]
    },
    {
      "cell_type": "code",
      "metadata": {
        "id": "g9F89nQQ_e0I"
      },
      "source": [
        "import Flights.Manage\n",
        "import Employees.Manage\n",
        "Flights.Manage.add(5,7)\n",
        "Employees.Manage.add(2,8)"
      ],
      "execution_count": null,
      "outputs": []
    },
    {
      "cell_type": "code",
      "metadata": {
        "id": "xqD8tfCTJKfG"
      },
      "source": [
        "from Flights import Manage as FManage\n",
        "from Employees import Manage as EManage\n",
        "FManage.add(5,7)\n",
        "EManage.add(2,8)"
      ],
      "execution_count": null,
      "outputs": []
    },
    {
      "cell_type": "code",
      "metadata": {
        "id": "nQB2M1-nJTJ_"
      },
      "source": [
        "from Flights.Manage import add as add1\n",
        "from Employees.Manage import add as add2\n",
        "add1(4,6)\n",
        "add2(5,8)"
      ],
      "execution_count": null,
      "outputs": []
    },
    {
      "cell_type": "markdown",
      "metadata": {
        "id": "7XU0_piMSU6W"
      },
      "source": [
        "# **Built-in Modules**"
      ]
    },
    {
      "cell_type": "markdown",
      "metadata": {
        "id": "oK7jxMd-Sbtc"
      },
      "source": [
        "<p align=\"justify\">There are several built-in modules in Python, which you can import whenever you like."
      ]
    },
    {
      "cell_type": "code",
      "metadata": {
        "id": "7ESJv68gSWxI"
      },
      "source": [
        "from math import sqrt, factorial \n",
        "print sqrt(16) \n",
        "print factorial(6) "
      ],
      "execution_count": null,
      "outputs": []
    },
    {
      "cell_type": "markdown",
      "metadata": {
        "id": "7SFh9MN8jNR9"
      },
      "source": [
        "# **OS Module**"
      ]
    },
    {
      "cell_type": "markdown",
      "metadata": {
        "id": "xPm7WEEUjU0T"
      },
      "source": [
        "<p align=\"justify\">The OS module in python provides functions for interacting with the operating system. OS, comes under Python’s standard utility modules. This module provides a portable way of using operating system dependent functionality. The *os* and *os.path* modules include many functions to interact with the file system."
      ]
    },
    {
      "cell_type": "markdown",
      "metadata": {
        "id": "WU8WJskOk8ab"
      },
      "source": [
        "# **a). os.name:**"
      ]
    },
    {
      "cell_type": "markdown",
      "metadata": {
        "id": "mBDNCb-Dk_2C"
      },
      "source": [
        "<p align=\"justify\">This function gives the name of the operating system dependent module imported. The following names have currently been registered: ‘posix’, ‘nt’, ‘os2’, ‘ce’, ‘java’ and ‘riscos’"
      ]
    },
    {
      "cell_type": "code",
      "metadata": {
        "id": "iJRBQ_jTh38b",
        "colab": {
          "base_uri": "https://localhost:8080/",
          "height": 34
        },
        "outputId": "f823eb4f-4c68-465b-de7f-436545af1b8e"
      },
      "source": [
        "import os \n",
        "print(os.name) "
      ],
      "execution_count": null,
      "outputs": [
        {
          "output_type": "stream",
          "text": [
            "posix\n"
          ],
          "name": "stdout"
        }
      ]
    },
    {
      "cell_type": "markdown",
      "metadata": {
        "id": "TZfDekIilYka"
      },
      "source": [
        "# **b). os.getcwd():**\n"
      ]
    },
    {
      "cell_type": "markdown",
      "metadata": {
        "id": "b01zG-Q0lsSk"
      },
      "source": [
        "<p align=\"justify\">Function os.getcwd(), returns the Current Working Directory(CWD) of the file used to execute the code, can vary from system to system."
      ]
    },
    {
      "cell_type": "code",
      "metadata": {
        "id": "WdYc78znlOPA",
        "colab": {
          "base_uri": "https://localhost:8080/",
          "height": 34
        },
        "outputId": "b5e60980-e0fe-47ea-aad5-5c2de0af519c"
      },
      "source": [
        "import os \n",
        "print(os.getcwd()) "
      ],
      "execution_count": null,
      "outputs": [
        {
          "output_type": "stream",
          "text": [
            "/content\n"
          ],
          "name": "stdout"
        }
      ]
    },
    {
      "cell_type": "markdown",
      "metadata": {
        "id": "w4efomDWr6ue"
      },
      "source": [
        "# **c).os.rename():**"
      ]
    },
    {
      "cell_type": "markdown",
      "metadata": {
        "id": "BZSCcQnosKKX"
      },
      "source": [
        "<p align=\"justify\">A file old.txt can be renamed to new.txt, using the function os.rename(). The name of the file changes only if, the file exists and user has sufficient privilege permission to change the file."
      ]
    },
    {
      "cell_type": "code",
      "metadata": {
        "id": "d4j046pXr-DM"
      },
      "source": [
        "import os \n",
        "fd = \"Oldtest.txt\"\n",
        "os.rename(fd,'Newtest.txt') "
      ],
      "execution_count": null,
      "outputs": []
    },
    {
      "cell_type": "markdown",
      "metadata": {
        "id": "4AEhMhmWtmGP"
      },
      "source": [
        "# **d). os.system()**"
      ]
    },
    {
      "cell_type": "code",
      "metadata": {
        "id": "-IRP079qtsGM"
      },
      "source": [
        "import os  \n",
        "# Command to execute Using Windows OS command to know and change current date\n",
        "cmd = 'date'\n",
        "# Using os.system() method \n",
        "os.system(cmd) "
      ],
      "execution_count": null,
      "outputs": []
    },
    {
      "cell_type": "code",
      "metadata": {
        "id": "eXPb3hq_vQvI"
      },
      "source": [
        "import os  \n",
        "# Command to execute Using Windows OS command \n",
        "cmd = 'time'\n",
        "# Using os.system() method \n",
        "os.system(cmd)"
      ],
      "execution_count": null,
      "outputs": []
    },
    {
      "cell_type": "code",
      "metadata": {
        "id": "nTih0ufltv-y"
      },
      "source": [
        "import os  \n",
        "# Command to execute Using Windows OS command \n",
        "cmd = 'notepad'\n",
        "# Using os.system() method \n",
        "os.system(cmd) "
      ],
      "execution_count": null,
      "outputs": []
    },
    {
      "cell_type": "code",
      "metadata": {
        "id": "QVe-3fsxuhrf"
      },
      "source": [
        "import os  \n",
        "# Command to execute Using Windows OS command \n",
        "cmd = 'control panel'\n",
        "# Using os.system() method \n",
        "os.system(cmd) "
      ],
      "execution_count": null,
      "outputs": []
    },
    {
      "cell_type": "markdown",
      "metadata": {
        "id": "UL2XjJHFxB4V"
      },
      "source": [
        "# **e).os.listdir()**"
      ]
    },
    {
      "cell_type": "markdown",
      "metadata": {
        "id": "kyvysJJKzUjf"
      },
      "source": [
        "<p align=\"justify\">os.listdir() method in python is used to get the list of all files and directories in the specified directory. If we don’t specify any directory, then list of files and directories in the current working directory will be returned."
      ]
    },
    {
      "cell_type": "markdown",
      "metadata": {
        "id": "hWdaRqBezbDw"
      },
      "source": [
        "Syntax: os.listdir(path)\n",
        "\n",
        "Parameters:\n",
        "path (optional) : path of the directory\n",
        "\n",
        "<p align=\"justify\">Return Type: This method returns the list of all files and directories in the specified path. The return type of this method is list."
      ]
    },
    {
      "cell_type": "code",
      "metadata": {
        "id": "dRI7vqUjuijw"
      },
      "source": [
        "import os \n",
        "\n",
        "# Get the list of all files and directories in the root directory \n",
        "path = \"/\"\n",
        "dir_list = os.listdir(path) \n",
        "\n",
        "print(\"Files and directories in '\", path, \"' :\")  \n",
        "  \n",
        "# print the list \n",
        "print(dir_list) "
      ],
      "execution_count": null,
      "outputs": []
    },
    {
      "cell_type": "markdown",
      "metadata": {
        "id": "OtfXTZk2yo6h"
      },
      "source": [
        "# **f).os.mkdir()**"
      ]
    },
    {
      "cell_type": "markdown",
      "metadata": {
        "id": "YgJgtlAny7Dw"
      },
      "source": [
        "<p align=\"justify\">os.mkdir(path) method in Python is used to create a directory named path with the specified numeric mode. This method raise FileExistsError if the directory to be created already exists."
      ]
    },
    {
      "cell_type": "code",
      "metadata": {
        "id": "-jrVfUdv0Xmx"
      },
      "source": [
        "import os\n",
        "# Path \n",
        "path = \"C:/INFY\"\n",
        "# Create the directory 'INFY' in '\"C:/INFY\"' \n",
        "os.mkdir(path) \n",
        "print(\"Directory '%s' created\" %path) "
      ],
      "execution_count": null,
      "outputs": []
    },
    {
      "cell_type": "code",
      "metadata": {
        "id": "s60DljHgyziJ"
      },
      "source": [
        "import os \n",
        "  \n",
        "# Directory \n",
        "directory = \"INFY\"\n",
        "  \n",
        "# Parent Directory path \n",
        "parent_dir = \"C:/\"\n",
        "  \n",
        "# Path \n",
        "path = os.path.join(parent_dir, directory) \n",
        "  \n",
        "# Create the directory 'INFY' in '\"C:/\"' \n",
        "os.mkdir(path) \n",
        "print(\"Directory '%s' created\" %directory) "
      ],
      "execution_count": null,
      "outputs": []
    },
    {
      "cell_type": "markdown",
      "metadata": {
        "id": "BOqzHR1d00xw"
      },
      "source": [
        "# **g).os.makedirs()**"
      ]
    },
    {
      "cell_type": "markdown",
      "metadata": {
        "id": "uOhiTlUv0-p0"
      },
      "source": [
        "<p align=\"justify\">os.makedirs() method in Python is used to create a directory recursively. That means while making leaf directory if any intermediate-level directory is missing, os.makedirs() method will create them all."
      ]
    },
    {
      "cell_type": "code",
      "metadata": {
        "id": "-0Ajt-Ou05Ie"
      },
      "source": [
        "import os \n",
        "# Leaf directory \n",
        "directory = \"INFYTQ\"\n",
        "  \n",
        "# Parent Directories \n",
        "parent_dir = \"F:/INFOSYS/2020\"\n",
        "  \n",
        "# Path \n",
        "path = os.path.join(parent_dir, directory) \n",
        "  \n",
        "# Create  all directory include leaf and parent if parent directories are not present\n",
        " \n",
        "os.makedirs(path) \n",
        "print(\"Directory '%s' created\" %directory) "
      ],
      "execution_count": null,
      "outputs": []
    },
    {
      "cell_type": "markdown",
      "metadata": {
        "id": "Bi3k0EQ03KG1"
      },
      "source": [
        "# **h). os.remove()**"
      ]
    },
    {
      "cell_type": "markdown",
      "metadata": {
        "id": "OvBb9CPn3fSo"
      },
      "source": [
        "<p align=\"justify\">os.remove() method in Python is used to remove or delete a file path. This method can not remove or delete a directory. If the specified path is a directory then OSError will be raised by the method. os.rmdir() can be used to remove directory."
      ]
    },
    {
      "cell_type": "code",
      "metadata": {
        "id": "n5d47j_k3Qkg"
      },
      "source": [
        "import os \n",
        "\n",
        "# File location \n",
        "path = \"file.txt\"\n",
        "  \n",
        "# Remove the file 'file.txt' \n",
        "os.remove(path) \n",
        "print(\"%s has been removed successfully\") "
      ],
      "execution_count": null,
      "outputs": []
    },
    {
      "cell_type": "markdown",
      "metadata": {
        "id": "LrIohYZ93zn_"
      },
      "source": [
        "# **i). os.rmdir()**"
      ]
    },
    {
      "cell_type": "markdown",
      "metadata": {
        "id": "gGM9P-Qj36jJ"
      },
      "source": [
        "<p align=\"justify\">os.rmdir() method in Python is used to remove or delete a empty directory. OSError will be raised if the specified path is not an empty directory."
      ]
    },
    {
      "cell_type": "code",
      "metadata": {
        "id": "7vtn5bLM3xxO"
      },
      "source": [
        "import os \n",
        "\n",
        "# Path \n",
        "path = \"F:/INFOSYS/2020/INFYTQ\"\n",
        "# Remove the Directory INFYTQ \n",
        "os.rmdir(path) \n",
        "print(\" Path Directory is removed\") "
      ],
      "execution_count": null,
      "outputs": []
    },
    {
      "cell_type": "markdown",
      "metadata": {
        "id": "RheVxzr45yAr"
      },
      "source": [
        "# **J). os.removedirs()**"
      ]
    },
    {
      "cell_type": "markdown",
      "metadata": {
        "id": "KN9uE4an658N"
      },
      "source": [
        "<p align=\"justify\">os.removedirs() method in Python is used to remove directories recursively. If the leaf directory in the specified path is successfully removed, then os.removedirs() tries to successively remove every parent directory mentioned in path until an error is raised. The raised error is ignored because generally error is raised because directory to be deleted is not empty.|"
      ]
    },
    {
      "cell_type": "code",
      "metadata": {
        "id": "4YFY8wHn50i2"
      },
      "source": [
        "import os \n",
        "# Leaf directory \n",
        "directory = \"INFYTQ\"\n",
        "  \n",
        "# Parent Directories \n",
        "parent_dir = \"F:/INFOSYS/2020\"\n",
        "  \n",
        "# Path \n",
        "path = os.path.join(parent_dir, directory) \n",
        "  \n",
        "# remove all directory include leaf and parent if parent directories are empty \n",
        "os.removedirs(path) \n",
        "print(\"Directory '%s' remove\" %directory) "
      ],
      "execution_count": null,
      "outputs": []
    },
    {
      "cell_type": "markdown",
      "metadata": {
        "id": "_NsnxyKvkUF_"
      },
      "source": [
        "# **SYS Module**"
      ]
    },
    {
      "cell_type": "markdown",
      "metadata": {
        "id": "tqgF6V9Ekkqz"
      },
      "source": [
        "<p align=\"justify\">The sys module in Python provides various functions and variables that are used to manipulate different parts of the Python runtime environment. It allows operating on the interpreter as it provides access to the variables and functions that interact strongly with the interpreter."
      ]
    },
    {
      "cell_type": "markdown",
      "metadata": {
        "id": "J_WRUMl7lOBJ"
      },
      "source": [
        "# **a) sys.version**"
      ]
    },
    {
      "cell_type": "code",
      "metadata": {
        "colab": {
          "base_uri": "https://localhost:8080/"
        },
        "id": "TXmk5XZykoLj",
        "outputId": "f96e2c11-b82f-45d4-dca2-548743cc0905"
      },
      "source": [
        "import sys\n",
        "\n",
        "print(sys.version)"
      ],
      "execution_count": null,
      "outputs": [
        {
          "output_type": "stream",
          "name": "stdout",
          "text": [
            "3.7.12 (default, Sep 10 2021, 00:21:48) \n",
            "[GCC 7.5.0]\n"
          ]
        }
      ]
    },
    {
      "cell_type": "markdown",
      "metadata": {
        "id": "aS7-sUOjlUYX"
      },
      "source": [
        "# **b) sys.path**"
      ]
    },
    {
      "cell_type": "code",
      "metadata": {
        "id": "jlDZ9Pg6KDTO",
        "colab": {
          "base_uri": "https://localhost:8080/"
        },
        "outputId": "413b3689-30c8-458f-9bce-ea6060f88c9c"
      },
      "source": [
        "# importing module\n",
        "import sys\n",
        "  \n",
        "sys.path"
      ],
      "execution_count": null,
      "outputs": [
        {
          "output_type": "execute_result",
          "data": {
            "text/plain": [
              "['',\n",
              " '/content',\n",
              " '/env/python',\n",
              " '/usr/lib/python37.zip',\n",
              " '/usr/lib/python3.7',\n",
              " '/usr/lib/python3.7/lib-dynload',\n",
              " '/usr/local/lib/python3.7/dist-packages',\n",
              " '/usr/lib/python3/dist-packages',\n",
              " '/usr/local/lib/python3.7/dist-packages/IPython/extensions',\n",
              " '/root/.ipython']"
            ]
          },
          "metadata": {},
          "execution_count": 1
        }
      ]
    },
    {
      "cell_type": "markdown",
      "metadata": {
        "id": "SDmB9r0cJ7qU"
      },
      "source": [
        "<p align=\"justify\">APPENDING PATH- append() is a built-in function of sys module that can be used with path variable to add a specific path for interpreter to search. The following example shows how this can be done."
      ]
    },
    {
      "cell_type": "code",
      "metadata": {
        "id": "b_m3qdfsJ-0t"
      },
      "source": [
        "# importing module\n",
        "import sys\n",
        "  \n",
        "# appending a path\n",
        "sys.path.append('C:/Users/Vanshi/Desktop')\n",
        "  \n",
        "# printing all paths\n",
        "sys.path"
      ],
      "execution_count": null,
      "outputs": []
    },
    {
      "cell_type": "markdown",
      "metadata": {
        "id": "0Dqb7Y_xlDHB"
      },
      "source": [
        "# **c) stdin**"
      ]
    },
    {
      "cell_type": "markdown",
      "metadata": {
        "id": "-taYshCClgMu"
      },
      "source": [
        "<p align=\"justify\">It can be used to get input from the command line directly. It used is for standard input. It internally calls the input() method. It, also, automatically adds ‘\\n’ after each sentence."
      ]
    },
    {
      "cell_type": "code",
      "metadata": {
        "colab": {
          "base_uri": "https://localhost:8080/"
        },
        "id": "sj35LL9RlHln",
        "outputId": "cffcb255-c765-4750-d527-d0fb9f643a4d"
      },
      "source": [
        "import sys\n",
        "for line in sys.stdin:\n",
        "    if 'q' == line.rstrip():\n",
        "        break\n",
        "    print(f'Input : {line}')\n",
        " \n",
        "print(\"Exit\")  # use in idle or vs code i will work"
      ],
      "execution_count": null,
      "outputs": [
        {
          "output_type": "stream",
          "name": "stdout",
          "text": [
            "Exit\n"
          ]
        }
      ]
    },
    {
      "cell_type": "markdown",
      "metadata": {
        "id": "G7B35v9MnbyK"
      },
      "source": [
        "# **d) stdout**"
      ]
    },
    {
      "cell_type": "markdown",
      "metadata": {
        "id": "YX6SQ0F7ng7h"
      },
      "source": [
        "A built-in file object that is analogous to the interpreter’s standard output stream in Python. stdout is used to display output directly to the screen console."
      ]
    },
    {
      "cell_type": "code",
      "metadata": {
        "colab": {
          "base_uri": "https://localhost:8080/"
        },
        "id": "cGnZovBSngZr",
        "outputId": "88a86f84-766d-4685-aec0-f7ce14d39c28"
      },
      "source": [
        "import sys\n",
        " \n",
        " \n",
        "sys.stdout.write('hello')"
      ],
      "execution_count": null,
      "outputs": [
        {
          "output_type": "stream",
          "name": "stdout",
          "text": [
            "hello"
          ]
        }
      ]
    }
  ]
}