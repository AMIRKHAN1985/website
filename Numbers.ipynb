{
  "nbformat": 4,
  "nbformat_minor": 0,
  "metadata": {
    "colab": {
      "name": "Numbers.ipynb",
      "provenance": [],
      "collapsed_sections": []
    },
    "kernelspec": {
      "name": "python3",
      "display_name": "Python 3"
    }
  },
  "cells": [
    {
      "cell_type": "markdown",
      "metadata": {
        "id": "SdFm6ecGblJ8"
      },
      "source": [
        "# **Numbers**"
      ]
    },
    {
      "cell_type": "markdown",
      "metadata": {
        "id": "SPvVqmbLcE5X"
      },
      "source": [
        "# **Some important Funtions (Methods):**"
      ]
    },
    {
      "cell_type": "markdown",
      "metadata": {
        "id": "LacXxi2Nb23H"
      },
      "source": [
        "# **1. abs():**"
      ]
    },
    {
      "cell_type": "markdown",
      "metadata": {
        "id": "GtaEB0czb9Mz"
      },
      "source": [
        "<p align=\"justify\">The abs() function is used to return the absolute value of a number."
      ]
    },
    {
      "cell_type": "code",
      "metadata": {
        "id": "S2t2XtUKbPG-",
        "colab": {
          "base_uri": "https://localhost:8080/",
          "height": 34
        },
        "outputId": "8e07ff8e-995f-46b3-b261-bac5e0b8aa80"
      },
      "source": [
        "float = -54.26\n",
        "print('Absolute value of float is:', abs(float)) "
      ],
      "execution_count": null,
      "outputs": [
        {
          "output_type": "stream",
          "text": [
            "Absolute value of float is: 54.26\n"
          ],
          "name": "stdout"
        }
      ]
    },
    {
      "cell_type": "code",
      "metadata": {
        "id": "gNo0fdyBcXUq",
        "colab": {
          "base_uri": "https://localhost:8080/",
          "height": 34
        },
        "outputId": "29a8c541-5665-4a2b-a759-69ef61d6825e"
      },
      "source": [
        "int = -94\n",
        "print('Absolute value of integer is:', abs(int)) "
      ],
      "execution_count": null,
      "outputs": [
        {
          "output_type": "stream",
          "text": [
            "Absolute value of integer is: 94\n"
          ],
          "name": "stdout"
        }
      ]
    },
    {
      "cell_type": "markdown",
      "metadata": {
        "id": "lktmMGHGcwWb"
      },
      "source": [
        "# **2. min() and max()**"
      ]
    },
    {
      "cell_type": "markdown",
      "metadata": {
        "id": "UqA-qVtCdX31"
      },
      "source": [
        "<p align=\"justify\">These functions are used to compute the maximum and minimum of the values as passed in its argument. or it gives the lexicographically largest value and lexicographically smallest value respectively, when we passed string or list of strings as arguments."
      ]
    },
    {
      "cell_type": "markdown",
      "metadata": {
        "id": "lyVPaxExd_-G"
      },
      "source": [
        "Syntax: max(x1, x2, ..., xn, key=function_name)"
      ]
    },
    {
      "cell_type": "code",
      "metadata": {
        "id": "b-ABq7Sac0RN",
        "colab": {
          "base_uri": "https://localhost:8080/"
        },
        "outputId": "a70934c4-5a07-4c07-e6c1-ca63a58548e8"
      },
      "source": [
        "list1= [\"ab\", \"abc\", \"abd\", \"B\"] \n",
        "\n",
        "print(max(list1))\n",
        "print(min(list1))\n"
      ],
      "execution_count": null,
      "outputs": [
        {
          "output_type": "stream",
          "text": [
            "b\n",
            "ab\n"
          ],
          "name": "stdout"
        }
      ]
    },
    {
      "cell_type": "code",
      "metadata": {
        "colab": {
          "base_uri": "https://localhost:8080/"
        },
        "id": "8goUoQfdZ6XG",
        "outputId": "c7f6205e-465e-46b0-f3b8-76f67dabae65"
      },
      "source": [
        "st=\"abcE# \"\n",
        "print(max(st))\n",
        "print(min(st))"
      ],
      "execution_count": null,
      "outputs": [
        {
          "output_type": "stream",
          "name": "stdout",
          "text": [
            "c\n",
            "#\n"
          ]
        }
      ]
    },
    {
      "cell_type": "code",
      "metadata": {
        "id": "7lN7sj6KdMev",
        "colab": {
          "base_uri": "https://localhost:8080/"
        },
        "outputId": "d4fe468f-7bc3-48e5-c6fe-c9cb3cd0dbd3"
      },
      "source": [
        "l = [\"Ab\", \"abc\", \"bc\", \"ca\"] \n",
        "  \n",
        "print(max(l, key = len)) \n",
        "print(min(l, key = len)) "
      ],
      "execution_count": null,
      "outputs": [
        {
          "output_type": "stream",
          "name": "stdout",
          "text": [
            "abc\n",
            "ab\n"
          ]
        }
      ]
    },
    {
      "cell_type": "code",
      "metadata": {
        "id": "UujvMIupeLA3",
        "colab": {
          "base_uri": "https://localhost:8080/",
          "height": 52
        },
        "outputId": "6dd823de-3b61-4ba0-8bd3-d5ee01cfae32"
      },
      "source": [
        "def fun(element): \n",
        "    return(len(element)) \n",
        "  \n",
        "l =[\"ab\", \"abc\", \"bc\", \"c\"] \n",
        "print(max(l, key = fun)) \n",
        "  \n",
        "# you can also write in this form \n",
        "print(max(l, key = lambda element:len(element))) "
      ],
      "execution_count": null,
      "outputs": [
        {
          "output_type": "stream",
          "text": [
            "abc\n",
            "abc\n"
          ],
          "name": "stdout"
        }
      ]
    },
    {
      "cell_type": "markdown",
      "metadata": {
        "id": "y4oTwR4de4mG"
      },
      "source": [
        "# **3. floor() and ceil()**"
      ]
    },
    {
      "cell_type": "markdown",
      "metadata": {
        "id": "Zhgt3D2VfjeB"
      },
      "source": [
        "<p align=\"justify\">floor() method in Python returns floor of x i.e., the largest integer not greater than x.\n",
        "\n",
        "<p align=\"justify\">ceil() method in Python returns ceiling value of x i.e., the smallest integer not less than x."
      ]
    },
    {
      "cell_type": "code",
      "metadata": {
        "id": "X8gyu7P9eYSF",
        "colab": {
          "base_uri": "https://localhost:8080/"
        },
        "outputId": "46920960-a79d-4f20-c33f-2f57366b0e9c"
      },
      "source": [
        "import math    \n",
        "  \n",
        "print(math.floor(-23.11))\n",
        "print( math.floor(300.16))\n",
        "print(math.floor(302.72)) "
      ],
      "execution_count": null,
      "outputs": [
        {
          "output_type": "stream",
          "name": "stdout",
          "text": [
            "-24\n",
            "300\n",
            "302\n"
          ]
        }
      ]
    },
    {
      "cell_type": "code",
      "metadata": {
        "id": "5sfUG1xcfX9o",
        "colab": {
          "base_uri": "https://localhost:8080/"
        },
        "outputId": "e677f562-e0c8-4ea4-efb1-a79102b3e9a0"
      },
      "source": [
        "import math    \n",
        "print(math.ceil(-23.11))\n",
        "print(math.ceil(300.16))\n",
        "print(math.ceil(300.72)) "
      ],
      "execution_count": null,
      "outputs": [
        {
          "output_type": "stream",
          "name": "stdout",
          "text": [
            "-23\n",
            "301\n",
            "301\n"
          ]
        }
      ]
    },
    {
      "cell_type": "markdown",
      "metadata": {
        "id": "AcJoQ0xigbqL"
      },
      "source": [
        "# **4. exp()**"
      ]
    },
    {
      "cell_type": "markdown",
      "metadata": {
        "id": "IR_Ga_COgmlc"
      },
      "source": [
        "<p align=\"justify\">This method is used to calculate the power of e i.e. e^y or we can say exponential of y. The value of e is approximately equal to 2.71828….."
      ]
    },
    {
      "cell_type": "code",
      "metadata": {
        "id": "QMqQ0Phyf_i4",
        "colab": {
          "base_uri": "https://localhost:8080/"
        },
        "outputId": "a0f44e02-536b-4cf5-a15b-0639ae0fda4b"
      },
      "source": [
        "import math  \n",
        "\n",
        "print (math.exp(4)) \n",
        "print (math.exp(-3)) \n",
        "print (math.exp(0)) "
      ],
      "execution_count": null,
      "outputs": [
        {
          "output_type": "stream",
          "name": "stdout",
          "text": [
            "54.598150033144236\n",
            "0.049787068367863944\n",
            "1.0\n"
          ]
        }
      ]
    },
    {
      "cell_type": "markdown",
      "metadata": {
        "id": "IIxQeUxhhV-W"
      },
      "source": [
        "# **5. modf()**"
      ]
    },
    {
      "cell_type": "markdown",
      "metadata": {
        "id": "QRMGA8_IhfAR"
      },
      "source": [
        "<p align=\"justify\">modf() function  in Python that returns the fractional and integer parts of the number in a two-item tuple. Both parts have the same sign as the number. The integer part is returned as a float."
      ]
    },
    {
      "cell_type": "code",
      "metadata": {
        "id": "vMNRMeJRg6BN",
        "colab": {
          "base_uri": "https://localhost:8080/"
        },
        "outputId": "11c2c1f8-1cf1-4eed-83d4-908d8bf83800"
      },
      "source": [
        "import math    \n",
        "\n",
        "print(math.modf(100.12)) \n",
        "print(math.modf(-100.72))  \n",
        "print(math.modf(2))  "
      ],
      "execution_count": null,
      "outputs": [
        {
          "output_type": "stream",
          "name": "stdout",
          "text": [
            "(0.12000000000000455, 100.0)\n",
            "(-0.7199999999999989, -100.0)\n",
            "(0.0, 2.0)\n"
          ]
        }
      ]
    },
    {
      "cell_type": "markdown",
      "metadata": {
        "id": "JcuZ4nLeiXru"
      },
      "source": [
        "# **6. sqrt()**"
      ]
    },
    {
      "cell_type": "markdown",
      "metadata": {
        "id": "Vd6xviQEiege"
      },
      "source": [
        "<p align=\"justify\">sqrt() function in Python programming language that returns the square root of any number."
      ]
    },
    {
      "cell_type": "code",
      "metadata": {
        "id": "cUWabKJkim2j",
        "colab": {
          "base_uri": "https://localhost:8080/"
        },
        "outputId": "96afcdb4-de1e-4301-eda9-fd7e741b0ca6"
      },
      "source": [
        "import math\n",
        "print(math.sqrt(0))  \n",
        "print(math.sqrt(4))  \n",
        "print(math.sqrt(3.5))  "
      ],
      "execution_count": null,
      "outputs": [
        {
          "output_type": "stream",
          "name": "stdout",
          "text": [
            "0.0\n",
            "2.0\n",
            "1.8708286933869707\n"
          ]
        }
      ]
    },
    {
      "cell_type": "markdown",
      "metadata": {
        "id": "ksGDZgvqjKmT"
      },
      "source": [
        "# **7. pow()**"
      ]
    },
    {
      "cell_type": "markdown",
      "metadata": {
        "id": "FXW2glWBjUgz"
      },
      "source": [
        "<p align=\"justify\">Python offers to compute the power of a number and hence can make task of calculating power of a number easier."
      ]
    },
    {
      "cell_type": "code",
      "metadata": {
        "id": "sCBnXsIgjW95",
        "colab": {
          "base_uri": "https://localhost:8080/"
        },
        "outputId": "7391950d-d1a8-4029-937f-6ab9e1cbbdbc"
      },
      "source": [
        "print(pow(3,4)) \n",
        "print(pow(-4, 3)) \n",
        "print(pow(4, -3))  \n",
        "print(pow(-4, -3)) "
      ],
      "execution_count": null,
      "outputs": [
        {
          "output_type": "stream",
          "name": "stdout",
          "text": [
            "81\n",
            "-64\n",
            "0.015625\n",
            "-0.015625\n"
          ]
        }
      ]
    },
    {
      "cell_type": "markdown",
      "metadata": {
        "id": "9cNQ2_raj97u"
      },
      "source": [
        "# **8. round()**"
      ]
    },
    {
      "cell_type": "markdown",
      "metadata": {
        "id": "iaePMTcQkC6j"
      },
      "source": [
        "<p align=\"justify\">Python provides an function round() which rounds off to the given number of digits and returns the floating point number, if no number of digits is provided for round off , it rounds off the number to the nearest integer."
      ]
    },
    {
      "cell_type": "markdown",
      "metadata": {
        "id": "KIx-viOXkXKD"
      },
      "source": [
        "**Syntax:**\n",
        "\n",
        "round(number, number of digits)"
      ]
    },
    {
      "cell_type": "code",
      "metadata": {
        "id": "FTjfbfsvkjUG",
        "colab": {
          "base_uri": "https://localhost:8080/"
        },
        "outputId": "4ed4084d-32f0-4b4d-cee6-08451c10ff0e"
      },
      "source": [
        "print(round(15)) \n",
        "print(round(51.6))  \n",
        "print(round(51.5))   \n",
        "print(round(51.4))  "
      ],
      "execution_count": null,
      "outputs": [
        {
          "output_type": "stream",
          "name": "stdout",
          "text": [
            "15\n",
            "52\n",
            "52\n",
            "51\n"
          ]
        }
      ]
    },
    {
      "cell_type": "code",
      "metadata": {
        "id": "dbzZy608ktEQ",
        "colab": {
          "base_uri": "https://localhost:8080/"
        },
        "outputId": "e243f64a-8888-4194-be50-e7b39ca819df"
      },
      "source": [
        "print(round(2.665, 2)) \n",
        "print(round(2.676, 1))\n",
        "print(round(2.673, 0)) \n",
        "print(round(-2.673, 0)) \n",
        "print(round(-2.673, 2))\n",
        "print(round(0.56,0)) \n",
        "print(round(-0.66,1)) \n",
        "print(round(0.5))\n",
        "print(round(0.6))\n",
        "print(round(0.56))\n",
        "print(round(2.3))"
      ],
      "execution_count": null,
      "outputs": [
        {
          "output_type": "stream",
          "name": "stdout",
          "text": [
            "2.67\n",
            "2.7\n",
            "3.0\n",
            "-3.0\n",
            "-2.67\n",
            "1.0\n",
            "-0.7\n",
            "0\n",
            "1\n",
            "1\n",
            "2\n"
          ]
        }
      ]
    },
    {
      "cell_type": "markdown",
      "metadata": {
        "id": "Kn8cYAoWHMxY"
      },
      "source": [
        "# **9. Random Numbers in Python**"
      ]
    },
    {
      "cell_type": "markdown",
      "metadata": {
        "id": "APUHs10jNxgh"
      },
      "source": [
        "# **a). choice()**"
      ]
    },
    {
      "cell_type": "code",
      "metadata": {
        "id": "9eFXuv4hN-hY",
        "colab": {
          "base_uri": "https://localhost:8080/"
        },
        "outputId": "8974ee87-7f58-4ede-9a64-96c33f8fd64d"
      },
      "source": [
        "import random \n",
        "print (random.choice([1, 4, 8, 10, 3])) "
      ],
      "execution_count": null,
      "outputs": [
        {
          "output_type": "stream",
          "name": "stdout",
          "text": [
            "10\n"
          ]
        }
      ]
    },
    {
      "cell_type": "markdown",
      "metadata": {
        "id": "XUsjFEweOJsI"
      },
      "source": [
        "# **b). randrange(beg, end, step)**"
      ]
    },
    {
      "cell_type": "markdown",
      "metadata": {
        "id": "NR-gQV2dOimF"
      },
      "source": [
        "<p align=\"justify\">This function takes 3 arguments, beginning number (included in generation), last number (excluded in generation) and step ( to skip numbers in range while selecting)."
      ]
    },
    {
      "cell_type": "code",
      "metadata": {
        "id": "bYKl4x6COQmR",
        "colab": {
          "base_uri": "https://localhost:8080/"
        },
        "outputId": "4b20a9be-2ef7-486b-a4cc-351230c1bcef"
      },
      "source": [
        "import random \n",
        "print (random.randrange(20, 50,3)) "
      ],
      "execution_count": null,
      "outputs": [
        {
          "output_type": "stream",
          "name": "stdout",
          "text": [
            "47\n"
          ]
        }
      ]
    },
    {
      "cell_type": "markdown",
      "metadata": {
        "id": "QxGPJI99PV0J"
      },
      "source": [
        "# **c). random()**"
      ]
    },
    {
      "cell_type": "markdown",
      "metadata": {
        "id": "hKofIRb2PdJb"
      },
      "source": [
        "<p align=\"justify\">This number is used to generate a float random number less than 1 and greater or equal to 0."
      ]
    },
    {
      "cell_type": "code",
      "metadata": {
        "id": "rROzzcJNPgaP",
        "colab": {
          "base_uri": "https://localhost:8080/"
        },
        "outputId": "1ba53e62-7e6a-4f70-d5fa-fc2b54f4a4ed"
      },
      "source": [
        "import random \n",
        "print (random.random()) "
      ],
      "execution_count": null,
      "outputs": [
        {
          "output_type": "stream",
          "name": "stdout",
          "text": [
            "0.592176475266689\n"
          ]
        }
      ]
    },
    {
      "cell_type": "markdown",
      "metadata": {
        "id": "OX7JhfZNO1vI"
      },
      "source": [
        "# **10. bin() oct() and hex()**"
      ]
    },
    {
      "cell_type": "markdown",
      "metadata": {
        "id": "EQKH4uWiO5Gy"
      },
      "source": [
        "<p align=\"justify\">The bin() function is used to convert an integer (decimal) number to a binary string.\n",
        "\n",
        "<p align=\"justify\">The oct() function is used to convert an integer(decimal) number to a octal string.\n",
        "\n",
        "<p align=\"justify\">The hex() function is used to convert an integer(decimal) number to a hexadecimal string.\n",
        "\n",
        "<p align=\"justify\">The int() function is used to convert an other number system number to Decimal(integer)."
      ]
    },
    {
      "cell_type": "code",
      "metadata": {
        "id": "jOhRmjvZO_hS",
        "colab": {
          "base_uri": "https://localhost:8080/"
        },
        "outputId": "c7d1faaa-7a0c-4d48-d4bb-b69d6cae30f8"
      },
      "source": [
        "a=20\n",
        "print(bin(a))\n",
        "print(hex(a))\n",
        "print(oct(a))\n",
        "print(int(\"0b10100\",2))\n",
        "print(int(\"100\",16))\n",
        "print(int(\"0o24\",8))"
      ],
      "execution_count": null,
      "outputs": [
        {
          "output_type": "stream",
          "name": "stdout",
          "text": [
            "0b10100\n",
            "0x14\n",
            "0o24\n",
            "20\n",
            "256\n",
            "20\n"
          ]
        }
      ]
    },
    {
      "cell_type": "code",
      "metadata": {
        "id": "2wIK38NtPaqw",
        "colab": {
          "base_uri": "https://localhost:8080/"
        },
        "outputId": "fb7861ed-814d-4a45-db48-6eedc6e836af"
      },
      "source": [
        "print(bin(10-2)+bin(12^4))"
      ],
      "execution_count": null,
      "outputs": [
        {
          "output_type": "stream",
          "name": "stdout",
          "text": [
            "0b10000b1000\n"
          ]
        }
      ]
    },
    {
      "cell_type": "markdown",
      "metadata": {
        "id": "EfajTVpQqthc"
      },
      "source": [
        "# **11.bool()**"
      ]
    },
    {
      "cell_type": "markdown",
      "metadata": {
        "id": "GCr9zXagrNvS"
      },
      "source": [
        "<p align=\"justify\">Almost any value is evaluated to True if it has some sort of content.\n"
      ]
    },
    {
      "cell_type": "code",
      "metadata": {
        "id": "t50_AeegrQr6",
        "colab": {
          "base_uri": "https://localhost:8080/"
        },
        "outputId": "e4918baa-357a-4efb-825c-267692a7277b"
      },
      "source": [
        "print(bool(\"abc\"))\n",
        "print(bool(123))\n",
        "print(bool([\"apple\", \"cherry\", \"banana\"]))\n",
        "print(bool(True))\n"
      ],
      "execution_count": null,
      "outputs": [
        {
          "output_type": "stream",
          "name": "stdout",
          "text": [
            "True\n",
            "True\n",
            "True\n",
            "True\n"
          ]
        }
      ]
    },
    {
      "cell_type": "code",
      "metadata": {
        "id": "-YUMqZnjrkcN",
        "colab": {
          "base_uri": "https://localhost:8080/",
          "height": 136
        },
        "outputId": "61dde8d9-14c8-49df-9b03-b8f349086695"
      },
      "source": [
        "print(bool(False))\n",
        "print(bool(None))\n",
        "print(bool(0))\n",
        "print(bool(\"\"))\n",
        "print(bool(()))\n",
        "print(bool([]))\n",
        "print(bool({}))"
      ],
      "execution_count": null,
      "outputs": [
        {
          "output_type": "stream",
          "text": [
            "False\n",
            "False\n",
            "False\n",
            "False\n",
            "False\n",
            "False\n",
            "False\n"
          ],
          "name": "stdout"
        }
      ]
    },
    {
      "cell_type": "markdown",
      "metadata": {
        "id": "W3BZL0-TsXVo"
      },
      "source": [
        "# **12.filter()**"
      ]
    },
    {
      "cell_type": "markdown",
      "metadata": {
        "id": "5OE2L9y-sctb"
      },
      "source": [
        "<p align=\"justify\">The filter() function returns an iterator were the items are filtered through a function to test if the item is accepted or not."
      ]
    },
    {
      "cell_type": "markdown",
      "metadata": {
        "id": "849RZPKgsmLV"
      },
      "source": [
        "syntax:\n",
        "\n",
        "filter(function, iterable)"
      ]
    },
    {
      "cell_type": "code",
      "metadata": {
        "id": "eLEcC2WxsuPB",
        "colab": {
          "base_uri": "https://localhost:8080/"
        },
        "outputId": "476963f7-7121-4964-d9d2-3c7eaa07ebf1"
      },
      "source": [
        "ages = [5, 12, 17, 18, 24, 32]\n",
        "\n",
        "def myFunc(x):\n",
        "  if x < 18:\n",
        "    return False\n",
        "  else:\n",
        "    return True\n",
        "\n",
        "adults = filter(myFunc, ages)\n",
        "\n",
        "for x in adults:\n",
        "  print(x)"
      ],
      "execution_count": null,
      "outputs": [
        {
          "output_type": "stream",
          "name": "stdout",
          "text": [
            "18\n",
            "24\n",
            "32\n"
          ]
        }
      ]
    },
    {
      "cell_type": "markdown",
      "metadata": {
        "id": "Qf5fz5fCuiEF"
      },
      "source": [
        "# **13.copysign()**"
      ]
    },
    {
      "cell_type": "markdown",
      "metadata": {
        "id": "E1DJKNTauo6B"
      },
      "source": [
        "<p align=\"justify\">This function returns a float value consisting of magnitude from parameter x and the sign (+ve or -ve) from parameter y."
      ]
    },
    {
      "cell_type": "markdown",
      "metadata": {
        "id": "JaD9ck20us-b"
      },
      "source": [
        "Syntax : math.copysign(x, y)\n",
        "\n",
        "Parameters :\n",
        "<p align=\"justify\">x : Integer value to be converted\n",
        "<p align=\"justify\">y : Integer whose sign is required\n",
        "\n",
        "<p align=\"justify\">Returns : float value consisting of magnitude from parameter x and the sign from parameter y."
      ]
    },
    {
      "cell_type": "code",
      "metadata": {
        "id": "T7oKTLYGu41C",
        "colab": {
          "base_uri": "https://localhost:8080/"
        },
        "outputId": "5b5f61fc-4e1f-4543-fef7-ede6b3cd0f42"
      },
      "source": [
        "import math\n",
        "print(math.copysign(3, -20))"
      ],
      "execution_count": null,
      "outputs": [
        {
          "output_type": "stream",
          "text": [
            "-3.0\n"
          ],
          "name": "stdout"
        }
      ]
    },
    {
      "cell_type": "markdown",
      "metadata": {
        "id": "dhH4uHSuvZYy"
      },
      "source": [
        "# **14. fabs()**"
      ]
    },
    {
      "cell_type": "markdown",
      "metadata": {
        "id": "a5DgWo8Avd1P"
      },
      "source": [
        "<p align=\"justify\">math.fabs() function returns the absolute value of the number. It always return floating value."
      ]
    },
    {
      "cell_type": "markdown",
      "metadata": {
        "id": "UCwtsUO7wHof"
      },
      "source": [
        "Syntax: math.fabs(x)"
      ]
    },
    {
      "cell_type": "code",
      "metadata": {
        "id": "6H9a85zevkrt",
        "colab": {
          "base_uri": "https://localhost:8080/"
        },
        "outputId": "d1c27081-9f0c-43a9-9114-a9a590706d75"
      },
      "source": [
        "import math\n",
        "number = -12.08\n",
        "print(math.fabs(number)) "
      ],
      "execution_count": null,
      "outputs": [
        {
          "output_type": "stream",
          "text": [
            "12.08\n"
          ],
          "name": "stdout"
        }
      ]
    },
    {
      "cell_type": "code",
      "metadata": {
        "id": "u1clWZAXwUZq",
        "colab": {
          "base_uri": "https://localhost:8080/"
        },
        "outputId": "aa140d54-59ab-4c00-d683-035ff67ac646"
      },
      "source": [
        "import math\n",
        "number = -12\n",
        "print(math.fabs(number)) "
      ],
      "execution_count": null,
      "outputs": [
        {
          "output_type": "stream",
          "text": [
            "12.0\n"
          ],
          "name": "stdout"
        }
      ]
    },
    {
      "cell_type": "markdown",
      "metadata": {
        "id": "AFUbyPE7w7IG"
      },
      "source": [
        "# **15. factorial()**"
      ]
    },
    {
      "cell_type": "markdown",
      "metadata": {
        "id": "BChkCZbnxEzr"
      },
      "source": [
        "<p align=\"justify\">math.factorial() function returns the factorial of desired number."
      ]
    },
    {
      "cell_type": "code",
      "metadata": {
        "id": "DHes0eJIxMSZ",
        "colab": {
          "base_uri": "https://localhost:8080/"
        },
        "outputId": "d38e851f-33b6-42f2-fb58-a1e06c2cbcc9"
      },
      "source": [
        "import math\n",
        "print ( math.factorial(4)) \n",
        "print ( math.factorial(4.0)) \n",
        "#print ( math.factorial(4.5)) # THIS WILL NOT WORK\n"
      ],
      "execution_count": null,
      "outputs": [
        {
          "output_type": "stream",
          "text": [
            "24\n",
            "24\n"
          ],
          "name": "stdout"
        }
      ]
    },
    {
      "cell_type": "markdown",
      "metadata": {
        "id": "kplMWxd6F7Ju"
      },
      "source": [
        "# **16. chr()**"
      ]
    },
    {
      "cell_type": "markdown",
      "metadata": {
        "id": "6IdWd_6hGFEt"
      },
      "source": [
        "<p align=\"justify\">chr() function returns character corrosponde to the ASCII value."
      ]
    },
    {
      "cell_type": "code",
      "metadata": {
        "colab": {
          "base_uri": "https://localhost:8080/"
        },
        "id": "PgrOrpn4FAvh",
        "outputId": "f3367ba9-fc6c-45f6-db8b-95db5d1ef10d"
      },
      "source": [
        "print(chr(90))"
      ],
      "execution_count": null,
      "outputs": [
        {
          "output_type": "stream",
          "text": [
            "Z\n"
          ],
          "name": "stdout"
        }
      ]
    },
    {
      "cell_type": "markdown",
      "metadata": {
        "id": "UP8SNwGJF_Mn"
      },
      "source": [
        "# **17. ord()**"
      ]
    },
    {
      "cell_type": "markdown",
      "metadata": {
        "id": "5N6TDbbUGZ3o"
      },
      "source": [
        "<p align=\"justify\">ord() function returns ASCII value  corrosponde to the character."
      ]
    },
    {
      "cell_type": "code",
      "metadata": {
        "colab": {
          "base_uri": "https://localhost:8080/"
        },
        "id": "p8qDiA-pFdCZ",
        "outputId": "de88dd07-56c4-4ba7-ffd8-2fed5c721aa5"
      },
      "source": [
        "print(ord(\"a\"))"
      ],
      "execution_count": null,
      "outputs": [
        {
          "output_type": "stream",
          "text": [
            "97\n"
          ],
          "name": "stdout"
        }
      ]
    },
    {
      "cell_type": "markdown",
      "metadata": {
        "id": "a_riFs9Xv1_W"
      },
      "source": [
        "<p align=\"justify\">Difference between abs() and fabs():\n",
        "The difference is that math.fabs(number) will always return a floating point number even if the argument is integer, whereas abs() will return a floating point or an integer depending upon the argument."
      ]
    },
    {
      "cell_type": "markdown",
      "metadata": {
        "id": "Xg9lWAmNi6JK"
      },
      "source": [
        "<p align=\"justify\">\n",
        "Python | math.sin() function\n",
        "Python | math.tan() function\n",
        "Python | math.cos() function\n",
        "Python | math.gcd() function\n",
        "Python - math.asinh() function\n",
        "Python - math.asin() function\n",
        "Python - math.acosh() function\n",
        "Python - math.atanh() function\n",
        "Python - math.tanh() function\n",
        "Python - math.atan() function\n",
        "Python - math.cosh() function\n",
        "Python - math.sinh() function\n",
        "Python - math.acos() function\n",
        "Python math function | hypot()\n",
        "Python math function | copysign()\n",
        "Python math function | modf()\n",
        "Python | math.ceil() function\n",
        "Python | math.copysign() function\n",
        "Python | math.floor() function"
      ]
    }
  ]
}