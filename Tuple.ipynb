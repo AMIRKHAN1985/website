{
  "nbformat": 4,
  "nbformat_minor": 0,
  "metadata": {
    "colab": {
      "name": "Tuple.ipynb",
      "provenance": [],
      "collapsed_sections": []
    },
    "kernelspec": {
      "name": "python3",
      "display_name": "Python 3"
    },
    "language_info": {
      "name": "python"
    }
  },
  "cells": [
    {
      "cell_type": "markdown",
      "metadata": {
        "id": "XxLUng12iLnR"
      },
      "source": [
        "# **Tuple**\n",
        "\n",
        "<p align=\"justify\">Python tuples are a data structure that store an ordered sequence of values. Tuples are immutable. This means you cannot change the values in a tuple. Tuples are defined with parenthesis.</p>"
      ]
    },
    {
      "cell_type": "code",
      "metadata": {
        "id": "lNWoLR8xiOqC",
        "colab": {
          "base_uri": "https://localhost:8080/"
        },
        "outputId": "861ebab8-41d0-457f-f234-d1d49f1bd8c5"
      },
      "source": [
        "tuple1 = (\"apple\", \"banana\", \"cherry\")\n",
        "print(tuple1)"
      ],
      "execution_count": null,
      "outputs": [
        {
          "output_type": "stream",
          "name": "stdout",
          "text": [
            "('apple', 'banana', 'cherry')\n"
          ]
        }
      ]
    },
    {
      "cell_type": "code",
      "metadata": {
        "id": "AiKgiWdbi_8T",
        "colab": {
          "base_uri": "https://localhost:8080/"
        },
        "outputId": "9877fb03-63df-4786-9672-a3ae6b465486"
      },
      "source": [
        "#sample of tuple \n",
        "tuple1=() # blank tuple\n",
        "print(tuple1)\n",
        "sample_tuple=\"A\",\"B\",\"C\"\n",
        "print(sample_tuple)\n",
        "sample_tuple1=(\"D\",)\n",
        "print(sample_tuple1)\n"
      ],
      "execution_count": null,
      "outputs": [
        {
          "output_type": "stream",
          "name": "stdout",
          "text": [
            "()\n",
            "('A', 'B', 'C')\n",
            "('D',)\n"
          ]
        }
      ]
    },
    {
      "cell_type": "markdown",
      "metadata": {
        "id": "RdFgCpwki-6n"
      },
      "source": [
        "# **Concatenating two tuples:**"
      ]
    },
    {
      "cell_type": "code",
      "metadata": {
        "id": "BWqzFbWjjtXj",
        "colab": {
          "base_uri": "https://localhost:8080/"
        },
        "outputId": "1e0d03d4-5293-49db-bb36-d4a36e40eaa9"
      },
      "source": [
        "tuple1 = (\"apple\", \"banana\", \"cherry\")\n",
        "tuple2=('pineapple','orange')\n",
        "print(tuple1+tuple2)"
      ],
      "execution_count": null,
      "outputs": [
        {
          "output_type": "stream",
          "name": "stdout",
          "text": [
            "('apple', 'banana', 'cherry', 'pineapple', 'orange')\n"
          ]
        }
      ]
    },
    {
      "cell_type": "markdown",
      "metadata": {
        "id": "YRDapd1ykhCZ"
      },
      "source": [
        "# **Slicing of tuple  (work similar to list)**"
      ]
    },
    {
      "cell_type": "code",
      "metadata": {
        "id": "U6rs8Liekjn7",
        "colab": {
          "base_uri": "https://localhost:8080/"
        },
        "outputId": "181d9e36-6c81-4cd7-98b1-12ea0713f0cd"
      },
      "source": [
        "tuple1 = (\"apple\", \"banana\", \"cherry\", \"orange\", \"kiwi\", \"melon\", \"mango\")\n",
        "print(tuple1[-5:-1])"
      ],
      "execution_count": null,
      "outputs": [
        {
          "output_type": "stream",
          "name": "stdout",
          "text": [
            "('cherry', 'orange', 'kiwi', 'melon')\n"
          ]
        }
      ]
    },
    {
      "cell_type": "markdown",
      "metadata": {
        "id": "f9_8N98xp5Xo"
      },
      "source": [
        "# **Tuple is immutable**"
      ]
    },
    {
      "cell_type": "code",
      "metadata": {
        "id": "DlnKUy0Ik0QC"
      },
      "source": [
        "tuple1 = (\"apple\", \"banana\", \"cherry\")\n",
        "tuple1[2] = \"orange\" # This will raise an error\n",
        "print(tuple1)"
      ],
      "execution_count": null,
      "outputs": []
    },
    {
      "cell_type": "code",
      "metadata": {
        "id": "CauhOwXMp-7M",
        "colab": {
          "base_uri": "https://localhost:8080/"
        },
        "outputId": "bbcf89c8-f937-4a15-c943-84fdfc175f9e"
      },
      "source": [
        "my_tuple = (4, 2, 3, [6, 5])\n",
        "\n",
        "# TypeError: 'tuple' object does not support item assignment\n",
        "#my_tuple[1] = 9\n",
        "\n",
        "# However, item of mutable element can be changed\n",
        "my_tuple[3][0] = 9    # Output: (4, 2, 3, [9, 5])\n",
        "print(my_tuple)"
      ],
      "execution_count": null,
      "outputs": [
        {
          "output_type": "stream",
          "name": "stdout",
          "text": [
            "(4, 2, 3, [9, 5])\n"
          ]
        }
      ]
    },
    {
      "cell_type": "markdown",
      "metadata": {
        "id": "sJZWqQTjrTwz"
      },
      "source": [
        "**we can change tuple by type casting** "
      ]
    },
    {
      "cell_type": "code",
      "metadata": {
        "id": "OKUSyf4Fk_Vu",
        "colab": {
          "base_uri": "https://localhost:8080/"
        },
        "outputId": "e9d84f14-3a2d-47ab-b1b0-bd4870a6b809"
      },
      "source": [
        "x = (\"apple\", \"banana\", \"cherry\")\n",
        "y = list(x)\n",
        "y[1] = \"kiwi\"\n",
        "x = tuple(y)\n",
        "\n",
        "print(x)"
      ],
      "execution_count": null,
      "outputs": [
        {
          "output_type": "stream",
          "name": "stdout",
          "text": [
            "('apple', 'kiwi', 'cherry')\n"
          ]
        }
      ]
    },
    {
      "cell_type": "markdown",
      "metadata": {
        "id": "43zzIz6DopGj"
      },
      "source": [
        "# **Tuple Method:**"
      ]
    },
    {
      "cell_type": "markdown",
      "metadata": {
        "id": "FqWK1ffiozSA"
      },
      "source": [
        "\n",
        "\n",
        "# **a). count()**\n",
        "\n",
        "<p align=\"justify\">count return no. of accurance of any elements.</p>"
      ]
    },
    {
      "cell_type": "code",
      "metadata": {
        "id": "WkUjHWN8ooUt",
        "colab": {
          "base_uri": "https://localhost:8080/"
        },
        "outputId": "1564cde0-2309-4ffd-a53c-77a05e5a6cab"
      },
      "source": [
        "tuple1 = (1, 3, 7, 8, 7, 5, 4, 6, 8, 5)\n",
        "\n",
        "x = tuple1.count(5)\n",
        "print(x)"
      ],
      "execution_count": null,
      "outputs": [
        {
          "output_type": "stream",
          "name": "stdout",
          "text": [
            "2\n"
          ]
        }
      ]
    },
    {
      "cell_type": "markdown",
      "metadata": {
        "id": "qFsQBwvVpQi6"
      },
      "source": [
        "## **b). index()**\n",
        "\n",
        "<p align=\"justify\">index is used to return indexing of any element.</p>"
      ]
    },
    {
      "cell_type": "code",
      "metadata": {
        "id": "OIqH8y_Ao8tO",
        "colab": {
          "base_uri": "https://localhost:8080/"
        },
        "outputId": "03524f27-e130-4aee-b3aa-f233a167f0c1"
      },
      "source": [
        "tuple1 = (1, 3, 7, 8, 7, 5, 4, 6, 8, 5)\n",
        "\n",
        "x = tuple1.index(8)\n",
        "\n",
        "print(x)"
      ],
      "execution_count": null,
      "outputs": [
        {
          "output_type": "stream",
          "name": "stdout",
          "text": [
            "3\n"
          ]
        }
      ]
    },
    {
      "cell_type": "markdown",
      "metadata": {
        "id": "6vTLxzsWaxbS"
      },
      "source": [
        "**Some Prefine Function applied for List and Tuple**"
      ]
    },
    {
      "cell_type": "markdown",
      "metadata": {
        "id": "1xmbBHGtaXd0"
      },
      "source": [
        "# **a). sum()**\n",
        "\n",
        "<p align=\"justify\">sum is used to give sum of all  elements(interger and float) of list.</p>"
      ]
    },
    {
      "cell_type": "code",
      "metadata": {
        "id": "MO2sg7z2aZvj",
        "colab": {
          "base_uri": "https://localhost:8080/"
        },
        "outputId": "6968c181-3388-45ec-cbb8-5aaa4823dc48"
      },
      "source": [
        "List1 = [1,5,3,4,5]\n",
        "addition=sum(List1) \n",
        "print(addition)\n"
      ],
      "execution_count": null,
      "outputs": [
        {
          "output_type": "stream",
          "name": "stdout",
          "text": [
            "18\n"
          ]
        }
      ]
    },
    {
      "cell_type": "code",
      "metadata": {
        "colab": {
          "base_uri": "https://localhost:8080/"
        },
        "id": "LbDdMCxjvoeF",
        "outputId": "47ae03c3-629f-4f44-818d-66419a60d691"
      },
      "source": [
        "List1 = (3,5,3,6,5)\n",
        "addition=sum(List1) \n",
        "print(addition)"
      ],
      "execution_count": null,
      "outputs": [
        {
          "output_type": "stream",
          "name": "stdout",
          "text": [
            "22\n"
          ]
        }
      ]
    },
    {
      "cell_type": "code",
      "metadata": {
        "colab": {
          "base_uri": "https://localhost:8080/"
        },
        "id": "izJl_8X9qHQd",
        "outputId": "d57eff70-9146-4c7b-a200-29e6744de593"
      },
      "source": [
        "List1 = [1,5.6,3.0,4,5]\n",
        "addition=sum(List1) \n",
        "print(addition)"
      ],
      "execution_count": null,
      "outputs": [
        {
          "output_type": "stream",
          "name": "stdout",
          "text": [
            "18.6\n"
          ]
        }
      ]
    },
    {
      "cell_type": "markdown",
      "metadata": {
        "id": "jd-bBDA1gC-Z"
      },
      "source": [
        "# **b). filter()**"
      ]
    },
    {
      "cell_type": "markdown",
      "metadata": {
        "id": "82U3EkntghL0"
      },
      "source": [
        "\n",
        "<p align=\"justify\">The filter() function returns an iterator were the items are filtered through a function to test if the item is accepted or not.</p>\n",
        "\n",
        "**syntax:**\n",
        "\n",
        "    filter(function, iterable)"
      ]
    },
    {
      "cell_type": "code",
      "metadata": {
        "id": "KN_NNyUJgLS0",
        "colab": {
          "base_uri": "https://localhost:8080/"
        },
        "outputId": "d6f93ae5-2f21-4eb0-d0c7-02463df35fee"
      },
      "source": [
        "ages = [5, 12, 17, 18, 24, 32]\n",
        "\n",
        "def myFunc(x):\n",
        "  if x < 18:\n",
        "    return False\n",
        "  else:\n",
        "    return True\n",
        "\n",
        "adults = filter(myFunc, ages)\n",
        "\n",
        "print(list(adults))\n"
      ],
      "execution_count": null,
      "outputs": [
        {
          "output_type": "stream",
          "name": "stdout",
          "text": [
            "[18, 24, 32]\n"
          ]
        }
      ]
    },
    {
      "cell_type": "markdown",
      "metadata": {
        "id": "zcEMMZl6gnQ-"
      },
      "source": [
        "# **c).map()**"
      ]
    },
    {
      "cell_type": "markdown",
      "metadata": {
        "id": "Otv7VHdtgzW-"
      },
      "source": [
        "<p align=\"justify\">The map() function executes a specified function for each item in a iterable. The item is sent to the function as a parameter.</p>\n",
        "\n",
        "\n",
        "\n",
        "\n"
      ]
    },
    {
      "cell_type": "markdown",
      "metadata": {
        "id": "EfOGQGjQg2Dz"
      },
      "source": [
        "**Syntax:**\n",
        "\n",
        "    map(function, iterables)"
      ]
    },
    {
      "cell_type": "code",
      "metadata": {
        "id": "eQHuUgmOgp3j",
        "colab": {
          "base_uri": "https://localhost:8080/"
        },
        "outputId": "764ab0e2-8c26-45d5-9ca2-1c02833b76d4"
      },
      "source": [
        "def square(n): \n",
        "    return n*n\n",
        "  \n",
        "# We double all numbers using map() \n",
        "numbers = [1, 2, 3, 4]\n",
        "#result = map(square, numbers)\n",
        "#print(result) \n",
        "#print(list(result))\n",
        "print(list(map(square, numbers)))"
      ],
      "execution_count": null,
      "outputs": [
        {
          "output_type": "stream",
          "name": "stdout",
          "text": [
            "[1, 4, 9, 16]\n"
          ]
        }
      ]
    },
    {
      "cell_type": "code",
      "metadata": {
        "id": "2AOYY8bshj9O",
        "colab": {
          "base_uri": "https://localhost:8080/"
        },
        "outputId": "e08494b2-d228-483b-c619-8cfb4dd83e32"
      },
      "source": [
        "def square(n): \n",
        "    return n+1\n",
        "  \n",
        "# We increment numbers by 1 using map() \n",
        "numbers = (1, 2, 3, 4) \n",
        "print(tuple(map(square, numbers) ))\n",
        "print(set(map(square, numbers) ))\n"
      ],
      "execution_count": null,
      "outputs": [
        {
          "output_type": "stream",
          "name": "stdout",
          "text": [
            "(2, 3, 4, 5)\n",
            "{2, 3, 4, 5}\n"
          ]
        }
      ]
    },
    {
      "cell_type": "markdown",
      "metadata": {
        "id": "aaV_yf90Amrk"
      },
      "source": [
        "# **d). zip()**\n",
        "\n",
        "<p align=\"justify\">- The zip() function returns a zip object, which is an iterator of tuples where the first item in each passed iterator is paired together, and then the second item in each passed iterator are paired together etc.\n",
        "\n",
        "<p align=\"justify\">- If the passed iterators have different lengths, the iterator with the least items decides the length of the new iterator."
      ]
    },
    {
      "cell_type": "markdown",
      "metadata": {
        "id": "8JzuaOOnA2NO"
      },
      "source": [
        "Syntax: \n",
        "\n",
        "zip(iterator1, iterator2, iterator3 ...)\n",
        "\n"
      ]
    },
    {
      "cell_type": "code",
      "metadata": {
        "colab": {
          "base_uri": "https://localhost:8080/"
        },
        "id": "7S0VDvpeA1m9",
        "outputId": "d9579b4b-11d9-497e-b128-b0f3c080edc4"
      },
      "source": [
        "a = (\"John\", \"Charles\", \"Mike\")\n",
        "b = (\"Jenny\", \"Christy\", \"Monica\", \"Vicky\")\n",
        "\n",
        "c = zip(a, b)\n",
        "print(c)\n",
        "print(tuple(c))\n"
      ],
      "execution_count": null,
      "outputs": [
        {
          "output_type": "stream",
          "name": "stdout",
          "text": [
            "<zip object at 0x7fcd21f030f0>\n",
            "(('John', 'Jenny'), ('Charles', 'Christy'), ('Mike', 'Monica'))\n"
          ]
        }
      ]
    },
    {
      "cell_type": "code",
      "metadata": {
        "colab": {
          "base_uri": "https://localhost:8080/"
        },
        "id": "jMozI7g0BvVj",
        "outputId": "5bd1db30-eddc-4559-b758-9bfb0010dd91"
      },
      "source": [
        "a = (\"John\", \"Charles\", \"Mike\")\n",
        "b = (\"Jenny\", \"Christy\", \"Monica\", \"Vicky\")\n",
        "\n",
        "c = zip(a, b)\n",
        "for x,y in c:\n",
        "  print(x,y)"
      ],
      "execution_count": null,
      "outputs": [
        {
          "output_type": "stream",
          "name": "stdout",
          "text": [
            "John Jenny\n",
            "Charles Christy\n",
            "Mike Monica\n"
          ]
        }
      ]
    }
  ]
}