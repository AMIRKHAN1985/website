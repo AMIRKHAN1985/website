{
  "nbformat": 4,
  "nbformat_minor": 0,
  "metadata": {
    "colab": {
      "name": "Exception handling.ipynb",
      "provenance": [],
      "collapsed_sections": []
    },
    "kernelspec": {
      "name": "python3",
      "display_name": "Python 3",
      "language": "python"
    }
  },
  "cells": [
    {
      "cell_type": "markdown",
      "metadata": {
        "id": "UZn3CWZARmIk"
      },
      "source": [
        "# **Exceptions:**"
      ]
    },
    {
      "cell_type": "markdown",
      "metadata": {
        "id": "sLBvVUrfRp_o"
      },
      "source": [
        "<p align=\"justify\">Exceptions are raised when the program is syntactically correct but the code resulted in an Logical Errors (Exceptions). This error does not stop the execution of the program, however, it changes the normal flow of the program.\n",
        "\n",
        "<p align=\"justify\">Errors that occur at runtime (after passing the syntax test) are called exceptions or logical errors."
      ]
    },
    {
      "cell_type": "code",
      "metadata": {
        "id": "RRVfcetkUgwd"
      },
      "source": [
        "marks = 10000\n",
        "# perform division with 0 give zero division error\n",
        "a = marks / 0 # this will give you ZeroDivisionError\n",
        "print(a) \n"
      ],
      "execution_count": null,
      "outputs": []
    },
    {
      "cell_type": "code",
      "metadata": {
        "id": "MajjilkXVocf"
      },
      "source": [
        "b=c/2 # this will give you NameError\n",
        "print(b)"
      ],
      "execution_count": null,
      "outputs": []
    },
    {
      "cell_type": "code",
      "metadata": {
        "id": "6q9pX3QUZgo0"
      },
      "source": [
        "import math\n",
        "print(math.sqrt(-5)) # this will give you ValueError "
      ],
      "execution_count": null,
      "outputs": []
    },
    {
      "cell_type": "code",
      "metadata": {
        "id": "Cdur12a5aFn3"
      },
      "source": [
        "print(\"5\"+5) # this will give you TypeError"
      ],
      "execution_count": null,
      "outputs": []
    },
    {
      "cell_type": "markdown",
      "metadata": {
        "id": "AXUiHIqaSTuM"
      },
      "source": [
        "# **Built-in Exceptions**"
      ]
    },
    {
      "cell_type": "markdown",
      "metadata": {
        "id": "L19R_Pt1SerM"
      },
      "source": [
        "![alt text](https://2.bp.blogspot.com/-jH5MCdfa8Zo/Vb5Mg_pD-nI/AAAAAAAAInU/mJ0hTsRKGjc/s640/exception.PNG)"
      ]
    },
    {
      "cell_type": "markdown",
      "metadata": {
        "id": "DaA2u4ASWKEV"
      },
      "source": [
        "# **Assertions in python:**"
      ]
    },
    {
      "cell_type": "markdown",
      "metadata": {
        "id": "p4KtzAazWNpF"
      },
      "source": [
        "<p align=\"justify\">Python's assert statement is a debugging aid that tests a condition. If the condition is true, it does nothing and your program just continues to execute. But if the assert condition evaluates to false, it raises an AssertionError exception with an optional error message."
      ]
    },
    {
      "cell_type": "markdown",
      "metadata": {
        "id": "leiQhz9aWbqG"
      },
      "source": [
        "Syntax:\n",
        "\n",
        "assert (Expression), Arguments"
      ]
    },
    {
      "cell_type": "code",
      "metadata": {
        "id": "LfhLQy3SRXNh",
        "colab": {
          "base_uri": "https://localhost:8080/"
        },
        "outputId": "b6d0f285-7fe3-4a31-fd95-761cce246ee0"
      },
      "source": [
        "def KelvinToFahrenheit(Temperature):\n",
        "   assert (Temperature >= 0),\"Colder than absolute zero!\"\n",
        "   return ((Temperature-273)*1.8)+32\n",
        "\n",
        "print (KelvinToFahrenheit(273))\n",
        "print (int(KelvinToFahrenheit(505.78)))\n",
        "# print(KelvinToFahrenheit(-5)) this will give you assertion Error"
      ],
      "execution_count": null,
      "outputs": [
        {
          "output_type": "stream",
          "name": "stdout",
          "text": [
            "32.0\n",
            "451\n"
          ]
        }
      ]
    },
    {
      "cell_type": "markdown",
      "metadata": {
        "id": "QdpwAks8XrCg"
      },
      "source": [
        "# **Exception Handling**"
      ]
    },
    {
      "cell_type": "markdown",
      "metadata": {
        "id": "mUDfwtW2X9as"
      },
      "source": [
        "<p align=\"justify\">When an error occurs, or exception as we call it, Python will normally stop and generate an error message.\n",
        "\n",
        "<p align=\"justify\">These exceptions can be handled using the try statement:"
      ]
    },
    {
      "cell_type": "markdown",
      "metadata": {
        "id": "Vc2auh9uX1PQ"
      },
      "source": [
        "# **a)try with single except:**"
      ]
    },
    {
      "cell_type": "markdown",
      "metadata": {
        "id": "wcrTBQ8oZXmK"
      },
      "source": [
        "<p align=\"justify\">when try block raises an error, the except block will be executed."
      ]
    },
    {
      "cell_type": "code",
      "metadata": {
        "id": "EaRgHYgxXs-I",
        "colab": {
          "base_uri": "https://localhost:8080/"
        },
        "outputId": "cca6502b-8b33-4828-8be0-069abe7c17bd"
      },
      "source": [
        "\n",
        "try:\n",
        "  print(t)\n",
        "  \n",
        "except:\n",
        "  print(\"An exception occurred\")\n"
      ],
      "execution_count": null,
      "outputs": [
        {
          "output_type": "stream",
          "name": "stdout",
          "text": [
            "An exception occurred\n"
          ]
        }
      ]
    },
    {
      "cell_type": "markdown",
      "metadata": {
        "id": "VklFibsrYZS4"
      },
      "source": [
        "# **b) try with many except:**"
      ]
    },
    {
      "cell_type": "markdown",
      "metadata": {
        "id": "QJdGICLcZM4i"
      },
      "source": [
        "<p align=\"justify\">Print one message if the try block raises a NameError and another for other errors:"
      ]
    },
    {
      "cell_type": "code",
      "metadata": {
        "id": "ajOmjvlqYdQS",
        "colab": {
          "base_uri": "https://localhost:8080/"
        },
        "outputId": "5971cbe3-7f40-46b9-d72f-83be3c99c9d3"
      },
      "source": [
        "try:\n",
        "  g=10\n",
        "  print(g/0)\n",
        "except NameError:\n",
        "  print(\"Variable x is not defined\")\n",
        "except ZeroDivisionError:\n",
        "  print(\"variable x not divided by zero\")\n",
        "except:\n",
        "  print(\"Something else went wrong\")"
      ],
      "execution_count": null,
      "outputs": [
        {
          "output_type": "stream",
          "name": "stdout",
          "text": [
            "variable x not divided by zero\n"
          ]
        }
      ]
    },
    {
      "cell_type": "code",
      "metadata": {
        "colab": {
          "base_uri": "https://localhost:8080/"
        },
        "id": "YTUjAZhucuKf",
        "outputId": "256411d5-57b9-4704-d7cd-a373c1b752aa"
      },
      "source": [
        "try:\n",
        "  g=10\n",
        "  print(g/0)\n",
        "except NameError:\n",
        "  print(\"Variable x is not defined\")\n",
        "except:\n",
        "  print(\"Something else went wrong\")  # this will give you error default except should be last\n",
        "except ZeroDivisionError:\n",
        "  print(\"variable x not divided by zero\")\n"
      ],
      "execution_count": null,
      "outputs": [
        {
          "output_type": "stream",
          "name": "stdout",
          "text": [
            "Something else went wrong\n"
          ]
        }
      ]
    },
    {
      "cell_type": "code",
      "metadata": {
        "id": "DXGby2H-cply",
        "colab": {
          "base_uri": "https://localhost:8080/"
        },
        "outputId": "0584209f-8204-4013-812f-3ca4c6af90dd"
      },
      "source": [
        "try :  \n",
        "    a = 5\n",
        "    if a < 4 : \n",
        "        # throws ZeroDivisionError for a = 3  \n",
        "        b = a/(a-3) \n",
        "    # throws NameError if a >= 4 \n",
        "    print (\"Value of b = \", b) \n",
        "  \n",
        "# note that braces () are necessary here for multiple exceptions \n",
        "except (ZeroDivisionError, NameError): \n",
        "    print (\"\\nError Occurred and Handled\")"
      ],
      "execution_count": null,
      "outputs": [
        {
          "output_type": "stream",
          "name": "stdout",
          "text": [
            "\n",
            "Error Occurred and Handled\n"
          ]
        }
      ]
    },
    {
      "cell_type": "markdown",
      "metadata": {
        "id": "InB-l65dYt2D"
      },
      "source": [
        "# **c)try exept with else:**"
      ]
    },
    {
      "cell_type": "markdown",
      "metadata": {
        "id": "cz8PzspuZHNh"
      },
      "source": [
        "<p align=\"justify\">You can use the else keyword to define a block of code to be executed if no errors were raised: \n",
        "\n",
        "<p align=\"justify\">If in try block error will occur then except block will executed and else block will not executed."
      ]
    },
    {
      "cell_type": "code",
      "metadata": {
        "id": "2BV0F5QoYxUg",
        "colab": {
          "base_uri": "https://localhost:8080/"
        },
        "outputId": "8f03ebd8-0dc6-4a41-bace-73d338014ecb"
      },
      "source": [
        "try:\n",
        "  print(\"hello\")\n",
        "except:\n",
        "  print(\"Something went wrong\")\n",
        "else:\n",
        "  print(\"Nothing went wrong\")"
      ],
      "execution_count": null,
      "outputs": [
        {
          "output_type": "stream",
          "name": "stdout",
          "text": [
            "hello\n",
            "Nothing went wrong\n"
          ]
        }
      ]
    },
    {
      "cell_type": "markdown",
      "metadata": {
        "id": "3j3aniBzaAFR"
      },
      "source": [
        "# **d) try exept and finally:**"
      ]
    },
    {
      "cell_type": "markdown",
      "metadata": {
        "id": "xMkXugTdaQ7c"
      },
      "source": [
        "<p align=\"justify\">The finally block, if specified, will be executed regardless if the try block raises an error or not."
      ]
    },
    {
      "cell_type": "code",
      "metadata": {
        "id": "sYxD47cwY2TW",
        "colab": {
          "base_uri": "https://localhost:8080/"
        },
        "outputId": "16f190c8-90de-48d8-9190-242ea7fffd4a"
      },
      "source": [
        "try:\n",
        "  print(e)\n",
        "except:\n",
        "  print(\"Something went wrong\")\n",
        "else:\n",
        "  print(\"you ar in else block\")\n",
        "finally:\n",
        "  print(\"you are in finally block\")"
      ],
      "execution_count": null,
      "outputs": [
        {
          "output_type": "stream",
          "name": "stdout",
          "text": [
            "Something went wrong\n",
            "you are in finally block\n"
          ]
        }
      ]
    },
    {
      "cell_type": "code",
      "metadata": {
        "colab": {
          "base_uri": "https://localhost:8080/"
        },
        "id": "fJ5nJoOdeCN7",
        "outputId": "0f88d500-7501-4732-8932-04c665f6e9b9"
      },
      "source": [
        "try:\n",
        "  e=5\n",
        "  print(e)\n",
        "except:\n",
        "  print(\"Something went wrong\")\n",
        "else:\n",
        "  print(\"you ar in else block\")\n",
        "finally:\n",
        "  print(\"you are in finally block\")"
      ],
      "execution_count": null,
      "outputs": [
        {
          "output_type": "stream",
          "name": "stdout",
          "text": [
            "5\n",
            "you ar in else block\n",
            "you are in finally block\n"
          ]
        }
      ]
    },
    {
      "cell_type": "code",
      "metadata": {
        "id": "2kOKS9kTbnuM"
      },
      "source": [
        "try:\n",
        "  x=2\n",
        "  print(x)\n",
        "# this will give you syntaxError since else can't use before except  block\n",
        "else:\n",
        "  print(\"you are in else block\")\n",
        "except:\n",
        "  print(\"Something went wrong\")\n",
        "finally:\n",
        "  print(\"you are in finally block\")\n",
        "# this will give you syntaxError since else can't use after finally block\n"
      ],
      "execution_count": null,
      "outputs": []
    },
    {
      "cell_type": "code",
      "metadata": {
        "id": "sn2o53pWaT4C"
      },
      "source": [
        "try:\n",
        "  x=2\n",
        "  print(x)\n",
        "except:\n",
        "  print(\"Something went wrong\")\n",
        "finally:\n",
        "  print(\"you are in finally block\")\n",
        "# this will give you syntaxError since else can't use after finally block\n",
        "else:\n",
        "  print(\"you are in else block\")"
      ],
      "execution_count": null,
      "outputs": []
    },
    {
      "cell_type": "code",
      "metadata": {
        "id": "M9ZXV_Mnb8VU"
      },
      "source": [
        "try:\n",
        "  x=2\n",
        "  print(x)\n",
        "# this will give you syntaxError since else can't use without except  block\n",
        "else:\n",
        "  print(\"you are in else block\")"
      ],
      "execution_count": null,
      "outputs": []
    },
    {
      "cell_type": "markdown",
      "metadata": {
        "id": "0Gan6rnZXF6H"
      },
      "source": [
        "# **Raise an exception:**"
      ]
    },
    {
      "cell_type": "markdown",
      "metadata": {
        "id": "x1EjFPvuXLt1"
      },
      "source": [
        "<p align=\"justify\">The raise keyword is used to raise an exception. You can define what kind of error to raise, and the text to print to the user."
      ]
    },
    {
      "cell_type": "code",
      "metadata": {
        "id": "yPTfRAKknMX8"
      },
      "source": [
        "x = 10\n",
        "\n",
        "if x==10:\n",
        "  raise TypeError(\"here we raise TypeError without any error\")\n"
      ],
      "execution_count": null,
      "outputs": []
    },
    {
      "cell_type": "code",
      "metadata": {
        "id": "AvhqEMlKXTJS"
      },
      "source": [
        "x = \"hello\"\n",
        "\n",
        "if not type(x) is int:\n",
        "  raise TypeError(\"Only integers are allowed\")\n"
      ],
      "execution_count": null,
      "outputs": []
    },
    {
      "cell_type": "code",
      "metadata": {
        "id": "R-tXsmYEmeJB"
      },
      "source": [
        "# here we raise different exception corrospond to Type error\n",
        "x = \"hello\"\n",
        "\n",
        "if not type(x) is int:\n",
        "  raise NameError(\"name is not defined\")"
      ],
      "execution_count": null,
      "outputs": []
    },
    {
      "cell_type": "markdown",
      "metadata": {
        "id": "QKYl-USU1C6l"
      },
      "source": [
        "# **User-defined Exceptions**"
      ]
    },
    {
      "cell_type": "markdown",
      "metadata": {
        "id": "asVNAVq91i8M"
      },
      "source": [
        "<p align=\"justify\">You may name your own exceptions by creating a new exception class. Exceptions need to be derived from the Exception class, either directly or indirectly."
      ]
    },
    {
      "cell_type": "code",
      "metadata": {
        "id": "gF07fFbM16_T",
        "colab": {
          "base_uri": "https://localhost:8080/"
        },
        "outputId": "367389ea-d9f0-436a-bf78-0dc650b6af31"
      },
      "source": [
        "class Error(Exception):\n",
        "    \"\"\"Base class for other exceptions\"\"\"\n",
        "    pass\n",
        "class ValueTooSmallError(Error):\n",
        "    \n",
        "    \"\"\"Raised when the input value is too small\"\"\"\n",
        "    pass\n",
        "class ValueTooLargeError(Error):\n",
        "    \"\"\"Raised when the input value is too large\"\"\"\n",
        "    pass\n",
        "# you need to guess this number\n",
        "number = 10\n",
        "# user guesses a number until he/she gets it right\n",
        "while True:\n",
        "    try:\n",
        "        i_num = int(input(\"Enter a number: \"))\n",
        "        if i_num < number:\n",
        "            raise ValueTooSmallError\n",
        "        elif i_num > number:\n",
        "            raise ValueTooLargeError\n",
        "        break\n",
        "    except ValueTooSmallError:\n",
        "        print(\"This value is too small, try again!\")\n",
        "        print()\n",
        "    except ValueTooLargeError:\n",
        "        print(\"This value is too large, try again!\")\n",
        "        print()\n",
        "\n",
        "print(\"Congratulations! You guessed it correctly.\")"
      ],
      "execution_count": null,
      "outputs": [
        {
          "output_type": "stream",
          "name": "stdout",
          "text": [
            "Enter a number: 2\n",
            "This value is too small, try again!\n",
            "\n",
            "Enter a number: 8\n",
            "This value is too small, try again!\n",
            "\n",
            "Enter a number: 13\n",
            "This value is too large, try again!\n",
            "\n",
            "Enter a number: 10\n",
            "Congratulations! You guessed it correctly.\n"
          ]
        }
      ]
    },
    {
      "cell_type": "markdown",
      "metadata": {
        "id": "3IwASY6oTClQ"
      },
      "source": [
        "# **Argument of Exception**"
      ]
    },
    {
      "cell_type": "markdown",
      "metadata": {
        "id": "5aHNVqEZtU81"
      },
      "source": [
        "<p align=\"justify\">There might arise a situation where there is a need for additional information from an exception raised by Python.\n",
        "\n",
        "<p align=\"justify\">It can be used to gain additional information about the error encountered.\n",
        "\n",
        "<p align=\"justify\">As contents of an Argument can vary depending upon different types of Exceptions in Python, Variables can be supplied to the Exceptions to capture the essence of the encountered errors. Same error can occur of different causes, Arguments helps us identify the specific cause for an error using the except clause.\n",
        "\n",
        "<p align=\"justify\">It can also be used to trap multiple exceptions, by using a variable to follow the tuple of Exceptions.\n"
      ]
    },
    {
      "cell_type": "markdown",
      "metadata": {
        "id": "_jinuD6bu7SF"
      },
      "source": [
        "# **Arguments in Build-in Exceptions:**\n",
        "\n"
      ]
    },
    {
      "cell_type": "code",
      "metadata": {
        "id": "zA4Tqe0Flwvj",
        "colab": {
          "base_uri": "https://localhost:8080/"
        },
        "outputId": "182a1c40-ab45-4052-e670-02d1a89b2722"
      },
      "source": [
        "try: \n",
        "    b = float(100 + 50 / 0)\n",
        "except Exception: \n",
        "    print( 'There is error') "
      ],
      "execution_count": null,
      "outputs": [
        {
          "output_type": "stream",
          "name": "stdout",
          "text": [
            "There is error\n"
          ]
        }
      ]
    },
    {
      "cell_type": "code",
      "metadata": {
        "id": "WGHi829UtIht",
        "colab": {
          "base_uri": "https://localhost:8080/"
        },
        "outputId": "d2e63fcf-4772-4235-e951-7a6203c2e321"
      },
      "source": [
        "try: \n",
        "    b = float(100 + 50 / 0)\n",
        "except ZeroDivisionError as Argument: \n",
        "    print( 'There is error',Argument) "
      ],
      "execution_count": null,
      "outputs": [
        {
          "output_type": "stream",
          "name": "stdout",
          "text": [
            "There is error division by zero\n"
          ]
        }
      ]
    },
    {
      "cell_type": "code",
      "metadata": {
        "id": "98Z6nvq2TFP7",
        "colab": {
          "base_uri": "https://localhost:8080/"
        },
        "outputId": "62c70220-45e2-4ffd-9a91-45f1126cafbd"
      },
      "source": [
        "try: \n",
        "    b = float(100 + 50 / 0)\n",
        "except Exception as Argument: \n",
        "    print( 'There is error in your code because variable or number is divided by zero\\n', Argument) "
      ],
      "execution_count": null,
      "outputs": [
        {
          "output_type": "stream",
          "name": "stdout",
          "text": [
            "There is error in your code because variable or number is divided by zero\n",
            " division by zero\n"
          ]
        }
      ]
    },
    {
      "cell_type": "code",
      "metadata": {
        "id": "s_xVh8Rmu_5O",
        "colab": {
          "base_uri": "https://localhost:8080/"
        },
        "outputId": "11e1d3ee-092b-47fb-9a33-55cdf7e4a9f4"
      },
      "source": [
        "my_string = \"hello\"\n",
        "  \n",
        "try: \n",
        "    b = float(my_string / 20) \n",
        "except Exception as Argument: \n",
        "    print( 'There is error in your code because string variable or string donot support \"/\" operator \\n', Argument) "
      ],
      "execution_count": null,
      "outputs": [
        {
          "output_type": "stream",
          "name": "stdout",
          "text": [
            "There is error in your code because string variable or string donot support \"/\" operator \n",
            " unsupported operand type(s) for /: 'str' and 'int'\n"
          ]
        }
      ]
    },
    {
      "cell_type": "markdown",
      "metadata": {
        "id": "x6UaLjCNwjUX"
      },
      "source": [
        "# **Arguments in User-defined Exceptions:**\n",
        "\n"
      ]
    },
    {
      "cell_type": "code",
      "metadata": {
        "id": "PPC0jhJ5u_3r",
        "colab": {
          "base_uri": "https://localhost:8080/"
        },
        "outputId": "9898f399-e41d-41ad-d564-053c208882dd"
      },
      "source": [
        "class MyError(Exception):  \n",
        "    \n",
        "    # Constructor or Initializer  \n",
        "    def __init__(self, value):  \n",
        "        self.value = value  \n",
        "    \n",
        "    # __str__ is to print() the value  \n",
        "    def __str__(self):  \n",
        "        return self.value\n",
        "    \n",
        "try:  \n",
        "    raise MyError(\"Some Error Data\")  \n",
        "    \n",
        "# Value of Exception is stored in error  \n",
        "except MyError as Argument:  \n",
        "    print('This is the Argument\\n', Argument)  \n"
      ],
      "execution_count": null,
      "outputs": [
        {
          "output_type": "stream",
          "name": "stdout",
          "text": [
            "This is the Argument\n",
            " Some Error Data\n"
          ]
        }
      ]
    },
    {
      "cell_type": "code",
      "metadata": {
        "id": "1aY78p5CxNQu",
        "colab": {
          "base_uri": "https://localhost:8080/"
        },
        "outputId": "d7c50579-500f-4de7-db95-e9f87733f90e"
      },
      "source": [
        "class MyError(Exception):\n",
        "    pass  \n",
        "    \n",
        "    # Constructor or Initializer  \n",
        "    #def __init__(self, value):  \n",
        "        #self.value = value  \n",
        "    \n",
        "    # __str__ is to print() the value  \n",
        "    #def __str__(self):  \n",
        "        #return(repr(self.value))  \n",
        "    \n",
        "try:  \n",
        "    raise MyError(\"Some Error Data\")  \n",
        "    \n",
        "# Value of Exception is stored in error  \n",
        "except MyError as Argument:  \n",
        "    print('This is the Argument\\n', Argument)  \n"
      ],
      "execution_count": null,
      "outputs": [
        {
          "output_type": "stream",
          "name": "stdout",
          "text": [
            "This is the Argument\n",
            " Some Error Data\n"
          ]
        }
      ]
    }
  ]
}