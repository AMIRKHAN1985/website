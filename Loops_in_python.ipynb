{
  "nbformat": 4,
  "nbformat_minor": 0,
  "metadata": {
    "colab": {
      "name": "Loops_in_python.ipynb",
      "provenance": [],
      "collapsed_sections": []
    },
    "kernelspec": {
      "name": "python3",
      "display_name": "Python 3"
    }
  },
  "cells": [
    {
      "cell_type": "markdown",
      "metadata": {
        "id": "MDynVilqpPPa"
      },
      "source": [
        "# **Loops in Python:**\n"
      ]
    },
    {
      "cell_type": "markdown",
      "metadata": {
        "id": "jWojCqMWr13H"
      },
      "source": [
        "# **a).While Loop:**"
      ]
    },
    {
      "cell_type": "markdown",
      "metadata": {
        "id": "-RxV9ywxr8-5"
      },
      "source": [
        "**Syntax:**\n",
        "\n",
        "**While(condition)**: \n",
        "\n",
        "                statement(s)\n"
      ]
    },
    {
      "cell_type": "code",
      "metadata": {
        "id": "kMHagVeahvaA",
        "colab": {
          "base_uri": "https://localhost:8080/"
        },
        "outputId": "4a357bb2-ce32-4e02-c67b-69429af4c81c"
      },
      "source": [
        "count=0\n",
        "while (count<3):\n",
        "    count = count+1\n",
        "    print(\"hello\")\n"
      ],
      "execution_count": null,
      "outputs": [
        {
          "output_type": "stream",
          "name": "stdout",
          "text": [
            "hello\n",
            "hello\n",
            "hello\n"
          ]
        }
      ]
    },
    {
      "cell_type": "markdown",
      "metadata": {
        "id": "i1kVrH9OsgMs"
      },
      "source": [
        "**While else expression :**"
      ]
    },
    {
      "cell_type": "markdown",
      "metadata": {
        "id": "XTgNhbptCvdt"
      },
      "source": [
        "<p align=\"justify\">With the else statement we can run a block of code once when the condition no longer is true:"
      ]
    },
    {
      "cell_type": "markdown",
      "metadata": {
        "id": "UXpfXfqKsn2w"
      },
      "source": [
        "**Syntax:**\n",
        "\n",
        "**While(condition):**\n",
        "\n",
        "              statement(s)\n",
        "\n",
        "**else:**\n",
        "\n",
        "             statement(s)\n"
      ]
    },
    {
      "cell_type": "code",
      "metadata": {
        "id": "UDV8og-ahxOD",
        "colab": {
          "base_uri": "https://localhost:8080/"
        },
        "outputId": "88e4099c-6698-4427-dd32-c1e3675103c1"
      },
      "source": [
        "count=0\n",
        "while (count<3):\n",
        "    count = count+1\n",
        "    print(\"hello\")\n",
        "else:\n",
        "  #print(\"hello\")\n",
        "  print(\"In else block\")"
      ],
      "execution_count": null,
      "outputs": [
        {
          "output_type": "stream",
          "name": "stdout",
          "text": [
            "hello\n",
            "hello\n",
            "hello\n",
            "In else block\n"
          ]
        }
      ]
    },
    {
      "cell_type": "markdown",
      "metadata": {
        "id": "oYHcEKBwtC74"
      },
      "source": [
        "# b)\tFor Loop:"
      ]
    },
    {
      "cell_type": "markdown",
      "metadata": {
        "id": "3Uhm1dy5tQeJ"
      },
      "source": [
        "**a ) Using the range() Function with the for Loop**"
      ]
    },
    {
      "cell_type": "markdown",
      "metadata": {
        "id": "4skppK6itXz2"
      },
      "source": [
        "**Syntax:**\n",
        "\n",
        "**for iterator_var in sequence:**\n",
        "\n",
        "            statements(s)\n"
      ]
    },
    {
      "cell_type": "code",
      "metadata": {
        "id": "sWFqh2sTh0dI",
        "colab": {
          "base_uri": "https://localhost:8080/"
        },
        "outputId": "6dfc8e7d-8429-4a40-c8e1-5b4978d1f85e"
      },
      "source": [
        "for a in range(9):\n",
        "  print(a)"
      ],
      "execution_count": null,
      "outputs": [
        {
          "output_type": "stream",
          "name": "stdout",
          "text": [
            "0\n",
            "1\n",
            "2\n",
            "3\n",
            "4\n",
            "5\n",
            "6\n",
            "7\n",
            "8\n"
          ]
        }
      ]
    },
    {
      "cell_type": "code",
      "metadata": {
        "id": "raR86NCdL8g2",
        "colab": {
          "base_uri": "https://localhost:8080/"
        },
        "outputId": "aff2e51f-0653-4573-af69-82b6538d05c8"
      },
      "source": [
        "for a in range(2,8,2):\n",
        "  print(a)"
      ],
      "execution_count": null,
      "outputs": [
        {
          "output_type": "stream",
          "name": "stdout",
          "text": [
            "2\n",
            "4\n",
            "6\n"
          ]
        }
      ]
    },
    {
      "cell_type": "markdown",
      "metadata": {
        "id": "wL2pNVUvF_J7"
      },
      "source": [
        "**b ) Using iterable with the for Loop**"
      ]
    },
    {
      "cell_type": "code",
      "metadata": {
        "id": "_aMvR9jCL2bf",
        "colab": {
          "base_uri": "https://localhost:8080/"
        },
        "outputId": "d4baddbf-84c2-4a72-df51-c28b5ed1af53"
      },
      "source": [
        "for a in \"hello\":\n",
        "  print(a)"
      ],
      "execution_count": null,
      "outputs": [
        {
          "output_type": "stream",
          "name": "stdout",
          "text": [
            "h\n",
            "e\n",
            "l\n",
            "l\n",
            "o\n"
          ]
        }
      ]
    },
    {
      "cell_type": "markdown",
      "metadata": {
        "id": "imyobTqhupQ1"
      },
      "source": [
        "# **c) Nested  For Loops:**"
      ]
    },
    {
      "cell_type": "markdown",
      "metadata": {
        "id": "BxeOAsOLuw_b"
      },
      "source": [
        "**Syntax:**\n",
        "\n",
        "for iterator_var in sequence: \n",
        "\n",
        "       for iterator_var in sequence:\n",
        "\n",
        "                   statements(s) \n",
        "\n",
        "                   statements(s) \n"
      ]
    },
    {
      "cell_type": "code",
      "metadata": {
        "id": "7llMCclvh4ca",
        "colab": {
          "base_uri": "https://localhost:8080/"
        },
        "outputId": "9a021ce4-9296-4110-a51f-90043e2ba8ef"
      },
      "source": [
        "n=5\n",
        "b=1\n",
        "for i in range(n):\n",
        "  for j in range(b):\n",
        "    print(\"*\",end=\" \")\n",
        "  b=b+1\n",
        "  print()"
      ],
      "execution_count": null,
      "outputs": [
        {
          "output_type": "stream",
          "name": "stdout",
          "text": [
            "* \n",
            "* * \n",
            "* * * \n",
            "* * * * \n",
            "* * * * * \n"
          ]
        }
      ]
    },
    {
      "cell_type": "markdown",
      "metadata": {
        "id": "6ijp6BTYvlCn"
      },
      "source": [
        "# **Loop Control Statements:**"
      ]
    },
    {
      "cell_type": "markdown",
      "metadata": {
        "id": "WzOzofSKvxNe"
      },
      "source": [
        "**a) Continue Statement:**\n"
      ]
    },
    {
      "cell_type": "markdown",
      "metadata": {
        "id": "EN3a7n3dGudt"
      },
      "source": [
        "<p align=\"justify\">It returns the control to the next iteration of the loop."
      ]
    },
    {
      "cell_type": "code",
      "metadata": {
        "id": "hJ8FGksRh5-h",
        "colab": {
          "base_uri": "https://localhost:8080/"
        },
        "outputId": "324436b1-4ba8-4ca4-aeac-73719a89b3e3"
      },
      "source": [
        "for letter in \"helloworld\":\n",
        "  if letter == \"e\" or letter == \"w\":\n",
        "    continue\n",
        "    print(\"this line never print\")\n",
        "  print(\"current letter:\",letter)"
      ],
      "execution_count": null,
      "outputs": [
        {
          "output_type": "stream",
          "name": "stdout",
          "text": [
            "current letter: h\n",
            "current letter: l\n",
            "current letter: l\n",
            "current letter: o\n",
            "current letter: o\n",
            "current letter: r\n",
            "current letter: l\n",
            "current letter: d\n"
          ]
        }
      ]
    },
    {
      "cell_type": "markdown",
      "metadata": {
        "id": "V7m4nGrpwTqR"
      },
      "source": [
        "**b) Break Statement:**"
      ]
    },
    {
      "cell_type": "markdown",
      "metadata": {
        "id": "d_xpdxPbG-4u"
      },
      "source": [
        "<p align=\"justify\">It brings control out of the loop"
      ]
    },
    {
      "cell_type": "code",
      "metadata": {
        "id": "5GCCoFC2h70r",
        "colab": {
          "base_uri": "https://localhost:8080/"
        },
        "outputId": "7c683d64-c614-4472-8d8f-0a32c654260f"
      },
      "source": [
        "for letter in \"helloworld\":\n",
        "  if letter == \"e\" or letter == \"w\":\n",
        "    print(\"current letter:\",letter)\n",
        "    break\n",
        "  print(\"current letter:\",letter)\n",
        " "
      ],
      "execution_count": null,
      "outputs": [
        {
          "output_type": "stream",
          "name": "stdout",
          "text": [
            "current letter: h\n",
            "current letter: e\n"
          ]
        }
      ]
    },
    {
      "cell_type": "markdown",
      "metadata": {
        "id": "GKlSy8qjwkXI"
      },
      "source": [
        "**c) Pass Statement:**"
      ]
    },
    {
      "cell_type": "markdown",
      "metadata": {
        "id": "iqMRKtdVHFIb"
      },
      "source": [
        "<p align=\"justify\">We use pass statement to write empty loops. Pass is also used for empty control statement, function and classes."
      ]
    },
    {
      "cell_type": "code",
      "metadata": {
        "id": "QqD4Dt8gh9G3"
      },
      "source": [
        "for letter in \"helloworld\":\n",
        "  pass\n",
        "\n",
        " "
      ],
      "execution_count": null,
      "outputs": []
    }
  ]
}