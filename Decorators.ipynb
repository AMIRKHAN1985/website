{
  "nbformat": 4,
  "nbformat_minor": 0,
  "metadata": {
    "colab": {
      "name": "Decorators.ipynb",
      "provenance": [],
      "collapsed_sections": []
    },
    "kernelspec": {
      "name": "python3",
      "display_name": "Python 3"
    }
  },
  "cells": [
    {
      "cell_type": "markdown",
      "metadata": {
        "id": "iE32zajS4Jku"
      },
      "source": [
        "# **Decorators**"
      ]
    },
    {
      "cell_type": "markdown",
      "metadata": {
        "id": "9l9svBhC6HXn"
      },
      "source": [
        "<p align=\"justify\">Python has an interesting feature called decorators to add functionality to an existing code.This is also called metaprogramming because a part of the program tries to modify another part of the program at run time."
      ]
    },
    {
      "cell_type": "markdown",
      "metadata": {
        "id": "CxYL3AaP6c1q"
      },
      "source": [
        "**Everything in Python (Yes! Even classes), are objects.**\n",
        "**Functions are objects too (with attributes). Various different names can be bound to the same function object.**"
      ]
    },
    {
      "cell_type": "code",
      "metadata": {
        "id": "h2K8jZ4S5_8r",
        "colab": {
          "base_uri": "https://localhost:8080/"
        },
        "outputId": "28d3e87a-f959-4ba8-da91-64761b59f914"
      },
      "source": [
        "def add(msg):\n",
        "    print(msg)\n",
        "    \n",
        "add(\"Hello\")\n",
        "\n",
        "newadd = add\n",
        "newadd(\"Hello\")\n",
        "\n",
        "print(id(add))\n",
        "print(id(newadd))"
      ],
      "execution_count": null,
      "outputs": [
        {
          "output_type": "stream",
          "name": "stdout",
          "text": [
            "Hello\n",
            "Hello\n",
            "140646933048352\n",
            "140646933048352\n"
          ]
        }
      ]
    },
    {
      "cell_type": "markdown",
      "metadata": {
        "id": "w_6dv6El7BQf"
      },
      "source": [
        "# **Functions can be passed as arguments to another function.**"
      ]
    },
    {
      "cell_type": "code",
      "metadata": {
        "id": "D-5c7JIb7B4f",
        "colab": {
          "base_uri": "https://localhost:8080/"
        },
        "outputId": "ae750e6a-04fd-43fd-a797-3558ea200166"
      },
      "source": [
        "def add(x):\n",
        "    return x + 1\n",
        "\n",
        "\n",
        "def sub(x):\n",
        "    return x - 1\n",
        "\n",
        "\n",
        "def operate(func, x):\n",
        "    result = func(x)\n",
        "    return result\n",
        "\n",
        "print(operate(add,5))\n",
        "\n",
        "\n",
        "print(operate(sub,6))"
      ],
      "execution_count": null,
      "outputs": [
        {
          "output_type": "stream",
          "name": "stdout",
          "text": [
            "6\n",
            "5\n"
          ]
        }
      ]
    },
    {
      "cell_type": "markdown",
      "metadata": {
        "id": "fOQkqg568C7r"
      },
      "source": [
        "# **Function can return another function.**"
      ]
    },
    {
      "cell_type": "code",
      "metadata": {
        "id": "Dq6YBD6z8FiZ",
        "colab": {
          "base_uri": "https://localhost:8080/"
        },
        "outputId": "81965c46-8979-48ee-bc1d-0eb99e8b0b36"
      },
      "source": [
        "def is_called():\n",
        "    def is_returned():\n",
        "        print(\"Hello\")\n",
        "    return is_returned\n",
        "\n",
        "\n",
        "new = is_called()\n",
        "new()"
      ],
      "execution_count": null,
      "outputs": [
        {
          "output_type": "stream",
          "name": "stdout",
          "text": [
            "Hello\n"
          ]
        }
      ]
    },
    {
      "cell_type": "markdown",
      "metadata": {
        "id": "s-Jhw43e8qcT"
      },
      "source": [
        "<p align=\"justify\">A decorator is a callable that returns a callable.Basically, a decorator takes in a function, adds some functionality and returns it."
      ]
    },
    {
      "cell_type": "code",
      "metadata": {
        "id": "qXJUDCFU8v4f",
        "colab": {
          "base_uri": "https://localhost:8080/"
        },
        "outputId": "8ee0ae6c-664e-4822-c6d1-5a46a21de559"
      },
      "source": [
        "#decorator\n",
        "def make_dec(func):\n",
        "    def inner():\n",
        "        print(\"I got decorated\")\n",
        "        func()\n",
        "    return inner\n",
        "\n",
        "#decorating fun\n",
        "def normal():\n",
        "    print(\"I am normal\")\n",
        "    \n",
        "decorator=make_dec(normal)\n",
        "decorator()"
      ],
      "execution_count": null,
      "outputs": [
        {
          "output_type": "stream",
          "name": "stdout",
          "text": [
            "I got decorated\n",
            "I am normal\n"
          ]
        }
      ]
    },
    {
      "cell_type": "code",
      "metadata": {
        "id": "FN_EvB739ZQX",
        "colab": {
          "base_uri": "https://localhost:8080/"
        },
        "outputId": "b22d7e5b-e851-4bd2-c8a8-40b140d71d1f"
      },
      "source": [
        "#Generally, we decorate a function and reassign it\n",
        "def make_dec(func):\n",
        "    def inner():\n",
        "        print(\"I got decorated\")\n",
        "        func()\n",
        "    return inner\n",
        "\n",
        "\n",
        "def normal():\n",
        "    print(\"I am normal\")\n",
        "normal=make_dec(normal)\n",
        "normal()"
      ],
      "execution_count": null,
      "outputs": [
        {
          "output_type": "stream",
          "name": "stdout",
          "text": [
            "I got decorated\n",
            "I am normal\n"
          ]
        }
      ]
    },
    {
      "cell_type": "code",
      "metadata": {
        "id": "suAhwY0C96a8",
        "colab": {
          "base_uri": "https://localhost:8080/"
        },
        "outputId": "aa33f905-b9b8-47b4-a301-8695f6bce079"
      },
      "source": [
        "#Generally, we decorate a function and reassign it\n",
        "def make_dec(func):\n",
        "    def inner():\n",
        "        print(\"I got decorated\")\n",
        "        func()\n",
        "    return inner\n",
        "\n",
        "@make_dec\n",
        "def normal():\n",
        "    print(\"I am normal\")\n",
        "#nomal=make_dec(nomal)\n",
        "normal()\n"
      ],
      "execution_count": null,
      "outputs": [
        {
          "output_type": "stream",
          "name": "stdout",
          "text": [
            "I got decorated\n",
            "I am normal\n"
          ]
        }
      ]
    },
    {
      "cell_type": "markdown",
      "metadata": {
        "id": "vo6HGIR6-rRS"
      },
      "source": [
        "# **Decorating Functions with Parameters**"
      ]
    },
    {
      "cell_type": "code",
      "metadata": {
        "id": "FrPVeMgw-tMK",
        "colab": {
          "base_uri": "https://localhost:8080/"
        },
        "outputId": "ff7b3e15-2dd0-45e0-97c4-134949751371"
      },
      "source": [
        "def smart_divide(func):\n",
        "    def inner(a, b):\n",
        "        print(\"I am going to divide\", a, \"and\", b)\n",
        "        if b == 0:\n",
        "            print(\"Whoops! cannot divide\")\n",
        "            return\n",
        "\n",
        "        return func(a, b)\n",
        "    return inner\n",
        "\n",
        "\n",
        "\n",
        "@smart_divide\n",
        "def divide(a, b):\n",
        "    print(a/b)\n",
        "\n",
        "divide=smart_divide(divide)\n",
        "divide(2,5)"
      ],
      "execution_count": null,
      "outputs": [
        {
          "output_type": "stream",
          "name": "stdout",
          "text": [
            "I am going to divide 2 and 5\n",
            "I am going to divide 2 and 5\n",
            "0.4\n"
          ]
        }
      ]
    },
    {
      "cell_type": "markdown",
      "metadata": {
        "id": "12571Xa-Px7f"
      },
      "source": [
        "# **Multiple Decorators use for single function (Chaining decorators)**"
      ]
    },
    {
      "cell_type": "code",
      "metadata": {
        "id": "j6hIZ89qKGWv",
        "colab": {
          "base_uri": "https://localhost:8080/"
        },
        "outputId": "4f4a6fcb-0c7e-4933-a86a-458cd7b4d515"
      },
      "source": [
        "def hashstar(fun):\n",
        "    def inner1(msg):\n",
        "        print(\"#\")\n",
        "        fun(msg)\n",
        "        print(\"*\")\n",
        "    return inner1\n",
        "\n",
        "def dollpercent(fun):\n",
        "    def inner2(msg):\n",
        "        print(\"$\")\n",
        "        fun(msg)\n",
        "        print(\"%\")\n",
        "    return inner2\n",
        "\n",
        "@hashstar\n",
        "@dollpercent\n",
        "def printer(msg):\n",
        "    print(msg)\n",
        "printer=hashstar(dollpercent(printer))\n",
        "printer(\"Hello\")"
      ],
      "execution_count": null,
      "outputs": [
        {
          "output_type": "stream",
          "name": "stdout",
          "text": [
            "#\n",
            "$\n",
            "#\n",
            "$\n",
            "Hello\n",
            "%\n",
            "*\n",
            "%\n",
            "*\n"
          ]
        }
      ]
    }
  ]
}